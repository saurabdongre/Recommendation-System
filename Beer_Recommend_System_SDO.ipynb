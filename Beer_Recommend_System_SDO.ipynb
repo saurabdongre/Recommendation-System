{
 "cells": [
  {
   "cell_type": "code",
   "execution_count": 217,
   "metadata": {
    "colab": {},
    "colab_type": "code",
    "id": "rGQOJ1NMVnZa"
   },
   "outputs": [],
   "source": [
    "# import libraties\n",
    "import pandas as pd\n",
    "import numpy as np\n",
    "import matplotlib.pyplot as plt\n",
    "import seaborn as sns"
   ]
  },
  {
   "cell_type": "code",
   "execution_count": 218,
   "metadata": {
    "colab": {
     "base_uri": "https://localhost:8080/",
     "height": 74,
     "resources": {
      "http://localhost:8080/nbextensions/google.colab/files.js": {
       "data": "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",
       "headers": [
        [
         "content-type",
         "application/javascript"
        ]
       ],
       "ok": true,
       "status": 200,
       "status_text": ""
      }
     }
    },
    "colab_type": "code",
    "id": "3xLdiHx_V1ro",
    "outputId": "625acf75-585a-4f62-8a9e-d347148c4662"
   },
   "outputs": [
    {
     "data": {
      "text/plain": [
       "(475984, 3)"
      ]
     },
     "execution_count": 218,
     "metadata": {},
     "output_type": "execute_result"
    }
   ],
   "source": [
    "# import\n",
    "beer_data = pd.read_csv(\"beer_data.csv\")\n",
    "beer_data.shape"
   ]
  },
  {
   "cell_type": "code",
   "execution_count": 219,
   "metadata": {
    "colab": {},
    "colab_type": "code",
    "id": "qu0usY5FV1nO"
   },
   "outputs": [
    {
     "data": {
      "text/html": [
       "<div>\n",
       "<style scoped>\n",
       "    .dataframe tbody tr th:only-of-type {\n",
       "        vertical-align: middle;\n",
       "    }\n",
       "\n",
       "    .dataframe tbody tr th {\n",
       "        vertical-align: top;\n",
       "    }\n",
       "\n",
       "    .dataframe thead th {\n",
       "        text-align: right;\n",
       "    }\n",
       "</style>\n",
       "<table border=\"1\" class=\"dataframe\">\n",
       "  <thead>\n",
       "    <tr style=\"text-align: right;\">\n",
       "      <th></th>\n",
       "      <th>beer_beerid</th>\n",
       "      <th>review_profilename</th>\n",
       "      <th>review_overall</th>\n",
       "    </tr>\n",
       "  </thead>\n",
       "  <tbody>\n",
       "    <tr>\n",
       "      <td>0</td>\n",
       "      <td>48215</td>\n",
       "      <td>stcules</td>\n",
       "      <td>3.0</td>\n",
       "    </tr>\n",
       "    <tr>\n",
       "      <td>1</td>\n",
       "      <td>52159</td>\n",
       "      <td>oline73</td>\n",
       "      <td>3.0</td>\n",
       "    </tr>\n",
       "    <tr>\n",
       "      <td>2</td>\n",
       "      <td>52159</td>\n",
       "      <td>alpinebryant</td>\n",
       "      <td>3.0</td>\n",
       "    </tr>\n",
       "    <tr>\n",
       "      <td>3</td>\n",
       "      <td>52159</td>\n",
       "      <td>rawthar</td>\n",
       "      <td>4.0</td>\n",
       "    </tr>\n",
       "    <tr>\n",
       "      <td>4</td>\n",
       "      <td>52159</td>\n",
       "      <td>RangerClegg</td>\n",
       "      <td>3.5</td>\n",
       "    </tr>\n",
       "    <tr>\n",
       "      <td>5</td>\n",
       "      <td>58046</td>\n",
       "      <td>mikedrinksbeer2</td>\n",
       "      <td>4.5</td>\n",
       "    </tr>\n",
       "    <tr>\n",
       "      <td>6</td>\n",
       "      <td>58046</td>\n",
       "      <td>dbmernin83</td>\n",
       "      <td>4.0</td>\n",
       "    </tr>\n",
       "    <tr>\n",
       "      <td>7</td>\n",
       "      <td>58046</td>\n",
       "      <td>Blakaeris</td>\n",
       "      <td>4.5</td>\n",
       "    </tr>\n",
       "    <tr>\n",
       "      <td>8</td>\n",
       "      <td>58046</td>\n",
       "      <td>bashiba</td>\n",
       "      <td>4.5</td>\n",
       "    </tr>\n",
       "    <tr>\n",
       "      <td>9</td>\n",
       "      <td>58046</td>\n",
       "      <td>oberon</td>\n",
       "      <td>4.0</td>\n",
       "    </tr>\n",
       "  </tbody>\n",
       "</table>\n",
       "</div>"
      ],
      "text/plain": [
       "   beer_beerid review_profilename  review_overall\n",
       "0        48215            stcules             3.0\n",
       "1        52159            oline73             3.0\n",
       "2        52159       alpinebryant             3.0\n",
       "3        52159            rawthar             4.0\n",
       "4        52159        RangerClegg             3.5\n",
       "5        58046    mikedrinksbeer2             4.5\n",
       "6        58046         dbmernin83             4.0\n",
       "7        58046          Blakaeris             4.5\n",
       "8        58046            bashiba             4.5\n",
       "9        58046             oberon             4.0"
      ]
     },
     "execution_count": 219,
     "metadata": {},
     "output_type": "execute_result"
    }
   ],
   "source": [
    "# head(5) of df\n",
    "beer_data.head(10)"
   ]
  },
  {
   "cell_type": "code",
   "execution_count": 220,
   "metadata": {
    "colab": {
     "base_uri": "https://localhost:8080/",
     "height": 153
    },
    "colab_type": "code",
    "id": "MMHNe_fqVnae",
    "outputId": "0e94d1ed-6b24-4b30-cfc4-5fd293cc8dfd"
   },
   "outputs": [
    {
     "name": "stdout",
     "output_type": "stream",
     "text": [
      "<class 'pandas.core.frame.DataFrame'>\n",
      "RangeIndex: 475984 entries, 0 to 475983\n",
      "Data columns (total 3 columns):\n",
      "beer_beerid           475984 non-null int64\n",
      "review_profilename    475884 non-null object\n",
      "review_overall        475984 non-null float64\n",
      "dtypes: float64(1), int64(1), object(1)\n",
      "memory usage: 10.9+ MB\n"
     ]
    }
   ],
   "source": [
    "#info\n",
    "beer_data.info()"
   ]
  },
  {
   "cell_type": "code",
   "execution_count": 221,
   "metadata": {
    "colab": {
     "base_uri": "https://localhost:8080/",
     "height": 297
    },
    "colab_type": "code",
    "id": "fAN3WyOgVnas",
    "outputId": "f8e9561f-2bd9-4001-a477-0b4f1b47ff26"
   },
   "outputs": [
    {
     "data": {
      "text/html": [
       "<div>\n",
       "<style scoped>\n",
       "    .dataframe tbody tr th:only-of-type {\n",
       "        vertical-align: middle;\n",
       "    }\n",
       "\n",
       "    .dataframe tbody tr th {\n",
       "        vertical-align: top;\n",
       "    }\n",
       "\n",
       "    .dataframe thead th {\n",
       "        text-align: right;\n",
       "    }\n",
       "</style>\n",
       "<table border=\"1\" class=\"dataframe\">\n",
       "  <thead>\n",
       "    <tr style=\"text-align: right;\">\n",
       "      <th></th>\n",
       "      <th>beer_beerid</th>\n",
       "      <th>review_overall</th>\n",
       "    </tr>\n",
       "  </thead>\n",
       "  <tbody>\n",
       "    <tr>\n",
       "      <td>count</td>\n",
       "      <td>475984.000000</td>\n",
       "      <td>475984.000000</td>\n",
       "    </tr>\n",
       "    <tr>\n",
       "      <td>mean</td>\n",
       "      <td>21660.550611</td>\n",
       "      <td>3.814827</td>\n",
       "    </tr>\n",
       "    <tr>\n",
       "      <td>std</td>\n",
       "      <td>21793.437326</td>\n",
       "      <td>0.720411</td>\n",
       "    </tr>\n",
       "    <tr>\n",
       "      <td>min</td>\n",
       "      <td>3.000000</td>\n",
       "      <td>0.000000</td>\n",
       "    </tr>\n",
       "    <tr>\n",
       "      <td>25%</td>\n",
       "      <td>1716.000000</td>\n",
       "      <td>3.500000</td>\n",
       "    </tr>\n",
       "    <tr>\n",
       "      <td>50%</td>\n",
       "      <td>13892.000000</td>\n",
       "      <td>4.000000</td>\n",
       "    </tr>\n",
       "    <tr>\n",
       "      <td>75%</td>\n",
       "      <td>39397.000000</td>\n",
       "      <td>4.500000</td>\n",
       "    </tr>\n",
       "    <tr>\n",
       "      <td>max</td>\n",
       "      <td>77317.000000</td>\n",
       "      <td>5.000000</td>\n",
       "    </tr>\n",
       "  </tbody>\n",
       "</table>\n",
       "</div>"
      ],
      "text/plain": [
       "         beer_beerid  review_overall\n",
       "count  475984.000000   475984.000000\n",
       "mean    21660.550611        3.814827\n",
       "std     21793.437326        0.720411\n",
       "min         3.000000        0.000000\n",
       "25%      1716.000000        3.500000\n",
       "50%     13892.000000        4.000000\n",
       "75%     39397.000000        4.500000\n",
       "max     77317.000000        5.000000"
      ]
     },
     "execution_count": 221,
     "metadata": {},
     "output_type": "execute_result"
    }
   ],
   "source": [
    "# details\n",
    "beer_data.describe()"
   ]
  },
  {
   "cell_type": "markdown",
   "metadata": {
    "colab_type": "text",
    "id": "da23cNB4Vna9"
   },
   "source": [
    "#### Initial steps as usual:\n",
    "### Data Cleaning"
   ]
  },
  {
   "cell_type": "code",
   "execution_count": 222,
   "metadata": {
    "colab": {},
    "colab_type": "code",
    "id": "vbNoyZTrVnbB"
   },
   "outputs": [],
   "source": [
    "# column name looks bizzar to me, can use the beer_beerid as well but beerid will do for me, hence renmaing it\n",
    "beer_data.rename(columns={'beer_beerid' : 'beerid'},inplace = True)"
   ]
  },
  {
   "cell_type": "code",
   "execution_count": 223,
   "metadata": {
    "colab": {
     "base_uri": "https://localhost:8080/",
     "height": 85
    },
    "colab_type": "code",
    "id": "j6crjxEOVnbK",
    "outputId": "a3f2cf65-a1a0-491b-aafb-f57542b441db"
   },
   "outputs": [
    {
     "data": {
      "text/plain": [
       "beerid                  0\n",
       "review_profilename    100\n",
       "review_overall          0\n",
       "dtype: int64"
      ]
     },
     "execution_count": 223,
     "metadata": {},
     "output_type": "execute_result"
    }
   ],
   "source": [
    "# checking all the nulls\n",
    "beer_data.isnull().sum()"
   ]
  },
  {
   "cell_type": "code",
   "execution_count": 224,
   "metadata": {
    "colab": {
     "base_uri": "https://localhost:8080/",
     "height": 85
    },
    "colab_type": "code",
    "id": "-oJX-wTnVnbX",
    "outputId": "35a9f00f-64d4-46da-f89d-3b401fa87e36"
   },
   "outputs": [
    {
     "data": {
      "text/plain": [
       "beerid                0.00\n",
       "review_profilename    0.02\n",
       "review_overall        0.00\n",
       "dtype: float64"
      ]
     },
     "execution_count": 224,
     "metadata": {},
     "output_type": "execute_result"
    }
   ],
   "source": [
    "# percent if NAs\n",
    "round(100*(beer_data.isnull().sum()/len(beer_data.index)), 2)"
   ]
  },
  {
   "cell_type": "code",
   "execution_count": 225,
   "metadata": {
    "colab": {},
    "colab_type": "code",
    "id": "wH1DH_RpVnbk"
   },
   "outputs": [],
   "source": [
    "beer_data = beer_data[~pd.isnull(beer_data['review_profilename'])]"
   ]
  },
  {
   "cell_type": "code",
   "execution_count": 226,
   "metadata": {},
   "outputs": [
    {
     "data": {
      "text/plain": [
       "beerid                0.0\n",
       "review_profilename    0.0\n",
       "review_overall        0.0\n",
       "dtype: float64"
      ]
     },
     "execution_count": 226,
     "metadata": {},
     "output_type": "execute_result"
    }
   ],
   "source": [
    "# dealth with'em:)\n",
    "round(100*(beer_data.isnull().sum()/len(beer_data.index)), 2)"
   ]
  },
  {
   "cell_type": "code",
   "execution_count": 227,
   "metadata": {
    "colab": {
     "base_uri": "https://localhost:8080/",
     "height": 34
    },
    "colab_type": "code",
    "id": "5PifZhAMVnb8",
    "outputId": "22abfa88-20a0-4170-89bf-ad3d11eb6a45"
   },
   "outputs": [
    {
     "data": {
      "text/plain": [
       "1422"
      ]
     },
     "execution_count": 227,
     "metadata": {},
     "output_type": "execute_result"
    }
   ],
   "source": [
    "# duplicates?\n",
    "beer_data.duplicated(['beerid','review_profilename']).sum()"
   ]
  },
  {
   "cell_type": "code",
   "execution_count": 228,
   "metadata": {
    "colab": {},
    "colab_type": "code",
    "id": "Bma_2gdAVncP"
   },
   "outputs": [],
   "source": [
    "#well there are some, no harm in dropping them up. lets do it\n",
    "beer_data = beer_data.drop_duplicates(['beerid','review_profilename'],keep='first')"
   ]
  },
  {
   "cell_type": "code",
   "execution_count": 229,
   "metadata": {
    "colab": {},
    "colab_type": "code",
    "id": "mbVV_t03Vncb"
   },
   "outputs": [
    {
     "data": {
      "text/plain": [
       "0"
      ]
     },
     "execution_count": 229,
     "metadata": {},
     "output_type": "execute_result"
    }
   ],
   "source": [
    "# duplicates == 0 yep we did it\n",
    "beer_data.duplicated(['beerid','review_profilename']).sum()"
   ]
  },
  {
   "cell_type": "markdown",
   "metadata": {
    "colab_type": "text",
    "id": "sGYe6JVoVncj"
   },
   "source": [
    "### Data Preparation"
   ]
  },
  {
   "cell_type": "code",
   "execution_count": 230,
   "metadata": {
    "colab": {
     "base_uri": "https://localhost:8080/",
     "height": 68
    },
    "colab_type": "code",
    "id": "Y8HuQzvPVncp",
    "outputId": "26a84ffa-7fcf-4931-8c0b-11ecbc629366"
   },
   "outputs": [],
   "source": [
    "# Choosing only the beers that have at least N number of reviews present\n",
    "nReviewBeer = beer_data.groupby('beerid')['review_overall'].count().reset_index()"
   ]
  },
  {
   "cell_type": "code",
   "execution_count": 231,
   "metadata": {},
   "outputs": [
    {
     "data": {
      "text/plain": [
       "beerid            40304\n",
       "review_overall    40304\n",
       "dtype: int64"
      ]
     },
     "execution_count": 231,
     "metadata": {},
     "output_type": "execute_result"
    }
   ],
   "source": [
    "nReviewBeer.count()"
   ]
  },
  {
   "cell_type": "code",
   "execution_count": 232,
   "metadata": {
    "colab": {
     "base_uri": "https://localhost:8080/",
     "height": 204
    },
    "colab_type": "code",
    "id": "quRagoPBVnc6",
    "outputId": "e9f8afe1-1899-4ac4-c725-b9c8ec47d4eb",
    "scrolled": true
   },
   "outputs": [
    {
     "data": {
      "text/html": [
       "<div>\n",
       "<style scoped>\n",
       "    .dataframe tbody tr th:only-of-type {\n",
       "        vertical-align: middle;\n",
       "    }\n",
       "\n",
       "    .dataframe tbody tr th {\n",
       "        vertical-align: top;\n",
       "    }\n",
       "\n",
       "    .dataframe thead th {\n",
       "        text-align: right;\n",
       "    }\n",
       "</style>\n",
       "<table border=\"1\" class=\"dataframe\">\n",
       "  <thead>\n",
       "    <tr style=\"text-align: right;\">\n",
       "      <th></th>\n",
       "      <th>beerid</th>\n",
       "      <th>review_overall</th>\n",
       "    </tr>\n",
       "  </thead>\n",
       "  <tbody>\n",
       "    <tr>\n",
       "      <td>1574</td>\n",
       "      <td>2093</td>\n",
       "      <td>977</td>\n",
       "    </tr>\n",
       "    <tr>\n",
       "      <td>338</td>\n",
       "      <td>412</td>\n",
       "      <td>966</td>\n",
       "    </tr>\n",
       "    <tr>\n",
       "      <td>1427</td>\n",
       "      <td>1904</td>\n",
       "      <td>902</td>\n",
       "    </tr>\n",
       "    <tr>\n",
       "      <td>818</td>\n",
       "      <td>1093</td>\n",
       "      <td>840</td>\n",
       "    </tr>\n",
       "    <tr>\n",
       "      <td>78</td>\n",
       "      <td>92</td>\n",
       "      <td>812</td>\n",
       "    </tr>\n",
       "  </tbody>\n",
       "</table>\n",
       "</div>"
      ],
      "text/plain": [
       "      beerid  review_overall\n",
       "1574    2093             977\n",
       "338      412             966\n",
       "1427    1904             902\n",
       "818     1093             840\n",
       "78        92             812"
      ]
     },
     "execution_count": 232,
     "metadata": {},
     "output_type": "execute_result"
    }
   ],
   "source": [
    "# sorting them by reviews\n",
    "nReviewBeer.sort_values('review_overall', ascending=False).head(5)\n"
   ]
  },
  {
   "cell_type": "code",
   "execution_count": 233,
   "metadata": {},
   "outputs": [
    {
     "data": {
      "text/html": [
       "<div>\n",
       "<style scoped>\n",
       "    .dataframe tbody tr th:only-of-type {\n",
       "        vertical-align: middle;\n",
       "    }\n",
       "\n",
       "    .dataframe tbody tr th {\n",
       "        vertical-align: top;\n",
       "    }\n",
       "\n",
       "    .dataframe thead th {\n",
       "        text-align: right;\n",
       "    }\n",
       "</style>\n",
       "<table border=\"1\" class=\"dataframe\">\n",
       "  <thead>\n",
       "    <tr style=\"text-align: right;\">\n",
       "      <th></th>\n",
       "      <th>beerid</th>\n",
       "      <th>review_overall</th>\n",
       "    </tr>\n",
       "  </thead>\n",
       "  <tbody>\n",
       "    <tr>\n",
       "      <td>20151</td>\n",
       "      <td>37366</td>\n",
       "      <td>1</td>\n",
       "    </tr>\n",
       "    <tr>\n",
       "      <td>23276</td>\n",
       "      <td>43195</td>\n",
       "      <td>1</td>\n",
       "    </tr>\n",
       "    <tr>\n",
       "      <td>23275</td>\n",
       "      <td>43194</td>\n",
       "      <td>1</td>\n",
       "    </tr>\n",
       "    <tr>\n",
       "      <td>23274</td>\n",
       "      <td>43191</td>\n",
       "      <td>1</td>\n",
       "    </tr>\n",
       "    <tr>\n",
       "      <td>23273</td>\n",
       "      <td>43190</td>\n",
       "      <td>1</td>\n",
       "    </tr>\n",
       "  </tbody>\n",
       "</table>\n",
       "</div>"
      ],
      "text/plain": [
       "       beerid  review_overall\n",
       "20151   37366               1\n",
       "23276   43195               1\n",
       "23275   43194               1\n",
       "23274   43191               1\n",
       "23273   43190               1"
      ]
     },
     "execution_count": 233,
     "metadata": {},
     "output_type": "execute_result"
    }
   ],
   "source": [
    "# sorting them by reviews\n",
    "nReviewBeer.sort_values('review_overall', ascending=True).head(5)"
   ]
  },
  {
   "cell_type": "markdown",
   "metadata": {
    "colab_type": "text",
    "id": "QE6I-NBjVndV"
   },
   "source": [
    "#### Looks like we have reviews from 1 to 977, beerid -- 2093 have highest number of reviews(977), pretty popular?."
   ]
  },
  {
   "cell_type": "code",
   "execution_count": 234,
   "metadata": {
    "colab": {
     "base_uri": "https://localhost:8080/",
     "height": 297
    },
    "colab_type": "code",
    "id": "dWAkiBhzVnda",
    "outputId": "5e6fff66-1bc0-46c1-fb82-5e6d2018d8fa"
   },
   "outputs": [
    {
     "data": {
      "text/html": [
       "<div>\n",
       "<style scoped>\n",
       "    .dataframe tbody tr th:only-of-type {\n",
       "        vertical-align: middle;\n",
       "    }\n",
       "\n",
       "    .dataframe tbody tr th {\n",
       "        vertical-align: top;\n",
       "    }\n",
       "\n",
       "    .dataframe thead th {\n",
       "        text-align: right;\n",
       "    }\n",
       "</style>\n",
       "<table border=\"1\" class=\"dataframe\">\n",
       "  <thead>\n",
       "    <tr style=\"text-align: right;\">\n",
       "      <th></th>\n",
       "      <th>beerid</th>\n",
       "      <th>review_overall</th>\n",
       "    </tr>\n",
       "  </thead>\n",
       "  <tbody>\n",
       "    <tr>\n",
       "      <td>count</td>\n",
       "      <td>40304.000000</td>\n",
       "      <td>40304.000000</td>\n",
       "    </tr>\n",
       "    <tr>\n",
       "      <td>mean</td>\n",
       "      <td>36973.166460</td>\n",
       "      <td>11.772082</td>\n",
       "    </tr>\n",
       "    <tr>\n",
       "      <td>std</td>\n",
       "      <td>22544.756432</td>\n",
       "      <td>41.888449</td>\n",
       "    </tr>\n",
       "    <tr>\n",
       "      <td>min</td>\n",
       "      <td>3.000000</td>\n",
       "      <td>1.000000</td>\n",
       "    </tr>\n",
       "    <tr>\n",
       "      <td>25%</td>\n",
       "      <td>16879.750000</td>\n",
       "      <td>1.000000</td>\n",
       "    </tr>\n",
       "    <tr>\n",
       "      <td>50%</td>\n",
       "      <td>37366.500000</td>\n",
       "      <td>2.000000</td>\n",
       "    </tr>\n",
       "    <tr>\n",
       "      <td>75%</td>\n",
       "      <td>56233.500000</td>\n",
       "      <td>5.000000</td>\n",
       "    </tr>\n",
       "    <tr>\n",
       "      <td>max</td>\n",
       "      <td>77317.000000</td>\n",
       "      <td>977.000000</td>\n",
       "    </tr>\n",
       "  </tbody>\n",
       "</table>\n",
       "</div>"
      ],
      "text/plain": [
       "             beerid  review_overall\n",
       "count  40304.000000    40304.000000\n",
       "mean   36973.166460       11.772082\n",
       "std    22544.756432       41.888449\n",
       "min        3.000000        1.000000\n",
       "25%    16879.750000        1.000000\n",
       "50%    37366.500000        2.000000\n",
       "75%    56233.500000        5.000000\n",
       "max    77317.000000      977.000000"
      ]
     },
     "execution_count": 234,
     "metadata": {},
     "output_type": "execute_result"
    }
   ],
   "source": [
    "nReviewBeer.describe()"
   ]
  },
  {
   "cell_type": "code",
   "execution_count": 235,
   "metadata": {
    "colab": {
     "base_uri": "https://localhost:8080/",
     "height": 68
    },
    "colab_type": "code",
    "id": "hTDslesYVnd0",
    "outputId": "9eb90ff5-c97a-46f7-8262-50c810bbe1d7"
   },
   "outputs": [],
   "source": [
    "# now lets work on the users, for starters lets get the distinct number of them\n",
    "distinct_users = beer_data.groupby('review_profilename')['review_overall'].count().reset_index()"
   ]
  },
  {
   "cell_type": "code",
   "execution_count": 236,
   "metadata": {},
   "outputs": [
    {
     "data": {
      "text/plain": [
       "review_profilename    22497\n",
       "review_overall        22497\n",
       "dtype: int64"
      ]
     },
     "execution_count": 236,
     "metadata": {},
     "output_type": "execute_result"
    }
   ],
   "source": [
    "distinct_users.count()"
   ]
  },
  {
   "cell_type": "code",
   "execution_count": 237,
   "metadata": {
    "colab": {
     "base_uri": "https://localhost:8080/",
     "height": 204
    },
    "colab_type": "code",
    "id": "OC_O83Q9VneO",
    "outputId": "f763b491-984b-437f-bd6c-c551bfca5644"
   },
   "outputs": [
    {
     "data": {
      "text/html": [
       "<div>\n",
       "<style scoped>\n",
       "    .dataframe tbody tr th:only-of-type {\n",
       "        vertical-align: middle;\n",
       "    }\n",
       "\n",
       "    .dataframe tbody tr th {\n",
       "        vertical-align: top;\n",
       "    }\n",
       "\n",
       "    .dataframe thead th {\n",
       "        text-align: right;\n",
       "    }\n",
       "</style>\n",
       "<table border=\"1\" class=\"dataframe\">\n",
       "  <thead>\n",
       "    <tr style=\"text-align: right;\">\n",
       "      <th></th>\n",
       "      <th>review_profilename</th>\n",
       "      <th>review_overall</th>\n",
       "    </tr>\n",
       "  </thead>\n",
       "  <tbody>\n",
       "    <tr>\n",
       "      <td>18188</td>\n",
       "      <td>northyorksammy</td>\n",
       "      <td>1842</td>\n",
       "    </tr>\n",
       "    <tr>\n",
       "      <td>17373</td>\n",
       "      <td>mikesgroove</td>\n",
       "      <td>1373</td>\n",
       "    </tr>\n",
       "    <tr>\n",
       "      <td>1629</td>\n",
       "      <td>BuckeyeNation</td>\n",
       "      <td>1336</td>\n",
       "    </tr>\n",
       "    <tr>\n",
       "      <td>8470</td>\n",
       "      <td>Thorpe429</td>\n",
       "      <td>1072</td>\n",
       "    </tr>\n",
       "    <tr>\n",
       "      <td>1910</td>\n",
       "      <td>ChainGangGuy</td>\n",
       "      <td>1046</td>\n",
       "    </tr>\n",
       "  </tbody>\n",
       "</table>\n",
       "</div>"
      ],
      "text/plain": [
       "      review_profilename  review_overall\n",
       "18188     northyorksammy            1842\n",
       "17373        mikesgroove            1373\n",
       "1629       BuckeyeNation            1336\n",
       "8470           Thorpe429            1072\n",
       "1910        ChainGangGuy            1046"
      ]
     },
     "execution_count": 237,
     "metadata": {},
     "output_type": "execute_result"
    }
   ],
   "source": [
    "# users review\n",
    "distinct_users.sort_values('review_overall', ascending=False).head(5)"
   ]
  },
  {
   "cell_type": "code",
   "execution_count": 238,
   "metadata": {},
   "outputs": [
    {
     "data": {
      "text/html": [
       "<div>\n",
       "<style scoped>\n",
       "    .dataframe tbody tr th:only-of-type {\n",
       "        vertical-align: middle;\n",
       "    }\n",
       "\n",
       "    .dataframe tbody tr th {\n",
       "        vertical-align: top;\n",
       "    }\n",
       "\n",
       "    .dataframe thead th {\n",
       "        text-align: right;\n",
       "    }\n",
       "</style>\n",
       "<table border=\"1\" class=\"dataframe\">\n",
       "  <thead>\n",
       "    <tr style=\"text-align: right;\">\n",
       "      <th></th>\n",
       "      <th>review_profilename</th>\n",
       "      <th>review_overall</th>\n",
       "    </tr>\n",
       "  </thead>\n",
       "  <tbody>\n",
       "    <tr>\n",
       "      <td>22496</td>\n",
       "      <td>zzajjber</td>\n",
       "      <td>1</td>\n",
       "    </tr>\n",
       "    <tr>\n",
       "      <td>6122</td>\n",
       "      <td>Nbarag</td>\n",
       "      <td>1</td>\n",
       "    </tr>\n",
       "    <tr>\n",
       "      <td>14214</td>\n",
       "      <td>gumushie</td>\n",
       "      <td>1</td>\n",
       "    </tr>\n",
       "    <tr>\n",
       "      <td>14215</td>\n",
       "      <td>gun1now</td>\n",
       "      <td>1</td>\n",
       "    </tr>\n",
       "    <tr>\n",
       "      <td>14216</td>\n",
       "      <td>gungorr</td>\n",
       "      <td>1</td>\n",
       "    </tr>\n",
       "  </tbody>\n",
       "</table>\n",
       "</div>"
      ],
      "text/plain": [
       "      review_profilename  review_overall\n",
       "22496           zzajjber               1\n",
       "6122              Nbarag               1\n",
       "14214           gumushie               1\n",
       "14215            gun1now               1\n",
       "14216            gungorr               1"
      ]
     },
     "execution_count": 238,
     "metadata": {},
     "output_type": "execute_result"
    }
   ],
   "source": [
    "distinct_users.sort_values('review_overall', ascending=True).head(5)"
   ]
  },
  {
   "cell_type": "markdown",
   "metadata": {
    "colab_type": "text",
    "id": "EglzhA_pVnek"
   },
   "source": [
    "#### Max reviews comes from user_name :  \"northyorksammy\" that is -- 1842; impressive?"
   ]
  },
  {
   "cell_type": "markdown",
   "metadata": {},
   "source": [
    "#### Lets plot some graphs as asked in the problem statement, also these will be helpful in determining N"
   ]
  },
  {
   "cell_type": "code",
   "execution_count": 239,
   "metadata": {
    "colab": {
     "base_uri": "https://localhost:8080/",
     "height": 283
    },
    "colab_type": "code",
    "id": "YLqE1g13Vnen",
    "outputId": "a550ffe3-bc6e-45fd-b455-df9a35a2efab",
    "scrolled": true
   },
   "outputs": [
    {
     "data": {
      "image/png": "[encoded data removed]",
      "text/plain": [
       "<Figure size 432x288 with 1 Axes>"
      ]
     },
     "metadata": {
      "needs_background": "light"
     },
     "output_type": "display_data"
    }
   ],
   "source": [
    "plt.hist(distinct_users['review_overall'], bins=10)\n",
    "plt.grid(axis='x', alpha=0.20)\n",
    "plt.grid(axis='y', alpha=0.20)\n",
    "plt.xlabel('Total Reviews')\n",
    "plt.ylabel('Total Count')\n",
    "plt.show()\n"
   ]
  },
  {
   "cell_type": "markdown",
   "metadata": {},
   "source": [
    "##### huge steep at the first bracket, lets break them down a bit"
   ]
  },
  {
   "cell_type": "code",
   "execution_count": 240,
   "metadata": {
    "colab": {
     "base_uri": "https://localhost:8080/",
     "height": 51
    },
    "colab_type": "code",
    "id": "HcV37XxGVney",
    "outputId": "68f95fe7-a2b6-49d8-d875-069b2918b83a"
   },
   "outputs": [
    {
     "data": {
      "text/plain": [
       "1    18080\n",
       "Name: review_overall, dtype: int64"
      ]
     },
     "execution_count": 240,
     "metadata": {},
     "output_type": "execute_result"
    }
   ],
   "source": [
    "# starting from the top; lets checka ll the reviews overall\n",
    "nReviewBeer.review_overall[nReviewBeer.review_overall == 1].value_counts()"
   ]
  },
  {
   "cell_type": "markdown",
   "metadata": {
    "colab_type": "text",
    "id": "h1OVQ8l3VnfA"
   },
   "source": [
    "##### thats a huge number, now createing a  separate DF with frequency of count of reviews; to get all the counts handy"
   ]
  },
  {
   "cell_type": "code",
   "execution_count": 241,
   "metadata": {
    "colab": {
     "base_uri": "https://localhost:8080/",
     "height": 824
    },
    "colab_type": "code",
    "id": "Z1_uX8kkVnfE",
    "outputId": "6b6406e5-250f-4fa3-94a1-c2bf20c7493d"
   },
   "outputs": [
    {
     "data": {
      "text/html": [
       "<div>\n",
       "<style scoped>\n",
       "    .dataframe tbody tr th:only-of-type {\n",
       "        vertical-align: middle;\n",
       "    }\n",
       "\n",
       "    .dataframe tbody tr th {\n",
       "        vertical-align: top;\n",
       "    }\n",
       "\n",
       "    .dataframe thead th {\n",
       "        text-align: right;\n",
       "    }\n",
       "</style>\n",
       "<table border=\"1\" class=\"dataframe\">\n",
       "  <thead>\n",
       "    <tr style=\"text-align: right;\">\n",
       "      <th></th>\n",
       "      <th>review_overall</th>\n",
       "      <th>beerid</th>\n",
       "    </tr>\n",
       "  </thead>\n",
       "  <tbody>\n",
       "    <tr>\n",
       "      <td>0</td>\n",
       "      <td>1</td>\n",
       "      <td>18080</td>\n",
       "    </tr>\n",
       "    <tr>\n",
       "      <td>1</td>\n",
       "      <td>2</td>\n",
       "      <td>6183</td>\n",
       "    </tr>\n",
       "    <tr>\n",
       "      <td>2</td>\n",
       "      <td>3</td>\n",
       "      <td>3079</td>\n",
       "    </tr>\n",
       "    <tr>\n",
       "      <td>3</td>\n",
       "      <td>4</td>\n",
       "      <td>1895</td>\n",
       "    </tr>\n",
       "    <tr>\n",
       "      <td>4</td>\n",
       "      <td>5</td>\n",
       "      <td>1350</td>\n",
       "    </tr>\n",
       "    <tr>\n",
       "      <td>5</td>\n",
       "      <td>6</td>\n",
       "      <td>959</td>\n",
       "    </tr>\n",
       "    <tr>\n",
       "      <td>6</td>\n",
       "      <td>7</td>\n",
       "      <td>785</td>\n",
       "    </tr>\n",
       "    <tr>\n",
       "      <td>7</td>\n",
       "      <td>8</td>\n",
       "      <td>556</td>\n",
       "    </tr>\n",
       "    <tr>\n",
       "      <td>8</td>\n",
       "      <td>9</td>\n",
       "      <td>478</td>\n",
       "    </tr>\n",
       "    <tr>\n",
       "      <td>9</td>\n",
       "      <td>10</td>\n",
       "      <td>401</td>\n",
       "    </tr>\n",
       "    <tr>\n",
       "      <td>10</td>\n",
       "      <td>11</td>\n",
       "      <td>388</td>\n",
       "    </tr>\n",
       "    <tr>\n",
       "      <td>11</td>\n",
       "      <td>12</td>\n",
       "      <td>346</td>\n",
       "    </tr>\n",
       "    <tr>\n",
       "      <td>12</td>\n",
       "      <td>13</td>\n",
       "      <td>295</td>\n",
       "    </tr>\n",
       "    <tr>\n",
       "      <td>13</td>\n",
       "      <td>14</td>\n",
       "      <td>256</td>\n",
       "    </tr>\n",
       "    <tr>\n",
       "      <td>14</td>\n",
       "      <td>15</td>\n",
       "      <td>242</td>\n",
       "    </tr>\n",
       "    <tr>\n",
       "      <td>15</td>\n",
       "      <td>16</td>\n",
       "      <td>202</td>\n",
       "    </tr>\n",
       "    <tr>\n",
       "      <td>16</td>\n",
       "      <td>17</td>\n",
       "      <td>183</td>\n",
       "    </tr>\n",
       "    <tr>\n",
       "      <td>17</td>\n",
       "      <td>18</td>\n",
       "      <td>162</td>\n",
       "    </tr>\n",
       "    <tr>\n",
       "      <td>18</td>\n",
       "      <td>19</td>\n",
       "      <td>213</td>\n",
       "    </tr>\n",
       "    <tr>\n",
       "      <td>19</td>\n",
       "      <td>20</td>\n",
       "      <td>148</td>\n",
       "    </tr>\n",
       "  </tbody>\n",
       "</table>\n",
       "</div>"
      ],
      "text/plain": [
       "    review_overall  beerid\n",
       "0                1   18080\n",
       "1                2    6183\n",
       "2                3    3079\n",
       "3                4    1895\n",
       "4                5    1350\n",
       "5                6     959\n",
       "6                7     785\n",
       "7                8     556\n",
       "8                9     478\n",
       "9               10     401\n",
       "10              11     388\n",
       "11              12     346\n",
       "12              13     295\n",
       "13              14     256\n",
       "14              15     242\n",
       "15              16     202\n",
       "16              17     183\n",
       "17              18     162\n",
       "18              19     213\n",
       "19              20     148"
      ]
     },
     "execution_count": 241,
     "metadata": {},
     "output_type": "execute_result"
    }
   ],
   "source": [
    "nReviewBeer_frequency = nReviewBeer.groupby('review_overall').count().reset_index()\n",
    "nReviewBeer_frequency.head(20)"
   ]
  },
  {
   "cell_type": "code",
   "execution_count": 242,
   "metadata": {
    "colab": {
     "base_uri": "https://localhost:8080/",
     "height": 824
    },
    "colab_type": "code",
    "id": "BzFeIndsVnfP",
    "outputId": "7f587840-ed7d-4652-ce88-0988479b4caf"
   },
   "outputs": [
    {
     "data": {
      "text/html": [
       "<div>\n",
       "<style scoped>\n",
       "    .dataframe tbody tr th:only-of-type {\n",
       "        vertical-align: middle;\n",
       "    }\n",
       "\n",
       "    .dataframe tbody tr th {\n",
       "        vertical-align: top;\n",
       "    }\n",
       "\n",
       "    .dataframe thead th {\n",
       "        text-align: right;\n",
       "    }\n",
       "</style>\n",
       "<table border=\"1\" class=\"dataframe\">\n",
       "  <thead>\n",
       "    <tr style=\"text-align: right;\">\n",
       "      <th></th>\n",
       "      <th>beerid</th>\n",
       "      <th>review_overall</th>\n",
       "    </tr>\n",
       "  </thead>\n",
       "  <tbody>\n",
       "    <tr>\n",
       "      <td>2</td>\n",
       "      <td>5</td>\n",
       "      <td>113</td>\n",
       "    </tr>\n",
       "    <tr>\n",
       "      <td>3</td>\n",
       "      <td>6</td>\n",
       "      <td>253</td>\n",
       "    </tr>\n",
       "    <tr>\n",
       "      <td>4</td>\n",
       "      <td>7</td>\n",
       "      <td>205</td>\n",
       "    </tr>\n",
       "    <tr>\n",
       "      <td>5</td>\n",
       "      <td>8</td>\n",
       "      <td>23</td>\n",
       "    </tr>\n",
       "    <tr>\n",
       "      <td>6</td>\n",
       "      <td>9</td>\n",
       "      <td>33</td>\n",
       "    </tr>\n",
       "    <tr>\n",
       "      <td>7</td>\n",
       "      <td>10</td>\n",
       "      <td>218</td>\n",
       "    </tr>\n",
       "    <tr>\n",
       "      <td>8</td>\n",
       "      <td>11</td>\n",
       "      <td>28</td>\n",
       "    </tr>\n",
       "    <tr>\n",
       "      <td>9</td>\n",
       "      <td>12</td>\n",
       "      <td>25</td>\n",
       "    </tr>\n",
       "    <tr>\n",
       "      <td>10</td>\n",
       "      <td>13</td>\n",
       "      <td>24</td>\n",
       "    </tr>\n",
       "    <tr>\n",
       "      <td>11</td>\n",
       "      <td>14</td>\n",
       "      <td>59</td>\n",
       "    </tr>\n",
       "    <tr>\n",
       "      <td>12</td>\n",
       "      <td>15</td>\n",
       "      <td>54</td>\n",
       "    </tr>\n",
       "    <tr>\n",
       "      <td>14</td>\n",
       "      <td>17</td>\n",
       "      <td>241</td>\n",
       "    </tr>\n",
       "    <tr>\n",
       "      <td>16</td>\n",
       "      <td>19</td>\n",
       "      <td>166</td>\n",
       "    </tr>\n",
       "    <tr>\n",
       "      <td>17</td>\n",
       "      <td>20</td>\n",
       "      <td>12</td>\n",
       "    </tr>\n",
       "    <tr>\n",
       "      <td>18</td>\n",
       "      <td>21</td>\n",
       "      <td>22</td>\n",
       "    </tr>\n",
       "    <tr>\n",
       "      <td>19</td>\n",
       "      <td>23</td>\n",
       "      <td>34</td>\n",
       "    </tr>\n",
       "    <tr>\n",
       "      <td>20</td>\n",
       "      <td>24</td>\n",
       "      <td>19</td>\n",
       "    </tr>\n",
       "    <tr>\n",
       "      <td>21</td>\n",
       "      <td>26</td>\n",
       "      <td>17</td>\n",
       "    </tr>\n",
       "    <tr>\n",
       "      <td>22</td>\n",
       "      <td>27</td>\n",
       "      <td>11</td>\n",
       "    </tr>\n",
       "    <tr>\n",
       "      <td>23</td>\n",
       "      <td>29</td>\n",
       "      <td>22</td>\n",
       "    </tr>\n",
       "  </tbody>\n",
       "</table>\n",
       "</div>"
      ],
      "text/plain": [
       "    beerid  review_overall\n",
       "2        5             113\n",
       "3        6             253\n",
       "4        7             205\n",
       "5        8              23\n",
       "6        9              33\n",
       "7       10             218\n",
       "8       11              28\n",
       "9       12              25\n",
       "10      13              24\n",
       "11      14              59\n",
       "12      15              54\n",
       "14      17             241\n",
       "16      19             166\n",
       "17      20              12\n",
       "18      21              22\n",
       "19      23              34\n",
       "20      24              19\n",
       "21      26              17\n",
       "22      27              11\n",
       "23      29              22"
      ]
     },
     "execution_count": 242,
     "metadata": {},
     "output_type": "execute_result"
    }
   ],
   "source": [
    "# geater or equal measure\n",
    "nReviewBeer_count = nReviewBeer[nReviewBeer.review_overall >= 11]\n",
    "nReviewBeer_count.head(20)"
   ]
  },
  {
   "cell_type": "markdown",
   "metadata": {
    "colab_type": "text",
    "id": "JMSHy1L3Vnfg"
   },
   "source": [
    "#### lets have a look at the parameter from the count df; "
   ]
  },
  {
   "cell_type": "code",
   "execution_count": 243,
   "metadata": {
    "colab": {
     "base_uri": "https://localhost:8080/",
     "height": 283
    },
    "colab_type": "code",
    "id": "LdfFfqTzVnfj",
    "outputId": "e03e2ed3-d053-4acb-e130-c71823632c2c"
   },
   "outputs": [
    {
     "data": {
      "image/png": "[encoded data removed]",
      "text/plain": [
       "<Figure size 432x288 with 1 Axes>"
      ]
     },
     "metadata": {
      "needs_background": "light"
     },
     "output_type": "display_data"
    }
   ],
   "source": [
    "plt.hist(nReviewBeer_count['review_overall'], bins=10)\n",
    "plt.grid(axis='x', alpha=0.50)\n",
    "plt.grid(axis='y', alpha=0.50)\n",
    "plt.xlabel('Total Reviews')\n",
    "plt.ylabel('The Count')\n",
    "plt.show()\n",
    "\n"
   ]
  },
  {
   "cell_type": "code",
   "execution_count": 244,
   "metadata": {
    "colab": {
     "base_uri": "https://localhost:8080/",
     "height": 824
    },
    "colab_type": "code",
    "id": "j_j0ihEpVnfu",
    "outputId": "21ae6f50-5832-44a4-be28-d719cdcf1c1f"
   },
   "outputs": [],
   "source": [
    "#looking at the users from now onawrds.. with the steep from the graph\n",
    "distinct_users = beer_data.groupby('review_profilename')['review_overall'].count().reset_index()"
   ]
  },
  {
   "cell_type": "code",
   "execution_count": 245,
   "metadata": {},
   "outputs": [
    {
     "data": {
      "text/html": [
       "<div>\n",
       "<style scoped>\n",
       "    .dataframe tbody tr th:only-of-type {\n",
       "        vertical-align: middle;\n",
       "    }\n",
       "\n",
       "    .dataframe tbody tr th {\n",
       "        vertical-align: top;\n",
       "    }\n",
       "\n",
       "    .dataframe thead th {\n",
       "        text-align: right;\n",
       "    }\n",
       "</style>\n",
       "<table border=\"1\" class=\"dataframe\">\n",
       "  <thead>\n",
       "    <tr style=\"text-align: right;\">\n",
       "      <th></th>\n",
       "      <th>review_profilename</th>\n",
       "      <th>review_overall</th>\n",
       "    </tr>\n",
       "  </thead>\n",
       "  <tbody>\n",
       "    <tr>\n",
       "      <td>0</td>\n",
       "      <td>0110x011</td>\n",
       "      <td>35</td>\n",
       "    </tr>\n",
       "    <tr>\n",
       "      <td>1</td>\n",
       "      <td>01Ryan10</td>\n",
       "      <td>1</td>\n",
       "    </tr>\n",
       "    <tr>\n",
       "      <td>2</td>\n",
       "      <td>03SVTCobra</td>\n",
       "      <td>1</td>\n",
       "    </tr>\n",
       "    <tr>\n",
       "      <td>3</td>\n",
       "      <td>04101Brewer</td>\n",
       "      <td>1</td>\n",
       "    </tr>\n",
       "    <tr>\n",
       "      <td>4</td>\n",
       "      <td>05Harley</td>\n",
       "      <td>41</td>\n",
       "    </tr>\n",
       "    <tr>\n",
       "      <td>5</td>\n",
       "      <td>0beerguy0</td>\n",
       "      <td>3</td>\n",
       "    </tr>\n",
       "    <tr>\n",
       "      <td>6</td>\n",
       "      <td>0runkp0s</td>\n",
       "      <td>1</td>\n",
       "    </tr>\n",
       "    <tr>\n",
       "      <td>7</td>\n",
       "      <td>0tt0</td>\n",
       "      <td>14</td>\n",
       "    </tr>\n",
       "    <tr>\n",
       "      <td>8</td>\n",
       "      <td>1000Bottles</td>\n",
       "      <td>8</td>\n",
       "    </tr>\n",
       "    <tr>\n",
       "      <td>9</td>\n",
       "      <td>1001111</td>\n",
       "      <td>2</td>\n",
       "    </tr>\n",
       "    <tr>\n",
       "      <td>10</td>\n",
       "      <td>100floods</td>\n",
       "      <td>44</td>\n",
       "    </tr>\n",
       "    <tr>\n",
       "      <td>11</td>\n",
       "      <td>1050Sudz</td>\n",
       "      <td>1</td>\n",
       "    </tr>\n",
       "    <tr>\n",
       "      <td>12</td>\n",
       "      <td>108Dragons</td>\n",
       "      <td>1</td>\n",
       "    </tr>\n",
       "    <tr>\n",
       "      <td>13</td>\n",
       "      <td>1099</td>\n",
       "      <td>17</td>\n",
       "    </tr>\n",
       "    <tr>\n",
       "      <td>14</td>\n",
       "      <td>10bear</td>\n",
       "      <td>2</td>\n",
       "    </tr>\n",
       "    <tr>\n",
       "      <td>15</td>\n",
       "      <td>1121987</td>\n",
       "      <td>9</td>\n",
       "    </tr>\n",
       "    <tr>\n",
       "      <td>16</td>\n",
       "      <td>11millsown113</td>\n",
       "      <td>3</td>\n",
       "    </tr>\n",
       "    <tr>\n",
       "      <td>17</td>\n",
       "      <td>11osixBrew</td>\n",
       "      <td>14</td>\n",
       "    </tr>\n",
       "    <tr>\n",
       "      <td>18</td>\n",
       "      <td>11thFloorBrewing</td>\n",
       "      <td>4</td>\n",
       "    </tr>\n",
       "    <tr>\n",
       "      <td>19</td>\n",
       "      <td>1229design</td>\n",
       "      <td>1</td>\n",
       "    </tr>\n",
       "  </tbody>\n",
       "</table>\n",
       "</div>"
      ],
      "text/plain": [
       "   review_profilename  review_overall\n",
       "0            0110x011              35\n",
       "1            01Ryan10               1\n",
       "2          03SVTCobra               1\n",
       "3         04101Brewer               1\n",
       "4            05Harley              41\n",
       "5           0beerguy0               3\n",
       "6            0runkp0s               1\n",
       "7                0tt0              14\n",
       "8         1000Bottles               8\n",
       "9             1001111               2\n",
       "10          100floods              44\n",
       "11           1050Sudz               1\n",
       "12         108Dragons               1\n",
       "13               1099              17\n",
       "14             10bear               2\n",
       "15            1121987               9\n",
       "16      11millsown113               3\n",
       "17         11osixBrew              14\n",
       "18   11thFloorBrewing               4\n",
       "19         1229design               1"
      ]
     },
     "execution_count": 245,
     "metadata": {},
     "output_type": "execute_result"
    }
   ],
   "source": [
    "distinct_users_count = distinct_users[distinct_users.review_overall >= 30]\n",
    "distinct_users.head(20)"
   ]
  },
  {
   "cell_type": "code",
   "execution_count": 246,
   "metadata": {
    "colab": {
     "base_uri": "https://localhost:8080/",
     "height": 283
    },
    "colab_type": "code",
    "id": "xMU2xJJYVnf5",
    "outputId": "a6ffefb7-c6c1-4dd2-cb68-e993154500b5"
   },
   "outputs": [
    {
     "data": {
      "image/png": "[encoded data removed]",
      "text/plain": [
       "<Figure size 432x288 with 1 Axes>"
      ]
     },
     "metadata": {
      "needs_background": "light"
     },
     "output_type": "display_data"
    }
   ],
   "source": [
    "plt.hist(distinct_users_count['review_overall'], bins=15)\n",
    "plt.grid(axis='x', alpha=0.50)\n",
    "plt.grid(axis='y', alpha=0.50)\n",
    "plt.xlabel('Total Reviews')\n",
    "plt.ylabel('Count')\n",
    "plt.show()"
   ]
  },
  {
   "cell_type": "code",
   "execution_count": 247,
   "metadata": {
    "colab": {},
    "colab_type": "code",
    "id": "QkKvbrb1VngH"
   },
   "outputs": [],
   "source": [
    "df_beer_data = beer_data.merge(nReviewBeer_count,how='inner',on='beerid')\n",
    "df_beer_data =df_beer_data.merge(distinct_users_count,how='inner',on='review_profilename')"
   ]
  },
  {
   "cell_type": "code",
   "execution_count": 248,
   "metadata": {
    "colab": {},
    "colab_type": "code",
    "id": "kr5RxPvZVngW"
   },
   "outputs": [],
   "source": [
    "df_beer_data.rename(columns={'review_overall_x' : 'total_reviews','review_overall_y':'total_beer_reviews','review_overall' : 'total_user_reviews'},inplace = True)"
   ]
  },
  {
   "cell_type": "code",
   "execution_count": 249,
   "metadata": {
    "colab": {
     "base_uri": "https://localhost:8080/",
     "height": 204
    },
    "colab_type": "code",
    "id": "ASqQ9weZVnge",
    "outputId": "cf6d065a-f4cc-44d2-db07-337f3a94def4"
   },
   "outputs": [
    {
     "data": {
      "text/html": [
       "<div>\n",
       "<style scoped>\n",
       "    .dataframe tbody tr th:only-of-type {\n",
       "        vertical-align: middle;\n",
       "    }\n",
       "\n",
       "    .dataframe tbody tr th {\n",
       "        vertical-align: top;\n",
       "    }\n",
       "\n",
       "    .dataframe thead th {\n",
       "        text-align: right;\n",
       "    }\n",
       "</style>\n",
       "<table border=\"1\" class=\"dataframe\">\n",
       "  <thead>\n",
       "    <tr style=\"text-align: right;\">\n",
       "      <th></th>\n",
       "      <th>beerid</th>\n",
       "      <th>review_profilename</th>\n",
       "      <th>total_reviews</th>\n",
       "      <th>total_beer_reviews</th>\n",
       "      <th>total_user_reviews</th>\n",
       "    </tr>\n",
       "  </thead>\n",
       "  <tbody>\n",
       "    <tr>\n",
       "      <td>0</td>\n",
       "      <td>58046</td>\n",
       "      <td>dbmernin83</td>\n",
       "      <td>4.0</td>\n",
       "      <td>12</td>\n",
       "      <td>32</td>\n",
       "    </tr>\n",
       "    <tr>\n",
       "      <td>1</td>\n",
       "      <td>30420</td>\n",
       "      <td>dbmernin83</td>\n",
       "      <td>4.0</td>\n",
       "      <td>612</td>\n",
       "      <td>32</td>\n",
       "    </tr>\n",
       "    <tr>\n",
       "      <td>2</td>\n",
       "      <td>3158</td>\n",
       "      <td>dbmernin83</td>\n",
       "      <td>5.0</td>\n",
       "      <td>575</td>\n",
       "      <td>32</td>\n",
       "    </tr>\n",
       "    <tr>\n",
       "      <td>3</td>\n",
       "      <td>36727</td>\n",
       "      <td>dbmernin83</td>\n",
       "      <td>4.0</td>\n",
       "      <td>170</td>\n",
       "      <td>32</td>\n",
       "    </tr>\n",
       "    <tr>\n",
       "      <td>4</td>\n",
       "      <td>11922</td>\n",
       "      <td>dbmernin83</td>\n",
       "      <td>4.0</td>\n",
       "      <td>379</td>\n",
       "      <td>32</td>\n",
       "    </tr>\n",
       "  </tbody>\n",
       "</table>\n",
       "</div>"
      ],
      "text/plain": [
       "   beerid review_profilename  total_reviews  total_beer_reviews  \\\n",
       "0   58046         dbmernin83            4.0                  12   \n",
       "1   30420         dbmernin83            4.0                 612   \n",
       "2    3158         dbmernin83            5.0                 575   \n",
       "3   36727         dbmernin83            4.0                 170   \n",
       "4   11922         dbmernin83            4.0                 379   \n",
       "\n",
       "   total_user_reviews  \n",
       "0                  32  \n",
       "1                  32  \n",
       "2                  32  \n",
       "3                  32  \n",
       "4                  32  "
      ]
     },
     "execution_count": 249,
     "metadata": {},
     "output_type": "execute_result"
    }
   ],
   "source": [
    "df_beer_data.head()"
   ]
  },
  {
   "cell_type": "markdown",
   "metadata": {
    "colab_type": "text",
    "id": "HEQioR_IVng5"
   },
   "source": [
    "### Data Exploration"
   ]
  },
  {
   "cell_type": "code",
   "execution_count": 250,
   "metadata": {
    "colab": {
     "base_uri": "https://localhost:8080/",
     "height": 187
    },
    "colab_type": "code",
    "id": "DXDtuqsJVnhA",
    "outputId": "93f550cb-d449-42ce-a1cc-c1ec133951a5"
   },
   "outputs": [
    {
     "data": {
      "text/plain": [
       "1.0      1690\n",
       "1.5      2085\n",
       "2.0      6759\n",
       "2.5     10674\n",
       "5.0     15939\n",
       "3.0     31714\n",
       "3.5     61799\n",
       "4.5     65595\n",
       "4.0    119683\n",
       "Name: total_reviews, dtype: int64"
      ]
     },
     "execution_count": 250,
     "metadata": {},
     "output_type": "execute_result"
    }
   ],
   "source": [
    "# 1.What are the unique values of ratings?\n",
    "unique_rating_values = df_beer_data['total_reviews'].value_counts(ascending=True)\n",
    "unique_rating_values"
   ]
  },
  {
   "cell_type": "markdown",
   "metadata": {
    "colab_type": "text",
    "id": "y8KcREuWVnhR"
   },
   "source": [
    "#### Visualising the rating values and notice."
   ]
  },
  {
   "cell_type": "code",
   "execution_count": 251,
   "metadata": {
    "colab": {
     "base_uri": "https://localhost:8080/",
     "height": 204
    },
    "colab_type": "code",
    "id": "qnzE3PeIVnhf",
    "outputId": "0a7ab4f0-949e-4c34-f8b3-b1bce7c53664"
   },
   "outputs": [
    {
     "data": {
      "text/html": [
       "<div>\n",
       "<style scoped>\n",
       "    .dataframe tbody tr th:only-of-type {\n",
       "        vertical-align: middle;\n",
       "    }\n",
       "\n",
       "    .dataframe tbody tr th {\n",
       "        vertical-align: top;\n",
       "    }\n",
       "\n",
       "    .dataframe thead th {\n",
       "        text-align: right;\n",
       "    }\n",
       "</style>\n",
       "<table border=\"1\" class=\"dataframe\">\n",
       "  <thead>\n",
       "    <tr style=\"text-align: right;\">\n",
       "      <th></th>\n",
       "      <th>beerid</th>\n",
       "      <th>mean</th>\n",
       "    </tr>\n",
       "  </thead>\n",
       "  <tbody>\n",
       "    <tr>\n",
       "      <td>0</td>\n",
       "      <td>5</td>\n",
       "      <td>3.532609</td>\n",
       "    </tr>\n",
       "    <tr>\n",
       "      <td>1</td>\n",
       "      <td>6</td>\n",
       "      <td>3.707895</td>\n",
       "    </tr>\n",
       "    <tr>\n",
       "      <td>2</td>\n",
       "      <td>7</td>\n",
       "      <td>3.272109</td>\n",
       "    </tr>\n",
       "    <tr>\n",
       "      <td>3</td>\n",
       "      <td>8</td>\n",
       "      <td>3.444444</td>\n",
       "    </tr>\n",
       "    <tr>\n",
       "      <td>4</td>\n",
       "      <td>9</td>\n",
       "      <td>3.344828</td>\n",
       "    </tr>\n",
       "  </tbody>\n",
       "</table>\n",
       "</div>"
      ],
      "text/plain": [
       "   beerid      mean\n",
       "0       5  3.532609\n",
       "1       6  3.707895\n",
       "2       7  3.272109\n",
       "3       8  3.444444\n",
       "4       9  3.344828"
      ]
     },
     "execution_count": 251,
     "metadata": {},
     "output_type": "execute_result"
    }
   ],
   "source": [
    "## 2.1 The average beer ratings :\n",
    "avg_beer_ratings = df_beer_data.groupby('beerid')['total_reviews'].agg(['mean']).reset_index()\n",
    "avg_beer_ratings.head()"
   ]
  },
  {
   "cell_type": "code",
   "execution_count": 252,
   "metadata": {
    "colab": {
     "base_uri": "https://localhost:8080/",
     "height": 283
    },
    "colab_type": "code",
    "id": "_lxXei93Vnhx",
    "outputId": "5244cdf4-4b2f-4dad-82c2-77a4f7171263"
   },
   "outputs": [
    {
     "data": {
      "image/png": "[encoded data removed]",
      "text/plain": [
       "<Figure size 432x288 with 1 Axes>"
      ]
     },
     "metadata": {
      "needs_background": "light"
     },
     "output_type": "display_data"
    }
   ],
   "source": [
    "#plotting the graph\n",
    "plt.hist(avg_beer_ratings['mean'], bins=15)\n",
    "plt.grid(axis='x', alpha=0.50)\n",
    "plt.grid(axis='y', alpha=0.50)\n",
    "plt.xlabel('Avg. Beer Ratings')\n",
    "plt.ylabel('The No. Of Beers')\n",
    "plt.show()\n"
   ]
  },
  {
   "cell_type": "code",
   "execution_count": 253,
   "metadata": {
    "colab": {
     "base_uri": "https://localhost:8080/",
     "height": 297
    },
    "colab_type": "code",
    "id": "L9fWkSJTVniM",
    "outputId": "c55d7789-29c6-455b-e013-77a9f7782ff5"
   },
   "outputs": [
    {
     "data": {
      "text/html": [
       "<div>\n",
       "<style scoped>\n",
       "    .dataframe tbody tr th:only-of-type {\n",
       "        vertical-align: middle;\n",
       "    }\n",
       "\n",
       "    .dataframe tbody tr th {\n",
       "        vertical-align: top;\n",
       "    }\n",
       "\n",
       "    .dataframe thead th {\n",
       "        text-align: right;\n",
       "    }\n",
       "</style>\n",
       "<table border=\"1\" class=\"dataframe\">\n",
       "  <thead>\n",
       "    <tr style=\"text-align: right;\">\n",
       "      <th></th>\n",
       "      <th>beerid</th>\n",
       "      <th>mean</th>\n",
       "    </tr>\n",
       "  </thead>\n",
       "  <tbody>\n",
       "    <tr>\n",
       "      <td>count</td>\n",
       "      <td>6538.000000</td>\n",
       "      <td>6538.000000</td>\n",
       "    </tr>\n",
       "    <tr>\n",
       "      <td>mean</td>\n",
       "      <td>26673.281279</td>\n",
       "      <td>3.740884</td>\n",
       "    </tr>\n",
       "    <tr>\n",
       "      <td>std</td>\n",
       "      <td>22205.614689</td>\n",
       "      <td>0.395493</td>\n",
       "    </tr>\n",
       "    <tr>\n",
       "      <td>min</td>\n",
       "      <td>5.000000</td>\n",
       "      <td>1.258333</td>\n",
       "    </tr>\n",
       "    <tr>\n",
       "      <td>25%</td>\n",
       "      <td>4072.250000</td>\n",
       "      <td>3.571429</td>\n",
       "    </tr>\n",
       "    <tr>\n",
       "      <td>50%</td>\n",
       "      <td>24437.000000</td>\n",
       "      <td>3.805556</td>\n",
       "    </tr>\n",
       "    <tr>\n",
       "      <td>75%</td>\n",
       "      <td>45776.500000</td>\n",
       "      <td>4.000000</td>\n",
       "    </tr>\n",
       "    <tr>\n",
       "      <td>max</td>\n",
       "      <td>76816.000000</td>\n",
       "      <td>4.818182</td>\n",
       "    </tr>\n",
       "  </tbody>\n",
       "</table>\n",
       "</div>"
      ],
      "text/plain": [
       "             beerid         mean\n",
       "count   6538.000000  6538.000000\n",
       "mean   26673.281279     3.740884\n",
       "std    22205.614689     0.395493\n",
       "min        5.000000     1.258333\n",
       "25%     4072.250000     3.571429\n",
       "50%    24437.000000     3.805556\n",
       "75%    45776.500000     4.000000\n",
       "max    76816.000000     4.818182"
      ]
     },
     "execution_count": 253,
     "metadata": {},
     "output_type": "execute_result"
    }
   ],
   "source": [
    "avg_beer_ratings.describe()"
   ]
  },
  {
   "cell_type": "code",
   "execution_count": 254,
   "metadata": {
    "colab": {
     "base_uri": "https://localhost:8080/",
     "height": 204
    },
    "colab_type": "code",
    "id": "RF6ZyAw-Vnib",
    "outputId": "8190d10f-9a2b-4703-a30a-b8092baedff8"
   },
   "outputs": [
    {
     "data": {
      "text/html": [
       "<div>\n",
       "<style scoped>\n",
       "    .dataframe tbody tr th:only-of-type {\n",
       "        vertical-align: middle;\n",
       "    }\n",
       "\n",
       "    .dataframe tbody tr th {\n",
       "        vertical-align: top;\n",
       "    }\n",
       "\n",
       "    .dataframe thead th {\n",
       "        text-align: right;\n",
       "    }\n",
       "</style>\n",
       "<table border=\"1\" class=\"dataframe\">\n",
       "  <thead>\n",
       "    <tr style=\"text-align: right;\">\n",
       "      <th></th>\n",
       "      <th>beerid</th>\n",
       "      <th>mean</th>\n",
       "    </tr>\n",
       "  </thead>\n",
       "  <tbody>\n",
       "    <tr>\n",
       "      <td>0</td>\n",
       "      <td>3</td>\n",
       "      <td>4.250000</td>\n",
       "    </tr>\n",
       "    <tr>\n",
       "      <td>1</td>\n",
       "      <td>4</td>\n",
       "      <td>3.666667</td>\n",
       "    </tr>\n",
       "    <tr>\n",
       "      <td>2</td>\n",
       "      <td>5</td>\n",
       "      <td>3.553097</td>\n",
       "    </tr>\n",
       "    <tr>\n",
       "      <td>3</td>\n",
       "      <td>6</td>\n",
       "      <td>3.711462</td>\n",
       "    </tr>\n",
       "    <tr>\n",
       "      <td>4</td>\n",
       "      <td>7</td>\n",
       "      <td>3.317073</td>\n",
       "    </tr>\n",
       "  </tbody>\n",
       "</table>\n",
       "</div>"
      ],
      "text/plain": [
       "   beerid      mean\n",
       "0       3  4.250000\n",
       "1       4  3.666667\n",
       "2       5  3.553097\n",
       "3       6  3.711462\n",
       "4       7  3.317073"
      ]
     },
     "execution_count": 254,
     "metadata": {},
     "output_type": "execute_result"
    }
   ],
   "source": [
    "# getting all the data\n",
    "avg_beer_ratings_all = beer_data.groupby('beerid')['review_overall'].agg(['mean']).reset_index()\n",
    "avg_beer_ratings_all.head()"
   ]
  },
  {
   "cell_type": "code",
   "execution_count": 255,
   "metadata": {
    "colab": {
     "base_uri": "https://localhost:8080/",
     "height": 283
    },
    "colab_type": "code",
    "id": "UQ8UKMPDVniq",
    "outputId": "c1d67994-164f-4bb1-969d-96c6781a34e4"
   },
   "outputs": [
    {
     "data": {
      "image/png": "[encoded data removed]",
      "text/plain": [
       "<Figure size 432x288 with 1 Axes>"
      ]
     },
     "metadata": {
      "needs_background": "light"
     },
     "output_type": "display_data"
    }
   ],
   "source": [
    "#plotting them all\n",
    "plt.hist(avg_beer_ratings_all['mean'], bins=15)\n",
    "plt.grid(axis='x', alpha=0.50)\n",
    "plt.grid(axis='y', alpha=0.50)\n",
    "plt.xlabel('Avg. Beer Ratings')\n",
    "plt.ylabel('The No. of Beers')\n",
    "plt.show()\n"
   ]
  },
  {
   "cell_type": "code",
   "execution_count": 256,
   "metadata": {
    "colab": {
     "base_uri": "https://localhost:8080/",
     "height": 297
    },
    "colab_type": "code",
    "id": "YMVMhYd4Vni3",
    "outputId": "39e842c4-27b4-4e4d-c83a-e0314b8c666f"
   },
   "outputs": [
    {
     "data": {
      "text/html": [
       "<div>\n",
       "<style scoped>\n",
       "    .dataframe tbody tr th:only-of-type {\n",
       "        vertical-align: middle;\n",
       "    }\n",
       "\n",
       "    .dataframe tbody tr th {\n",
       "        vertical-align: top;\n",
       "    }\n",
       "\n",
       "    .dataframe thead th {\n",
       "        text-align: right;\n",
       "    }\n",
       "</style>\n",
       "<table border=\"1\" class=\"dataframe\">\n",
       "  <thead>\n",
       "    <tr style=\"text-align: right;\">\n",
       "      <th></th>\n",
       "      <th>beerid</th>\n",
       "      <th>mean</th>\n",
       "    </tr>\n",
       "  </thead>\n",
       "  <tbody>\n",
       "    <tr>\n",
       "      <td>count</td>\n",
       "      <td>40304.000000</td>\n",
       "      <td>40304.000000</td>\n",
       "    </tr>\n",
       "    <tr>\n",
       "      <td>mean</td>\n",
       "      <td>36973.166460</td>\n",
       "      <td>3.670510</td>\n",
       "    </tr>\n",
       "    <tr>\n",
       "      <td>std</td>\n",
       "      <td>22544.756432</td>\n",
       "      <td>0.642731</td>\n",
       "    </tr>\n",
       "    <tr>\n",
       "      <td>min</td>\n",
       "      <td>3.000000</td>\n",
       "      <td>0.000000</td>\n",
       "    </tr>\n",
       "    <tr>\n",
       "      <td>25%</td>\n",
       "      <td>16879.750000</td>\n",
       "      <td>3.500000</td>\n",
       "    </tr>\n",
       "    <tr>\n",
       "      <td>50%</td>\n",
       "      <td>37366.500000</td>\n",
       "      <td>3.799531</td>\n",
       "    </tr>\n",
       "    <tr>\n",
       "      <td>75%</td>\n",
       "      <td>56233.500000</td>\n",
       "      <td>4.000000</td>\n",
       "    </tr>\n",
       "    <tr>\n",
       "      <td>max</td>\n",
       "      <td>77317.000000</td>\n",
       "      <td>5.000000</td>\n",
       "    </tr>\n",
       "  </tbody>\n",
       "</table>\n",
       "</div>"
      ],
      "text/plain": [
       "             beerid          mean\n",
       "count  40304.000000  40304.000000\n",
       "mean   36973.166460      3.670510\n",
       "std    22544.756432      0.642731\n",
       "min        3.000000      0.000000\n",
       "25%    16879.750000      3.500000\n",
       "50%    37366.500000      3.799531\n",
       "75%    56233.500000      4.000000\n",
       "max    77317.000000      5.000000"
      ]
     },
     "execution_count": 256,
     "metadata": {},
     "output_type": "execute_result"
    }
   ],
   "source": [
    "avg_beer_ratings_all.describe()"
   ]
  },
  {
   "cell_type": "code",
   "execution_count": 257,
   "metadata": {
    "colab": {
     "base_uri": "https://localhost:8080/",
     "height": 204
    },
    "colab_type": "code",
    "id": "rtkhtXPiVnjU",
    "outputId": "4751c20f-daa8-4a85-9faa-68f37a821a6c"
   },
   "outputs": [
    {
     "data": {
      "text/html": [
       "<div>\n",
       "<style scoped>\n",
       "    .dataframe tbody tr th:only-of-type {\n",
       "        vertical-align: middle;\n",
       "    }\n",
       "\n",
       "    .dataframe tbody tr th {\n",
       "        vertical-align: top;\n",
       "    }\n",
       "\n",
       "    .dataframe thead th {\n",
       "        text-align: right;\n",
       "    }\n",
       "</style>\n",
       "<table border=\"1\" class=\"dataframe\">\n",
       "  <thead>\n",
       "    <tr style=\"text-align: right;\">\n",
       "      <th></th>\n",
       "      <th>review_profilename</th>\n",
       "      <th>mean</th>\n",
       "    </tr>\n",
       "  </thead>\n",
       "  <tbody>\n",
       "    <tr>\n",
       "      <td>0</td>\n",
       "      <td>0110x011</td>\n",
       "      <td>4.303030</td>\n",
       "    </tr>\n",
       "    <tr>\n",
       "      <td>1</td>\n",
       "      <td>05Harley</td>\n",
       "      <td>4.152778</td>\n",
       "    </tr>\n",
       "    <tr>\n",
       "      <td>2</td>\n",
       "      <td>100floods</td>\n",
       "      <td>4.035714</td>\n",
       "    </tr>\n",
       "    <tr>\n",
       "      <td>3</td>\n",
       "      <td>1759Girl</td>\n",
       "      <td>3.687500</td>\n",
       "    </tr>\n",
       "    <tr>\n",
       "      <td>4</td>\n",
       "      <td>1fastz28</td>\n",
       "      <td>3.852174</td>\n",
       "    </tr>\n",
       "  </tbody>\n",
       "</table>\n",
       "</div>"
      ],
      "text/plain": [
       "  review_profilename      mean\n",
       "0           0110x011  4.303030\n",
       "1           05Harley  4.152778\n",
       "2          100floods  4.035714\n",
       "3           1759Girl  3.687500\n",
       "4           1fastz28  3.852174"
      ]
     },
     "execution_count": 257,
     "metadata": {},
     "output_type": "execute_result"
    }
   ],
   "source": [
    "# 2.2 The average user ratings\n",
    "avg_user_ratings = df_beer_data.groupby('review_profilename')['total_reviews'].agg(['mean']).reset_index()\n",
    "avg_user_ratings.head()"
   ]
  },
  {
   "cell_type": "code",
   "execution_count": 258,
   "metadata": {
    "colab": {
     "base_uri": "https://localhost:8080/",
     "height": 283
    },
    "colab_type": "code",
    "id": "c0ZKuRhqVnj2",
    "outputId": "84ccf3a4-b422-41f0-bfef-413f1e6ae771"
   },
   "outputs": [
    {
     "data": {
      "image/png": "[encoded data removed]",
      "text/plain": [
       "<Figure size 432x288 with 1 Axes>"
      ]
     },
     "metadata": {
      "needs_background": "light"
     },
     "output_type": "display_data"
    }
   ],
   "source": [
    "#plot\n",
    "plt.hist(avg_user_ratings['mean'], bins=25)\n",
    "plt.grid(axis='x', alpha=0.50)\n",
    "plt.grid(axis='y', alpha=0.50)\n",
    "plt.xlabel('Average Beer Rating')\n",
    "plt.ylabel('Number of Users')\n",
    "plt.show()\n"
   ]
  },
  {
   "cell_type": "code",
   "execution_count": 259,
   "metadata": {
    "colab": {
     "base_uri": "https://localhost:8080/",
     "height": 297
    },
    "colab_type": "code",
    "id": "hsGaRmg3VnkG",
    "outputId": "932eae4a-b6ad-4565-8196-c1567fe07706"
   },
   "outputs": [
    {
     "data": {
      "text/html": [
       "<div>\n",
       "<style scoped>\n",
       "    .dataframe tbody tr th:only-of-type {\n",
       "        vertical-align: middle;\n",
       "    }\n",
       "\n",
       "    .dataframe tbody tr th {\n",
       "        vertical-align: top;\n",
       "    }\n",
       "\n",
       "    .dataframe thead th {\n",
       "        text-align: right;\n",
       "    }\n",
       "</style>\n",
       "<table border=\"1\" class=\"dataframe\">\n",
       "  <thead>\n",
       "    <tr style=\"text-align: right;\">\n",
       "      <th></th>\n",
       "      <th>mean</th>\n",
       "    </tr>\n",
       "  </thead>\n",
       "  <tbody>\n",
       "    <tr>\n",
       "      <td>count</td>\n",
       "      <td>3176.000000</td>\n",
       "    </tr>\n",
       "    <tr>\n",
       "      <td>mean</td>\n",
       "      <td>3.840760</td>\n",
       "    </tr>\n",
       "    <tr>\n",
       "      <td>std</td>\n",
       "      <td>0.216716</td>\n",
       "    </tr>\n",
       "    <tr>\n",
       "      <td>min</td>\n",
       "      <td>2.800000</td>\n",
       "    </tr>\n",
       "    <tr>\n",
       "      <td>25%</td>\n",
       "      <td>3.707852</td>\n",
       "    </tr>\n",
       "    <tr>\n",
       "      <td>50%</td>\n",
       "      <td>3.864164</td>\n",
       "    </tr>\n",
       "    <tr>\n",
       "      <td>75%</td>\n",
       "      <td>3.985714</td>\n",
       "    </tr>\n",
       "    <tr>\n",
       "      <td>max</td>\n",
       "      <td>4.482759</td>\n",
       "    </tr>\n",
       "  </tbody>\n",
       "</table>\n",
       "</div>"
      ],
      "text/plain": [
       "              mean\n",
       "count  3176.000000\n",
       "mean      3.840760\n",
       "std       0.216716\n",
       "min       2.800000\n",
       "25%       3.707852\n",
       "50%       3.864164\n",
       "75%       3.985714\n",
       "max       4.482759"
      ]
     },
     "execution_count": 259,
     "metadata": {},
     "output_type": "execute_result"
    }
   ],
   "source": [
    "avg_user_ratings.describe()"
   ]
  },
  {
   "cell_type": "code",
   "execution_count": 260,
   "metadata": {
    "colab": {
     "base_uri": "https://localhost:8080/",
     "height": 204
    },
    "colab_type": "code",
    "id": "JayGfpE5Vnka",
    "outputId": "f99a42cc-52a5-4dc7-fd56-4b0133fc681e"
   },
   "outputs": [
    {
     "data": {
      "text/html": [
       "<div>\n",
       "<style scoped>\n",
       "    .dataframe tbody tr th:only-of-type {\n",
       "        vertical-align: middle;\n",
       "    }\n",
       "\n",
       "    .dataframe tbody tr th {\n",
       "        vertical-align: top;\n",
       "    }\n",
       "\n",
       "    .dataframe thead th {\n",
       "        text-align: right;\n",
       "    }\n",
       "</style>\n",
       "<table border=\"1\" class=\"dataframe\">\n",
       "  <thead>\n",
       "    <tr style=\"text-align: right;\">\n",
       "      <th></th>\n",
       "      <th>beerid</th>\n",
       "      <th>mean</th>\n",
       "    </tr>\n",
       "  </thead>\n",
       "  <tbody>\n",
       "    <tr>\n",
       "      <td>0</td>\n",
       "      <td>5</td>\n",
       "      <td>3.532609</td>\n",
       "    </tr>\n",
       "    <tr>\n",
       "      <td>1</td>\n",
       "      <td>6</td>\n",
       "      <td>3.707895</td>\n",
       "    </tr>\n",
       "    <tr>\n",
       "      <td>2</td>\n",
       "      <td>7</td>\n",
       "      <td>3.272109</td>\n",
       "    </tr>\n",
       "    <tr>\n",
       "      <td>3</td>\n",
       "      <td>8</td>\n",
       "      <td>3.444444</td>\n",
       "    </tr>\n",
       "    <tr>\n",
       "      <td>4</td>\n",
       "      <td>9</td>\n",
       "      <td>3.344828</td>\n",
       "    </tr>\n",
       "  </tbody>\n",
       "</table>\n",
       "</div>"
      ],
      "text/plain": [
       "   beerid      mean\n",
       "0       5  3.532609\n",
       "1       6  3.707895\n",
       "2       7  3.272109\n",
       "3       8  3.444444\n",
       "4       9  3.344828"
      ]
     },
     "execution_count": 260,
     "metadata": {},
     "output_type": "execute_result"
    }
   ],
   "source": [
    "# 2.3 The average number of ratings given to the beers\n",
    "avg_beer_reviews = df_beer_data.groupby('beerid')['total_reviews'].agg(['mean']).reset_index()\n",
    "avg_beer_reviews.head()\n"
   ]
  },
  {
   "cell_type": "code",
   "execution_count": 261,
   "metadata": {
    "colab": {
     "base_uri": "https://localhost:8080/",
     "height": 283
    },
    "colab_type": "code",
    "id": "rkKlUJLkVnk4",
    "outputId": "1a09f037-bb6a-440d-acc8-25a8102ab30d"
   },
   "outputs": [
    {
     "data": {
      "image/png": "[encoded data removed]",
      "text/plain": [
       "<Figure size 432x288 with 1 Axes>"
      ]
     },
     "metadata": {
      "needs_background": "light"
     },
     "output_type": "display_data"
    }
   ],
   "source": [
    "#plot\n",
    "plt.hist(avg_beer_reviews['mean'], bins=35)\n",
    "plt.grid(axis='x', alpha=0.50)\n",
    "plt.grid(axis='y', alpha=0.50)\n",
    "plt.xlabel('Average Rating')\n",
    "plt.ylabel('Number of Beers')\n",
    "plt.show()\n"
   ]
  },
  {
   "cell_type": "code",
   "execution_count": 262,
   "metadata": {
    "colab": {
     "base_uri": "https://localhost:8080/",
     "height": 297
    },
    "colab_type": "code",
    "id": "Sca2jOOcVnlL",
    "outputId": "a0868a17-08f9-43af-95d2-0b4058128723"
   },
   "outputs": [
    {
     "data": {
      "text/html": [
       "<div>\n",
       "<style scoped>\n",
       "    .dataframe tbody tr th:only-of-type {\n",
       "        vertical-align: middle;\n",
       "    }\n",
       "\n",
       "    .dataframe tbody tr th {\n",
       "        vertical-align: top;\n",
       "    }\n",
       "\n",
       "    .dataframe thead th {\n",
       "        text-align: right;\n",
       "    }\n",
       "</style>\n",
       "<table border=\"1\" class=\"dataframe\">\n",
       "  <thead>\n",
       "    <tr style=\"text-align: right;\">\n",
       "      <th></th>\n",
       "      <th>beerid</th>\n",
       "      <th>mean</th>\n",
       "    </tr>\n",
       "  </thead>\n",
       "  <tbody>\n",
       "    <tr>\n",
       "      <td>count</td>\n",
       "      <td>6538.000000</td>\n",
       "      <td>6538.000000</td>\n",
       "    </tr>\n",
       "    <tr>\n",
       "      <td>mean</td>\n",
       "      <td>26673.281279</td>\n",
       "      <td>3.740884</td>\n",
       "    </tr>\n",
       "    <tr>\n",
       "      <td>std</td>\n",
       "      <td>22205.614689</td>\n",
       "      <td>0.395493</td>\n",
       "    </tr>\n",
       "    <tr>\n",
       "      <td>min</td>\n",
       "      <td>5.000000</td>\n",
       "      <td>1.258333</td>\n",
       "    </tr>\n",
       "    <tr>\n",
       "      <td>25%</td>\n",
       "      <td>4072.250000</td>\n",
       "      <td>3.571429</td>\n",
       "    </tr>\n",
       "    <tr>\n",
       "      <td>50%</td>\n",
       "      <td>24437.000000</td>\n",
       "      <td>3.805556</td>\n",
       "    </tr>\n",
       "    <tr>\n",
       "      <td>75%</td>\n",
       "      <td>45776.500000</td>\n",
       "      <td>4.000000</td>\n",
       "    </tr>\n",
       "    <tr>\n",
       "      <td>max</td>\n",
       "      <td>76816.000000</td>\n",
       "      <td>4.818182</td>\n",
       "    </tr>\n",
       "  </tbody>\n",
       "</table>\n",
       "</div>"
      ],
      "text/plain": [
       "             beerid         mean\n",
       "count   6538.000000  6538.000000\n",
       "mean   26673.281279     3.740884\n",
       "std    22205.614689     0.395493\n",
       "min        5.000000     1.258333\n",
       "25%     4072.250000     3.571429\n",
       "50%    24437.000000     3.805556\n",
       "75%    45776.500000     4.000000\n",
       "max    76816.000000     4.818182"
      ]
     },
     "execution_count": 262,
     "metadata": {},
     "output_type": "execute_result"
    }
   ],
   "source": [
    "avg_beer_reviews.describe()"
   ]
  },
  {
   "cell_type": "code",
   "execution_count": 263,
   "metadata": {
    "colab": {
     "base_uri": "https://localhost:8080/",
     "height": 204
    },
    "colab_type": "code",
    "id": "a4AfiIkwVnlp",
    "outputId": "5b5b63ec-a7cd-4bc4-9cf0-ee0542225748"
   },
   "outputs": [
    {
     "data": {
      "text/html": [
       "<div>\n",
       "<style scoped>\n",
       "    .dataframe tbody tr th:only-of-type {\n",
       "        vertical-align: middle;\n",
       "    }\n",
       "\n",
       "    .dataframe tbody tr th {\n",
       "        vertical-align: top;\n",
       "    }\n",
       "\n",
       "    .dataframe thead th {\n",
       "        text-align: right;\n",
       "    }\n",
       "</style>\n",
       "<table border=\"1\" class=\"dataframe\">\n",
       "  <thead>\n",
       "    <tr style=\"text-align: right;\">\n",
       "      <th></th>\n",
       "      <th>beerid</th>\n",
       "      <th>review_overall</th>\n",
       "    </tr>\n",
       "  </thead>\n",
       "  <tbody>\n",
       "    <tr>\n",
       "      <td>0</td>\n",
       "      <td>3</td>\n",
       "      <td>2</td>\n",
       "    </tr>\n",
       "    <tr>\n",
       "      <td>1</td>\n",
       "      <td>4</td>\n",
       "      <td>6</td>\n",
       "    </tr>\n",
       "    <tr>\n",
       "      <td>2</td>\n",
       "      <td>5</td>\n",
       "      <td>113</td>\n",
       "    </tr>\n",
       "    <tr>\n",
       "      <td>3</td>\n",
       "      <td>6</td>\n",
       "      <td>253</td>\n",
       "    </tr>\n",
       "    <tr>\n",
       "      <td>4</td>\n",
       "      <td>7</td>\n",
       "      <td>205</td>\n",
       "    </tr>\n",
       "  </tbody>\n",
       "</table>\n",
       "</div>"
      ],
      "text/plain": [
       "   beerid  review_overall\n",
       "0       3               2\n",
       "1       4               6\n",
       "2       5             113\n",
       "3       6             253\n",
       "4       7             205"
      ]
     },
     "execution_count": 263,
     "metadata": {},
     "output_type": "execute_result"
    }
   ],
   "source": [
    "nReviewBeer.head()"
   ]
  },
  {
   "cell_type": "markdown",
   "metadata": {
    "colab_type": "text",
    "id": "zTNDG6UVVnnS"
   },
   "source": [
    "### Recommender Models."
   ]
  },
  {
   "cell_type": "code",
   "execution_count": 264,
   "metadata": {
    "colab": {
     "base_uri": "https://localhost:8080/",
     "height": 204
    },
    "colab_type": "code",
    "id": "tWbw9_WGoKea",
    "outputId": "55791061-d934-45b8-d8e4-4886e666dd4d"
   },
   "outputs": [
    {
     "data": {
      "text/html": [
       "<div>\n",
       "<style scoped>\n",
       "    .dataframe tbody tr th:only-of-type {\n",
       "        vertical-align: middle;\n",
       "    }\n",
       "\n",
       "    .dataframe tbody tr th {\n",
       "        vertical-align: top;\n",
       "    }\n",
       "\n",
       "    .dataframe thead th {\n",
       "        text-align: right;\n",
       "    }\n",
       "</style>\n",
       "<table border=\"1\" class=\"dataframe\">\n",
       "  <thead>\n",
       "    <tr style=\"text-align: right;\">\n",
       "      <th></th>\n",
       "      <th>beerid</th>\n",
       "      <th>review_profilename</th>\n",
       "      <th>total_reviews</th>\n",
       "      <th>total_beer_reviews</th>\n",
       "      <th>total_user_reviews</th>\n",
       "    </tr>\n",
       "  </thead>\n",
       "  <tbody>\n",
       "    <tr>\n",
       "      <td>0</td>\n",
       "      <td>58046</td>\n",
       "      <td>dbmernin83</td>\n",
       "      <td>4.0</td>\n",
       "      <td>12</td>\n",
       "      <td>32</td>\n",
       "    </tr>\n",
       "    <tr>\n",
       "      <td>1</td>\n",
       "      <td>30420</td>\n",
       "      <td>dbmernin83</td>\n",
       "      <td>4.0</td>\n",
       "      <td>612</td>\n",
       "      <td>32</td>\n",
       "    </tr>\n",
       "    <tr>\n",
       "      <td>2</td>\n",
       "      <td>3158</td>\n",
       "      <td>dbmernin83</td>\n",
       "      <td>5.0</td>\n",
       "      <td>575</td>\n",
       "      <td>32</td>\n",
       "    </tr>\n",
       "    <tr>\n",
       "      <td>3</td>\n",
       "      <td>36727</td>\n",
       "      <td>dbmernin83</td>\n",
       "      <td>4.0</td>\n",
       "      <td>170</td>\n",
       "      <td>32</td>\n",
       "    </tr>\n",
       "    <tr>\n",
       "      <td>4</td>\n",
       "      <td>11922</td>\n",
       "      <td>dbmernin83</td>\n",
       "      <td>4.0</td>\n",
       "      <td>379</td>\n",
       "      <td>32</td>\n",
       "    </tr>\n",
       "  </tbody>\n",
       "</table>\n",
       "</div>"
      ],
      "text/plain": [
       "   beerid review_profilename  total_reviews  total_beer_reviews  \\\n",
       "0   58046         dbmernin83            4.0                  12   \n",
       "1   30420         dbmernin83            4.0                 612   \n",
       "2    3158         dbmernin83            5.0                 575   \n",
       "3   36727         dbmernin83            4.0                 170   \n",
       "4   11922         dbmernin83            4.0                 379   \n",
       "\n",
       "   total_user_reviews  \n",
       "0                  32  \n",
       "1                  32  \n",
       "2                  32  \n",
       "3                  32  \n",
       "4                  32  "
      ]
     },
     "execution_count": 264,
     "metadata": {},
     "output_type": "execute_result"
    }
   ],
   "source": [
    "df_beer_data.head()"
   ]
  },
  {
   "cell_type": "code",
   "execution_count": 265,
   "metadata": {
    "colab": {},
    "colab_type": "code",
    "id": "s87NldPIldZy"
   },
   "outputs": [],
   "source": [
    "from sklearn.model_selection import train_test_split\n",
    "train, test = train_test_split(df_beer_data, test_size=0.30, random_state=25)"
   ]
  },
  {
   "cell_type": "code",
   "execution_count": 266,
   "metadata": {
    "colab": {
     "base_uri": "https://localhost:8080/",
     "height": 51
    },
    "colab_type": "code",
    "id": "2TZWLKQyldZ8",
    "outputId": "0df1dd63-fc1c-4c71-eb4e-9349479a5a39"
   },
   "outputs": [
    {
     "data": {
      "text/plain": [
       "(221156, 5)"
      ]
     },
     "execution_count": 266,
     "metadata": {},
     "output_type": "execute_result"
    }
   ],
   "source": [
    "train.shape"
   ]
  },
  {
   "cell_type": "code",
   "execution_count": 267,
   "metadata": {},
   "outputs": [
    {
     "data": {
      "text/plain": [
       "(94782, 5)"
      ]
     },
     "execution_count": 267,
     "metadata": {},
     "output_type": "execute_result"
    }
   ],
   "source": [
    "test.shape"
   ]
  },
  {
   "cell_type": "code",
   "execution_count": 268,
   "metadata": {
    "colab": {},
    "colab_type": "code",
    "id": "PDUbIq8IldaM"
   },
   "outputs": [],
   "source": [
    "# pivot ratings into beer features\n",
    "beer_features = train.pivot_table(index='review_profilename', columns='beerid', values='total_reviews', fill_value=0)"
   ]
  },
  {
   "cell_type": "code",
   "execution_count": 269,
   "metadata": {
    "colab": {
     "base_uri": "https://localhost:8080/",
     "height": 284
    },
    "colab_type": "code",
    "id": "nPnn7PbRldaX",
    "outputId": "78072050-225c-48c2-ef79-0aff9068a2f2"
   },
   "outputs": [
    {
     "data": {
      "text/html": [
       "<div>\n",
       "<style scoped>\n",
       "    .dataframe tbody tr th:only-of-type {\n",
       "        vertical-align: middle;\n",
       "    }\n",
       "\n",
       "    .dataframe tbody tr th {\n",
       "        vertical-align: top;\n",
       "    }\n",
       "\n",
       "    .dataframe thead th {\n",
       "        text-align: right;\n",
       "    }\n",
       "</style>\n",
       "<table border=\"1\" class=\"dataframe\">\n",
       "  <thead>\n",
       "    <tr style=\"text-align: right;\">\n",
       "      <th>beerid</th>\n",
       "      <th>5</th>\n",
       "      <th>6</th>\n",
       "      <th>7</th>\n",
       "      <th>8</th>\n",
       "      <th>9</th>\n",
       "      <th>10</th>\n",
       "      <th>11</th>\n",
       "      <th>12</th>\n",
       "      <th>13</th>\n",
       "      <th>14</th>\n",
       "      <th>...</th>\n",
       "      <th>75013</th>\n",
       "      <th>75086</th>\n",
       "      <th>75160</th>\n",
       "      <th>75188</th>\n",
       "      <th>75230</th>\n",
       "      <th>75894</th>\n",
       "      <th>76144</th>\n",
       "      <th>76323</th>\n",
       "      <th>76525</th>\n",
       "      <th>76816</th>\n",
       "    </tr>\n",
       "    <tr>\n",
       "      <th>review_profilename</th>\n",
       "      <th></th>\n",
       "      <th></th>\n",
       "      <th></th>\n",
       "      <th></th>\n",
       "      <th></th>\n",
       "      <th></th>\n",
       "      <th></th>\n",
       "      <th></th>\n",
       "      <th></th>\n",
       "      <th></th>\n",
       "      <th></th>\n",
       "      <th></th>\n",
       "      <th></th>\n",
       "      <th></th>\n",
       "      <th></th>\n",
       "      <th></th>\n",
       "      <th></th>\n",
       "      <th></th>\n",
       "      <th></th>\n",
       "      <th></th>\n",
       "      <th></th>\n",
       "    </tr>\n",
       "  </thead>\n",
       "  <tbody>\n",
       "    <tr>\n",
       "      <td>0110x011</td>\n",
       "      <td>0.0</td>\n",
       "      <td>0.0</td>\n",
       "      <td>0.0</td>\n",
       "      <td>0.0</td>\n",
       "      <td>0.0</td>\n",
       "      <td>0.0</td>\n",
       "      <td>0.0</td>\n",
       "      <td>0.0</td>\n",
       "      <td>0.0</td>\n",
       "      <td>0.0</td>\n",
       "      <td>...</td>\n",
       "      <td>0.0</td>\n",
       "      <td>0.0</td>\n",
       "      <td>0.0</td>\n",
       "      <td>0.0</td>\n",
       "      <td>0.0</td>\n",
       "      <td>0.0</td>\n",
       "      <td>0.0</td>\n",
       "      <td>0.0</td>\n",
       "      <td>0.0</td>\n",
       "      <td>0.0</td>\n",
       "    </tr>\n",
       "    <tr>\n",
       "      <td>05Harley</td>\n",
       "      <td>0.0</td>\n",
       "      <td>0.0</td>\n",
       "      <td>0.0</td>\n",
       "      <td>0.0</td>\n",
       "      <td>0.0</td>\n",
       "      <td>0.0</td>\n",
       "      <td>0.0</td>\n",
       "      <td>0.0</td>\n",
       "      <td>0.0</td>\n",
       "      <td>0.0</td>\n",
       "      <td>...</td>\n",
       "      <td>0.0</td>\n",
       "      <td>0.0</td>\n",
       "      <td>0.0</td>\n",
       "      <td>0.0</td>\n",
       "      <td>0.0</td>\n",
       "      <td>0.0</td>\n",
       "      <td>0.0</td>\n",
       "      <td>0.0</td>\n",
       "      <td>0.0</td>\n",
       "      <td>0.0</td>\n",
       "    </tr>\n",
       "    <tr>\n",
       "      <td>100floods</td>\n",
       "      <td>0.0</td>\n",
       "      <td>0.0</td>\n",
       "      <td>0.0</td>\n",
       "      <td>0.0</td>\n",
       "      <td>0.0</td>\n",
       "      <td>0.0</td>\n",
       "      <td>0.0</td>\n",
       "      <td>0.0</td>\n",
       "      <td>0.0</td>\n",
       "      <td>0.0</td>\n",
       "      <td>...</td>\n",
       "      <td>0.0</td>\n",
       "      <td>0.0</td>\n",
       "      <td>0.0</td>\n",
       "      <td>0.0</td>\n",
       "      <td>0.0</td>\n",
       "      <td>0.0</td>\n",
       "      <td>0.0</td>\n",
       "      <td>0.0</td>\n",
       "      <td>0.0</td>\n",
       "      <td>0.0</td>\n",
       "    </tr>\n",
       "    <tr>\n",
       "      <td>1759Girl</td>\n",
       "      <td>0.0</td>\n",
       "      <td>0.0</td>\n",
       "      <td>0.0</td>\n",
       "      <td>0.0</td>\n",
       "      <td>0.0</td>\n",
       "      <td>0.0</td>\n",
       "      <td>0.0</td>\n",
       "      <td>0.0</td>\n",
       "      <td>0.0</td>\n",
       "      <td>0.0</td>\n",
       "      <td>...</td>\n",
       "      <td>0.0</td>\n",
       "      <td>0.0</td>\n",
       "      <td>0.0</td>\n",
       "      <td>0.0</td>\n",
       "      <td>0.0</td>\n",
       "      <td>0.0</td>\n",
       "      <td>0.0</td>\n",
       "      <td>0.0</td>\n",
       "      <td>0.0</td>\n",
       "      <td>0.0</td>\n",
       "    </tr>\n",
       "    <tr>\n",
       "      <td>1fastz28</td>\n",
       "      <td>0.0</td>\n",
       "      <td>3.5</td>\n",
       "      <td>0.0</td>\n",
       "      <td>0.0</td>\n",
       "      <td>0.0</td>\n",
       "      <td>4.0</td>\n",
       "      <td>0.0</td>\n",
       "      <td>0.0</td>\n",
       "      <td>0.0</td>\n",
       "      <td>0.0</td>\n",
       "      <td>...</td>\n",
       "      <td>0.0</td>\n",
       "      <td>0.0</td>\n",
       "      <td>0.0</td>\n",
       "      <td>0.0</td>\n",
       "      <td>0.0</td>\n",
       "      <td>0.0</td>\n",
       "      <td>0.0</td>\n",
       "      <td>0.0</td>\n",
       "      <td>0.0</td>\n",
       "      <td>0.0</td>\n",
       "    </tr>\n",
       "  </tbody>\n",
       "</table>\n",
       "<p>5 rows × 6538 columns</p>\n",
       "</div>"
      ],
      "text/plain": [
       "beerid              5      6      7      8      9      10     11     12     \\\n",
       "review_profilename                                                           \n",
       "0110x011              0.0    0.0    0.0    0.0    0.0    0.0    0.0    0.0   \n",
       "05Harley              0.0    0.0    0.0    0.0    0.0    0.0    0.0    0.0   \n",
       "100floods             0.0    0.0    0.0    0.0    0.0    0.0    0.0    0.0   \n",
       "1759Girl              0.0    0.0    0.0    0.0    0.0    0.0    0.0    0.0   \n",
       "1fastz28              0.0    3.5    0.0    0.0    0.0    4.0    0.0    0.0   \n",
       "\n",
       "beerid              13     14     ...  75013  75086  75160  75188  75230  \\\n",
       "review_profilename                ...                                      \n",
       "0110x011              0.0    0.0  ...    0.0    0.0    0.0    0.0    0.0   \n",
       "05Harley              0.0    0.0  ...    0.0    0.0    0.0    0.0    0.0   \n",
       "100floods             0.0    0.0  ...    0.0    0.0    0.0    0.0    0.0   \n",
       "1759Girl              0.0    0.0  ...    0.0    0.0    0.0    0.0    0.0   \n",
       "1fastz28              0.0    0.0  ...    0.0    0.0    0.0    0.0    0.0   \n",
       "\n",
       "beerid              75894  76144  76323  76525  76816  \n",
       "review_profilename                                     \n",
       "0110x011              0.0    0.0    0.0    0.0    0.0  \n",
       "05Harley              0.0    0.0    0.0    0.0    0.0  \n",
       "100floods             0.0    0.0    0.0    0.0    0.0  \n",
       "1759Girl              0.0    0.0    0.0    0.0    0.0  \n",
       "1fastz28              0.0    0.0    0.0    0.0    0.0  \n",
       "\n",
       "[5 rows x 6538 columns]"
      ]
     },
     "execution_count": 269,
     "metadata": {},
     "output_type": "execute_result"
    }
   ],
   "source": [
    "beer_features.head()"
   ]
  },
  {
   "cell_type": "markdown",
   "metadata": {
    "colab_type": "text",
    "id": "31287pHRldar"
   },
   "source": [
    "#### datasets"
   ]
  },
  {
   "cell_type": "code",
   "execution_count": 270,
   "metadata": {
    "colab": {},
    "colab_type": "code",
    "id": "9zMThbDAldau"
   },
   "outputs": [],
   "source": [
    "#copying the datasets for more processing to build the recommender system\n",
    "train_copy = train.copy()\n",
    "test_copy = test.copy()"
   ]
  },
  {
   "cell_type": "code",
   "execution_count": 271,
   "metadata": {
    "colab": {},
    "colab_type": "code",
    "id": "jm7AlAS5lda8"
   },
   "outputs": [],
   "source": [
    "train_copy['total_reviews'] = train_copy['total_reviews'].apply(lambda x: 0 if x>=1 else 1)\n",
    "test_copy['total_reviews']  = test_copy['total_reviews'].apply(lambda x: 1 if x>=1 else 0)"
   ]
  },
  {
   "cell_type": "code",
   "execution_count": 272,
   "metadata": {
    "colab": {},
    "colab_type": "code",
    "id": "Wm5-OdlWldbJ"
   },
   "outputs": [],
   "source": [
    "# The movies not rated by user is marked as 1 for prediction. \n",
    "train_copy = train_copy.pivot(\n",
    "    index='review_profilename',\n",
    "    columns='beerid',\n",
    "    values='total_reviews'\n",
    ").fillna(1)\n",
    "\n",
    "# The movies not rated by user is marked as 0 for evaluation. \n",
    "test_copy = test_copy.pivot(\n",
    "    index='review_profilename',\n",
    "    columns='beerid',\n",
    "    values='total_reviews'\n",
    ").fillna(0)"
   ]
  },
  {
   "cell_type": "code",
   "execution_count": 273,
   "metadata": {
    "colab": {
     "base_uri": "https://localhost:8080/",
     "height": 284
    },
    "colab_type": "code",
    "id": "eAciV893ldbc",
    "outputId": "40a7ce3b-d875-4917-cf60-93483aa9ffa1"
   },
   "outputs": [
    {
     "data": {
      "text/html": [
       "<div>\n",
       "<style scoped>\n",
       "    .dataframe tbody tr th:only-of-type {\n",
       "        vertical-align: middle;\n",
       "    }\n",
       "\n",
       "    .dataframe tbody tr th {\n",
       "        vertical-align: top;\n",
       "    }\n",
       "\n",
       "    .dataframe thead th {\n",
       "        text-align: right;\n",
       "    }\n",
       "</style>\n",
       "<table border=\"1\" class=\"dataframe\">\n",
       "  <thead>\n",
       "    <tr style=\"text-align: right;\">\n",
       "      <th>beerid</th>\n",
       "      <th>5</th>\n",
       "      <th>6</th>\n",
       "      <th>7</th>\n",
       "      <th>8</th>\n",
       "      <th>9</th>\n",
       "      <th>10</th>\n",
       "      <th>11</th>\n",
       "      <th>12</th>\n",
       "      <th>13</th>\n",
       "      <th>14</th>\n",
       "      <th>...</th>\n",
       "      <th>75013</th>\n",
       "      <th>75086</th>\n",
       "      <th>75160</th>\n",
       "      <th>75188</th>\n",
       "      <th>75230</th>\n",
       "      <th>75894</th>\n",
       "      <th>76144</th>\n",
       "      <th>76323</th>\n",
       "      <th>76525</th>\n",
       "      <th>76816</th>\n",
       "    </tr>\n",
       "    <tr>\n",
       "      <th>review_profilename</th>\n",
       "      <th></th>\n",
       "      <th></th>\n",
       "      <th></th>\n",
       "      <th></th>\n",
       "      <th></th>\n",
       "      <th></th>\n",
       "      <th></th>\n",
       "      <th></th>\n",
       "      <th></th>\n",
       "      <th></th>\n",
       "      <th></th>\n",
       "      <th></th>\n",
       "      <th></th>\n",
       "      <th></th>\n",
       "      <th></th>\n",
       "      <th></th>\n",
       "      <th></th>\n",
       "      <th></th>\n",
       "      <th></th>\n",
       "      <th></th>\n",
       "      <th></th>\n",
       "    </tr>\n",
       "  </thead>\n",
       "  <tbody>\n",
       "    <tr>\n",
       "      <td>0110x011</td>\n",
       "      <td>1.0</td>\n",
       "      <td>1.0</td>\n",
       "      <td>1.0</td>\n",
       "      <td>1.0</td>\n",
       "      <td>1.0</td>\n",
       "      <td>1.0</td>\n",
       "      <td>1.0</td>\n",
       "      <td>1.0</td>\n",
       "      <td>1.0</td>\n",
       "      <td>1.0</td>\n",
       "      <td>...</td>\n",
       "      <td>1.0</td>\n",
       "      <td>1.0</td>\n",
       "      <td>1.0</td>\n",
       "      <td>1.0</td>\n",
       "      <td>1.0</td>\n",
       "      <td>1.0</td>\n",
       "      <td>1.0</td>\n",
       "      <td>1.0</td>\n",
       "      <td>1.0</td>\n",
       "      <td>1.0</td>\n",
       "    </tr>\n",
       "    <tr>\n",
       "      <td>05Harley</td>\n",
       "      <td>1.0</td>\n",
       "      <td>1.0</td>\n",
       "      <td>1.0</td>\n",
       "      <td>1.0</td>\n",
       "      <td>1.0</td>\n",
       "      <td>1.0</td>\n",
       "      <td>1.0</td>\n",
       "      <td>1.0</td>\n",
       "      <td>1.0</td>\n",
       "      <td>1.0</td>\n",
       "      <td>...</td>\n",
       "      <td>1.0</td>\n",
       "      <td>1.0</td>\n",
       "      <td>1.0</td>\n",
       "      <td>1.0</td>\n",
       "      <td>1.0</td>\n",
       "      <td>1.0</td>\n",
       "      <td>1.0</td>\n",
       "      <td>1.0</td>\n",
       "      <td>1.0</td>\n",
       "      <td>1.0</td>\n",
       "    </tr>\n",
       "    <tr>\n",
       "      <td>100floods</td>\n",
       "      <td>1.0</td>\n",
       "      <td>1.0</td>\n",
       "      <td>1.0</td>\n",
       "      <td>1.0</td>\n",
       "      <td>1.0</td>\n",
       "      <td>1.0</td>\n",
       "      <td>1.0</td>\n",
       "      <td>1.0</td>\n",
       "      <td>1.0</td>\n",
       "      <td>1.0</td>\n",
       "      <td>...</td>\n",
       "      <td>1.0</td>\n",
       "      <td>1.0</td>\n",
       "      <td>1.0</td>\n",
       "      <td>1.0</td>\n",
       "      <td>1.0</td>\n",
       "      <td>1.0</td>\n",
       "      <td>1.0</td>\n",
       "      <td>1.0</td>\n",
       "      <td>1.0</td>\n",
       "      <td>1.0</td>\n",
       "    </tr>\n",
       "    <tr>\n",
       "      <td>1759Girl</td>\n",
       "      <td>1.0</td>\n",
       "      <td>1.0</td>\n",
       "      <td>1.0</td>\n",
       "      <td>1.0</td>\n",
       "      <td>1.0</td>\n",
       "      <td>1.0</td>\n",
       "      <td>1.0</td>\n",
       "      <td>1.0</td>\n",
       "      <td>1.0</td>\n",
       "      <td>1.0</td>\n",
       "      <td>...</td>\n",
       "      <td>1.0</td>\n",
       "      <td>1.0</td>\n",
       "      <td>1.0</td>\n",
       "      <td>1.0</td>\n",
       "      <td>1.0</td>\n",
       "      <td>1.0</td>\n",
       "      <td>1.0</td>\n",
       "      <td>1.0</td>\n",
       "      <td>1.0</td>\n",
       "      <td>1.0</td>\n",
       "    </tr>\n",
       "    <tr>\n",
       "      <td>1fastz28</td>\n",
       "      <td>1.0</td>\n",
       "      <td>0.0</td>\n",
       "      <td>1.0</td>\n",
       "      <td>1.0</td>\n",
       "      <td>1.0</td>\n",
       "      <td>0.0</td>\n",
       "      <td>1.0</td>\n",
       "      <td>1.0</td>\n",
       "      <td>1.0</td>\n",
       "      <td>1.0</td>\n",
       "      <td>...</td>\n",
       "      <td>1.0</td>\n",
       "      <td>1.0</td>\n",
       "      <td>1.0</td>\n",
       "      <td>1.0</td>\n",
       "      <td>1.0</td>\n",
       "      <td>1.0</td>\n",
       "      <td>1.0</td>\n",
       "      <td>1.0</td>\n",
       "      <td>1.0</td>\n",
       "      <td>1.0</td>\n",
       "    </tr>\n",
       "  </tbody>\n",
       "</table>\n",
       "<p>5 rows × 6538 columns</p>\n",
       "</div>"
      ],
      "text/plain": [
       "beerid              5      6      7      8      9      10     11     12     \\\n",
       "review_profilename                                                           \n",
       "0110x011              1.0    1.0    1.0    1.0    1.0    1.0    1.0    1.0   \n",
       "05Harley              1.0    1.0    1.0    1.0    1.0    1.0    1.0    1.0   \n",
       "100floods             1.0    1.0    1.0    1.0    1.0    1.0    1.0    1.0   \n",
       "1759Girl              1.0    1.0    1.0    1.0    1.0    1.0    1.0    1.0   \n",
       "1fastz28              1.0    0.0    1.0    1.0    1.0    0.0    1.0    1.0   \n",
       "\n",
       "beerid              13     14     ...  75013  75086  75160  75188  75230  \\\n",
       "review_profilename                ...                                      \n",
       "0110x011              1.0    1.0  ...    1.0    1.0    1.0    1.0    1.0   \n",
       "05Harley              1.0    1.0  ...    1.0    1.0    1.0    1.0    1.0   \n",
       "100floods             1.0    1.0  ...    1.0    1.0    1.0    1.0    1.0   \n",
       "1759Girl              1.0    1.0  ...    1.0    1.0    1.0    1.0    1.0   \n",
       "1fastz28              1.0    1.0  ...    1.0    1.0    1.0    1.0    1.0   \n",
       "\n",
       "beerid              75894  76144  76323  76525  76816  \n",
       "review_profilename                                     \n",
       "0110x011              1.0    1.0    1.0    1.0    1.0  \n",
       "05Harley              1.0    1.0    1.0    1.0    1.0  \n",
       "100floods             1.0    1.0    1.0    1.0    1.0  \n",
       "1759Girl              1.0    1.0    1.0    1.0    1.0  \n",
       "1fastz28              1.0    1.0    1.0    1.0    1.0  \n",
       "\n",
       "[5 rows x 6538 columns]"
      ]
     },
     "execution_count": 273,
     "metadata": {},
     "output_type": "execute_result"
    }
   ],
   "source": [
    "train_copy.head()"
   ]
  },
  {
   "cell_type": "code",
   "execution_count": 274,
   "metadata": {
    "colab": {
     "base_uri": "https://localhost:8080/",
     "height": 284
    },
    "colab_type": "code",
    "id": "9aIbHsayldb2",
    "outputId": "56de11bb-33c6-4ef0-950b-af25dc829cee"
   },
   "outputs": [
    {
     "data": {
      "text/html": [
       "<div>\n",
       "<style scoped>\n",
       "    .dataframe tbody tr th:only-of-type {\n",
       "        vertical-align: middle;\n",
       "    }\n",
       "\n",
       "    .dataframe tbody tr th {\n",
       "        vertical-align: top;\n",
       "    }\n",
       "\n",
       "    .dataframe thead th {\n",
       "        text-align: right;\n",
       "    }\n",
       "</style>\n",
       "<table border=\"1\" class=\"dataframe\">\n",
       "  <thead>\n",
       "    <tr style=\"text-align: right;\">\n",
       "      <th>beerid</th>\n",
       "      <th>5</th>\n",
       "      <th>6</th>\n",
       "      <th>7</th>\n",
       "      <th>8</th>\n",
       "      <th>9</th>\n",
       "      <th>10</th>\n",
       "      <th>11</th>\n",
       "      <th>12</th>\n",
       "      <th>13</th>\n",
       "      <th>14</th>\n",
       "      <th>...</th>\n",
       "      <th>75013</th>\n",
       "      <th>75086</th>\n",
       "      <th>75160</th>\n",
       "      <th>75188</th>\n",
       "      <th>75230</th>\n",
       "      <th>75894</th>\n",
       "      <th>76144</th>\n",
       "      <th>76323</th>\n",
       "      <th>76525</th>\n",
       "      <th>76816</th>\n",
       "    </tr>\n",
       "    <tr>\n",
       "      <th>review_profilename</th>\n",
       "      <th></th>\n",
       "      <th></th>\n",
       "      <th></th>\n",
       "      <th></th>\n",
       "      <th></th>\n",
       "      <th></th>\n",
       "      <th></th>\n",
       "      <th></th>\n",
       "      <th></th>\n",
       "      <th></th>\n",
       "      <th></th>\n",
       "      <th></th>\n",
       "      <th></th>\n",
       "      <th></th>\n",
       "      <th></th>\n",
       "      <th></th>\n",
       "      <th></th>\n",
       "      <th></th>\n",
       "      <th></th>\n",
       "      <th></th>\n",
       "      <th></th>\n",
       "    </tr>\n",
       "  </thead>\n",
       "  <tbody>\n",
       "    <tr>\n",
       "      <td>0110x011</td>\n",
       "      <td>0.0</td>\n",
       "      <td>0.0</td>\n",
       "      <td>0.0</td>\n",
       "      <td>0.0</td>\n",
       "      <td>0.0</td>\n",
       "      <td>0.0</td>\n",
       "      <td>0.0</td>\n",
       "      <td>0.0</td>\n",
       "      <td>0.0</td>\n",
       "      <td>0.0</td>\n",
       "      <td>...</td>\n",
       "      <td>0.0</td>\n",
       "      <td>0.0</td>\n",
       "      <td>0.0</td>\n",
       "      <td>0.0</td>\n",
       "      <td>0.0</td>\n",
       "      <td>0.0</td>\n",
       "      <td>0.0</td>\n",
       "      <td>0.0</td>\n",
       "      <td>0.0</td>\n",
       "      <td>0.0</td>\n",
       "    </tr>\n",
       "    <tr>\n",
       "      <td>05Harley</td>\n",
       "      <td>0.0</td>\n",
       "      <td>0.0</td>\n",
       "      <td>0.0</td>\n",
       "      <td>0.0</td>\n",
       "      <td>0.0</td>\n",
       "      <td>0.0</td>\n",
       "      <td>0.0</td>\n",
       "      <td>0.0</td>\n",
       "      <td>0.0</td>\n",
       "      <td>0.0</td>\n",
       "      <td>...</td>\n",
       "      <td>0.0</td>\n",
       "      <td>0.0</td>\n",
       "      <td>0.0</td>\n",
       "      <td>0.0</td>\n",
       "      <td>0.0</td>\n",
       "      <td>0.0</td>\n",
       "      <td>0.0</td>\n",
       "      <td>0.0</td>\n",
       "      <td>0.0</td>\n",
       "      <td>0.0</td>\n",
       "    </tr>\n",
       "    <tr>\n",
       "      <td>100floods</td>\n",
       "      <td>0.0</td>\n",
       "      <td>0.0</td>\n",
       "      <td>0.0</td>\n",
       "      <td>0.0</td>\n",
       "      <td>0.0</td>\n",
       "      <td>0.0</td>\n",
       "      <td>0.0</td>\n",
       "      <td>0.0</td>\n",
       "      <td>0.0</td>\n",
       "      <td>0.0</td>\n",
       "      <td>...</td>\n",
       "      <td>0.0</td>\n",
       "      <td>0.0</td>\n",
       "      <td>0.0</td>\n",
       "      <td>0.0</td>\n",
       "      <td>0.0</td>\n",
       "      <td>0.0</td>\n",
       "      <td>0.0</td>\n",
       "      <td>0.0</td>\n",
       "      <td>0.0</td>\n",
       "      <td>0.0</td>\n",
       "    </tr>\n",
       "    <tr>\n",
       "      <td>1759Girl</td>\n",
       "      <td>0.0</td>\n",
       "      <td>0.0</td>\n",
       "      <td>0.0</td>\n",
       "      <td>0.0</td>\n",
       "      <td>0.0</td>\n",
       "      <td>0.0</td>\n",
       "      <td>0.0</td>\n",
       "      <td>0.0</td>\n",
       "      <td>0.0</td>\n",
       "      <td>0.0</td>\n",
       "      <td>...</td>\n",
       "      <td>0.0</td>\n",
       "      <td>0.0</td>\n",
       "      <td>0.0</td>\n",
       "      <td>0.0</td>\n",
       "      <td>0.0</td>\n",
       "      <td>0.0</td>\n",
       "      <td>0.0</td>\n",
       "      <td>0.0</td>\n",
       "      <td>0.0</td>\n",
       "      <td>0.0</td>\n",
       "    </tr>\n",
       "    <tr>\n",
       "      <td>1fastz28</td>\n",
       "      <td>0.0</td>\n",
       "      <td>0.0</td>\n",
       "      <td>0.0</td>\n",
       "      <td>0.0</td>\n",
       "      <td>1.0</td>\n",
       "      <td>0.0</td>\n",
       "      <td>0.0</td>\n",
       "      <td>0.0</td>\n",
       "      <td>0.0</td>\n",
       "      <td>0.0</td>\n",
       "      <td>...</td>\n",
       "      <td>0.0</td>\n",
       "      <td>0.0</td>\n",
       "      <td>0.0</td>\n",
       "      <td>0.0</td>\n",
       "      <td>0.0</td>\n",
       "      <td>0.0</td>\n",
       "      <td>0.0</td>\n",
       "      <td>0.0</td>\n",
       "      <td>0.0</td>\n",
       "      <td>0.0</td>\n",
       "    </tr>\n",
       "  </tbody>\n",
       "</table>\n",
       "<p>5 rows × 6502 columns</p>\n",
       "</div>"
      ],
      "text/plain": [
       "beerid              5      6      7      8      9      10     11     12     \\\n",
       "review_profilename                                                           \n",
       "0110x011              0.0    0.0    0.0    0.0    0.0    0.0    0.0    0.0   \n",
       "05Harley              0.0    0.0    0.0    0.0    0.0    0.0    0.0    0.0   \n",
       "100floods             0.0    0.0    0.0    0.0    0.0    0.0    0.0    0.0   \n",
       "1759Girl              0.0    0.0    0.0    0.0    0.0    0.0    0.0    0.0   \n",
       "1fastz28              0.0    0.0    0.0    0.0    1.0    0.0    0.0    0.0   \n",
       "\n",
       "beerid              13     14     ...  75013  75086  75160  75188  75230  \\\n",
       "review_profilename                ...                                      \n",
       "0110x011              0.0    0.0  ...    0.0    0.0    0.0    0.0    0.0   \n",
       "05Harley              0.0    0.0  ...    0.0    0.0    0.0    0.0    0.0   \n",
       "100floods             0.0    0.0  ...    0.0    0.0    0.0    0.0    0.0   \n",
       "1759Girl              0.0    0.0  ...    0.0    0.0    0.0    0.0    0.0   \n",
       "1fastz28              0.0    0.0  ...    0.0    0.0    0.0    0.0    0.0   \n",
       "\n",
       "beerid              75894  76144  76323  76525  76816  \n",
       "review_profilename                                     \n",
       "0110x011              0.0    0.0    0.0    0.0    0.0  \n",
       "05Harley              0.0    0.0    0.0    0.0    0.0  \n",
       "100floods             0.0    0.0    0.0    0.0    0.0  \n",
       "1759Girl              0.0    0.0    0.0    0.0    0.0  \n",
       "1fastz28              0.0    0.0    0.0    0.0    0.0  \n",
       "\n",
       "[5 rows x 6502 columns]"
      ]
     },
     "execution_count": 274,
     "metadata": {},
     "output_type": "execute_result"
    }
   ],
   "source": [
    "test_copy.head()"
   ]
  },
  {
   "cell_type": "markdown",
   "metadata": {
    "colab_type": "text",
    "id": "O7EeHqQqldcJ"
   },
   "source": [
    "#### User Similarity Matrix  -- 1. Cosine Similarity"
   ]
  },
  {
   "cell_type": "code",
   "execution_count": 275,
   "metadata": {
    "colab": {
     "base_uri": "https://localhost:8080/",
     "height": 136
    },
    "colab_type": "code",
    "id": "ys08gFSTldcQ",
    "outputId": "7febbe47-5288-4875-d348-4fadb498af36"
   },
   "outputs": [],
   "source": [
    "from sklearn.metrics.pairwise import pairwise_distances\n",
    "\n",
    "corr_users = 1 - pairwise_distances(beer_features, metric='cosine')\n",
    "corr_users[np.isnan(corr_users)] = 0"
   ]
  },
  {
   "cell_type": "code",
   "execution_count": 276,
   "metadata": {
    "colab": {
     "base_uri": "https://localhost:8080/",
     "height": 34
    },
    "colab_type": "code",
    "id": "D-qiTjXvldcg",
    "outputId": "a3dd0959-3697-485a-8a8c-4730e060a5e8"
   },
   "outputs": [
    {
     "name": "stdout",
     "output_type": "stream",
     "text": [
      "[[1.         0.         0.04391285 ... 0.03096466 0.         0.        ]\n",
      " [0.         1.         0.03165713 ... 0.02746736 0.01624386 0.        ]\n",
      " [0.04391285 0.03165713 1.         ... 0.03108296 0.05955793 0.        ]\n",
      " ...\n",
      " [0.03096466 0.02746736 0.03108296 ... 1.         0.         0.        ]\n",
      " [0.         0.01624386 0.05955793 ... 0.         1.         0.        ]\n",
      " [0.         0.         0.         ... 0.         0.         1.        ]]\n",
      "(3176, 3176)\n"
     ]
    }
   ],
   "source": [
    "print(corr_users)\n",
    "print(corr_users.shape)"
   ]
  },
  {
   "cell_type": "markdown",
   "metadata": {
    "colab_type": "text",
    "id": "BJa8A4Idldcu"
   },
   "source": [
    "#### User Similarity Matrix  -- 2. adjusted Cosine "
   ]
  },
  {
   "cell_type": "code",
   "execution_count": 277,
   "metadata": {
    "colab": {},
    "colab_type": "code",
    "id": "YyLqqk81ldc7"
   },
   "outputs": [],
   "source": [
    "beer_features = train.pivot(index='review_profilename', columns='beerid', values='total_reviews')"
   ]
  },
  {
   "cell_type": "code",
   "execution_count": 278,
   "metadata": {
    "colab": {
     "base_uri": "https://localhost:8080/",
     "height": 284
    },
    "colab_type": "code",
    "id": "rk91J5bzlddJ",
    "outputId": "0ab083fd-8b6c-41f6-c005-2a2a8fc2fcdf"
   },
   "outputs": [
    {
     "data": {
      "text/html": [
       "<div>\n",
       "<style scoped>\n",
       "    .dataframe tbody tr th:only-of-type {\n",
       "        vertical-align: middle;\n",
       "    }\n",
       "\n",
       "    .dataframe tbody tr th {\n",
       "        vertical-align: top;\n",
       "    }\n",
       "\n",
       "    .dataframe thead th {\n",
       "        text-align: right;\n",
       "    }\n",
       "</style>\n",
       "<table border=\"1\" class=\"dataframe\">\n",
       "  <thead>\n",
       "    <tr style=\"text-align: right;\">\n",
       "      <th>beerid</th>\n",
       "      <th>5</th>\n",
       "      <th>6</th>\n",
       "      <th>7</th>\n",
       "      <th>8</th>\n",
       "      <th>9</th>\n",
       "      <th>10</th>\n",
       "      <th>11</th>\n",
       "      <th>12</th>\n",
       "      <th>13</th>\n",
       "      <th>14</th>\n",
       "      <th>...</th>\n",
       "      <th>75013</th>\n",
       "      <th>75086</th>\n",
       "      <th>75160</th>\n",
       "      <th>75188</th>\n",
       "      <th>75230</th>\n",
       "      <th>75894</th>\n",
       "      <th>76144</th>\n",
       "      <th>76323</th>\n",
       "      <th>76525</th>\n",
       "      <th>76816</th>\n",
       "    </tr>\n",
       "    <tr>\n",
       "      <th>review_profilename</th>\n",
       "      <th></th>\n",
       "      <th></th>\n",
       "      <th></th>\n",
       "      <th></th>\n",
       "      <th></th>\n",
       "      <th></th>\n",
       "      <th></th>\n",
       "      <th></th>\n",
       "      <th></th>\n",
       "      <th></th>\n",
       "      <th></th>\n",
       "      <th></th>\n",
       "      <th></th>\n",
       "      <th></th>\n",
       "      <th></th>\n",
       "      <th></th>\n",
       "      <th></th>\n",
       "      <th></th>\n",
       "      <th></th>\n",
       "      <th></th>\n",
       "      <th></th>\n",
       "    </tr>\n",
       "  </thead>\n",
       "  <tbody>\n",
       "    <tr>\n",
       "      <td>0110x011</td>\n",
       "      <td>NaN</td>\n",
       "      <td>NaN</td>\n",
       "      <td>NaN</td>\n",
       "      <td>NaN</td>\n",
       "      <td>NaN</td>\n",
       "      <td>NaN</td>\n",
       "      <td>NaN</td>\n",
       "      <td>NaN</td>\n",
       "      <td>NaN</td>\n",
       "      <td>NaN</td>\n",
       "      <td>...</td>\n",
       "      <td>NaN</td>\n",
       "      <td>NaN</td>\n",
       "      <td>NaN</td>\n",
       "      <td>NaN</td>\n",
       "      <td>NaN</td>\n",
       "      <td>NaN</td>\n",
       "      <td>NaN</td>\n",
       "      <td>NaN</td>\n",
       "      <td>NaN</td>\n",
       "      <td>NaN</td>\n",
       "    </tr>\n",
       "    <tr>\n",
       "      <td>05Harley</td>\n",
       "      <td>NaN</td>\n",
       "      <td>NaN</td>\n",
       "      <td>NaN</td>\n",
       "      <td>NaN</td>\n",
       "      <td>NaN</td>\n",
       "      <td>NaN</td>\n",
       "      <td>NaN</td>\n",
       "      <td>NaN</td>\n",
       "      <td>NaN</td>\n",
       "      <td>NaN</td>\n",
       "      <td>...</td>\n",
       "      <td>NaN</td>\n",
       "      <td>NaN</td>\n",
       "      <td>NaN</td>\n",
       "      <td>NaN</td>\n",
       "      <td>NaN</td>\n",
       "      <td>NaN</td>\n",
       "      <td>NaN</td>\n",
       "      <td>NaN</td>\n",
       "      <td>NaN</td>\n",
       "      <td>NaN</td>\n",
       "    </tr>\n",
       "    <tr>\n",
       "      <td>100floods</td>\n",
       "      <td>NaN</td>\n",
       "      <td>NaN</td>\n",
       "      <td>NaN</td>\n",
       "      <td>NaN</td>\n",
       "      <td>NaN</td>\n",
       "      <td>NaN</td>\n",
       "      <td>NaN</td>\n",
       "      <td>NaN</td>\n",
       "      <td>NaN</td>\n",
       "      <td>NaN</td>\n",
       "      <td>...</td>\n",
       "      <td>NaN</td>\n",
       "      <td>NaN</td>\n",
       "      <td>NaN</td>\n",
       "      <td>NaN</td>\n",
       "      <td>NaN</td>\n",
       "      <td>NaN</td>\n",
       "      <td>NaN</td>\n",
       "      <td>NaN</td>\n",
       "      <td>NaN</td>\n",
       "      <td>NaN</td>\n",
       "    </tr>\n",
       "    <tr>\n",
       "      <td>1759Girl</td>\n",
       "      <td>NaN</td>\n",
       "      <td>NaN</td>\n",
       "      <td>NaN</td>\n",
       "      <td>NaN</td>\n",
       "      <td>NaN</td>\n",
       "      <td>NaN</td>\n",
       "      <td>NaN</td>\n",
       "      <td>NaN</td>\n",
       "      <td>NaN</td>\n",
       "      <td>NaN</td>\n",
       "      <td>...</td>\n",
       "      <td>NaN</td>\n",
       "      <td>NaN</td>\n",
       "      <td>NaN</td>\n",
       "      <td>NaN</td>\n",
       "      <td>NaN</td>\n",
       "      <td>NaN</td>\n",
       "      <td>NaN</td>\n",
       "      <td>NaN</td>\n",
       "      <td>NaN</td>\n",
       "      <td>NaN</td>\n",
       "    </tr>\n",
       "    <tr>\n",
       "      <td>1fastz28</td>\n",
       "      <td>NaN</td>\n",
       "      <td>3.5</td>\n",
       "      <td>NaN</td>\n",
       "      <td>NaN</td>\n",
       "      <td>NaN</td>\n",
       "      <td>4.0</td>\n",
       "      <td>NaN</td>\n",
       "      <td>NaN</td>\n",
       "      <td>NaN</td>\n",
       "      <td>NaN</td>\n",
       "      <td>...</td>\n",
       "      <td>NaN</td>\n",
       "      <td>NaN</td>\n",
       "      <td>NaN</td>\n",
       "      <td>NaN</td>\n",
       "      <td>NaN</td>\n",
       "      <td>NaN</td>\n",
       "      <td>NaN</td>\n",
       "      <td>NaN</td>\n",
       "      <td>NaN</td>\n",
       "      <td>NaN</td>\n",
       "    </tr>\n",
       "  </tbody>\n",
       "</table>\n",
       "<p>5 rows × 6538 columns</p>\n",
       "</div>"
      ],
      "text/plain": [
       "beerid              5      6      7      8      9      10     11     12     \\\n",
       "review_profilename                                                           \n",
       "0110x011              NaN    NaN    NaN    NaN    NaN    NaN    NaN    NaN   \n",
       "05Harley              NaN    NaN    NaN    NaN    NaN    NaN    NaN    NaN   \n",
       "100floods             NaN    NaN    NaN    NaN    NaN    NaN    NaN    NaN   \n",
       "1759Girl              NaN    NaN    NaN    NaN    NaN    NaN    NaN    NaN   \n",
       "1fastz28              NaN    3.5    NaN    NaN    NaN    4.0    NaN    NaN   \n",
       "\n",
       "beerid              13     14     ...  75013  75086  75160  75188  75230  \\\n",
       "review_profilename                ...                                      \n",
       "0110x011              NaN    NaN  ...    NaN    NaN    NaN    NaN    NaN   \n",
       "05Harley              NaN    NaN  ...    NaN    NaN    NaN    NaN    NaN   \n",
       "100floods             NaN    NaN  ...    NaN    NaN    NaN    NaN    NaN   \n",
       "1759Girl              NaN    NaN  ...    NaN    NaN    NaN    NaN    NaN   \n",
       "1fastz28              NaN    NaN  ...    NaN    NaN    NaN    NaN    NaN   \n",
       "\n",
       "beerid              75894  76144  76323  76525  76816  \n",
       "review_profilename                                     \n",
       "0110x011              NaN    NaN    NaN    NaN    NaN  \n",
       "05Harley              NaN    NaN    NaN    NaN    NaN  \n",
       "100floods             NaN    NaN    NaN    NaN    NaN  \n",
       "1759Girl              NaN    NaN    NaN    NaN    NaN  \n",
       "1fastz28              NaN    NaN    NaN    NaN    NaN  \n",
       "\n",
       "[5 rows x 6538 columns]"
      ]
     },
     "execution_count": 278,
     "metadata": {},
     "output_type": "execute_result"
    }
   ],
   "source": [
    "beer_features.head()"
   ]
  },
  {
   "cell_type": "code",
   "execution_count": 279,
   "metadata": {
    "colab": {},
    "colab_type": "code",
    "id": "k_wJwHmelddm"
   },
   "outputs": [],
   "source": [
    "# Normalised the total_reviews for each user\n",
    "\n",
    "mean_nan = np.nanmean(beer_features, axis=1)\n",
    "beer_data_diff = (beer_features.T-mean_nan).T"
   ]
  },
  {
   "cell_type": "code",
   "execution_count": 280,
   "metadata": {
    "colab": {
     "base_uri": "https://localhost:8080/",
     "height": 284
    },
    "colab_type": "code",
    "id": "c1tPn_4-ldd3",
    "outputId": "a16fc96c-bd2d-4cfa-f4a2-6a2b6cd02e0e"
   },
   "outputs": [
    {
     "data": {
      "text/html": [
       "<div>\n",
       "<style scoped>\n",
       "    .dataframe tbody tr th:only-of-type {\n",
       "        vertical-align: middle;\n",
       "    }\n",
       "\n",
       "    .dataframe tbody tr th {\n",
       "        vertical-align: top;\n",
       "    }\n",
       "\n",
       "    .dataframe thead th {\n",
       "        text-align: right;\n",
       "    }\n",
       "</style>\n",
       "<table border=\"1\" class=\"dataframe\">\n",
       "  <thead>\n",
       "    <tr style=\"text-align: right;\">\n",
       "      <th>beerid</th>\n",
       "      <th>5</th>\n",
       "      <th>6</th>\n",
       "      <th>7</th>\n",
       "      <th>8</th>\n",
       "      <th>9</th>\n",
       "      <th>10</th>\n",
       "      <th>11</th>\n",
       "      <th>12</th>\n",
       "      <th>13</th>\n",
       "      <th>14</th>\n",
       "      <th>...</th>\n",
       "      <th>75013</th>\n",
       "      <th>75086</th>\n",
       "      <th>75160</th>\n",
       "      <th>75188</th>\n",
       "      <th>75230</th>\n",
       "      <th>75894</th>\n",
       "      <th>76144</th>\n",
       "      <th>76323</th>\n",
       "      <th>76525</th>\n",
       "      <th>76816</th>\n",
       "    </tr>\n",
       "    <tr>\n",
       "      <th>review_profilename</th>\n",
       "      <th></th>\n",
       "      <th></th>\n",
       "      <th></th>\n",
       "      <th></th>\n",
       "      <th></th>\n",
       "      <th></th>\n",
       "      <th></th>\n",
       "      <th></th>\n",
       "      <th></th>\n",
       "      <th></th>\n",
       "      <th></th>\n",
       "      <th></th>\n",
       "      <th></th>\n",
       "      <th></th>\n",
       "      <th></th>\n",
       "      <th></th>\n",
       "      <th></th>\n",
       "      <th></th>\n",
       "      <th></th>\n",
       "      <th></th>\n",
       "      <th></th>\n",
       "    </tr>\n",
       "  </thead>\n",
       "  <tbody>\n",
       "    <tr>\n",
       "      <td>0110x011</td>\n",
       "      <td>NaN</td>\n",
       "      <td>NaN</td>\n",
       "      <td>NaN</td>\n",
       "      <td>NaN</td>\n",
       "      <td>NaN</td>\n",
       "      <td>NaN</td>\n",
       "      <td>NaN</td>\n",
       "      <td>NaN</td>\n",
       "      <td>NaN</td>\n",
       "      <td>NaN</td>\n",
       "      <td>...</td>\n",
       "      <td>NaN</td>\n",
       "      <td>NaN</td>\n",
       "      <td>NaN</td>\n",
       "      <td>NaN</td>\n",
       "      <td>NaN</td>\n",
       "      <td>NaN</td>\n",
       "      <td>NaN</td>\n",
       "      <td>NaN</td>\n",
       "      <td>NaN</td>\n",
       "      <td>NaN</td>\n",
       "    </tr>\n",
       "    <tr>\n",
       "      <td>05Harley</td>\n",
       "      <td>NaN</td>\n",
       "      <td>NaN</td>\n",
       "      <td>NaN</td>\n",
       "      <td>NaN</td>\n",
       "      <td>NaN</td>\n",
       "      <td>NaN</td>\n",
       "      <td>NaN</td>\n",
       "      <td>NaN</td>\n",
       "      <td>NaN</td>\n",
       "      <td>NaN</td>\n",
       "      <td>...</td>\n",
       "      <td>NaN</td>\n",
       "      <td>NaN</td>\n",
       "      <td>NaN</td>\n",
       "      <td>NaN</td>\n",
       "      <td>NaN</td>\n",
       "      <td>NaN</td>\n",
       "      <td>NaN</td>\n",
       "      <td>NaN</td>\n",
       "      <td>NaN</td>\n",
       "      <td>NaN</td>\n",
       "    </tr>\n",
       "    <tr>\n",
       "      <td>100floods</td>\n",
       "      <td>NaN</td>\n",
       "      <td>NaN</td>\n",
       "      <td>NaN</td>\n",
       "      <td>NaN</td>\n",
       "      <td>NaN</td>\n",
       "      <td>NaN</td>\n",
       "      <td>NaN</td>\n",
       "      <td>NaN</td>\n",
       "      <td>NaN</td>\n",
       "      <td>NaN</td>\n",
       "      <td>...</td>\n",
       "      <td>NaN</td>\n",
       "      <td>NaN</td>\n",
       "      <td>NaN</td>\n",
       "      <td>NaN</td>\n",
       "      <td>NaN</td>\n",
       "      <td>NaN</td>\n",
       "      <td>NaN</td>\n",
       "      <td>NaN</td>\n",
       "      <td>NaN</td>\n",
       "      <td>NaN</td>\n",
       "    </tr>\n",
       "    <tr>\n",
       "      <td>1759Girl</td>\n",
       "      <td>NaN</td>\n",
       "      <td>NaN</td>\n",
       "      <td>NaN</td>\n",
       "      <td>NaN</td>\n",
       "      <td>NaN</td>\n",
       "      <td>NaN</td>\n",
       "      <td>NaN</td>\n",
       "      <td>NaN</td>\n",
       "      <td>NaN</td>\n",
       "      <td>NaN</td>\n",
       "      <td>...</td>\n",
       "      <td>NaN</td>\n",
       "      <td>NaN</td>\n",
       "      <td>NaN</td>\n",
       "      <td>NaN</td>\n",
       "      <td>NaN</td>\n",
       "      <td>NaN</td>\n",
       "      <td>NaN</td>\n",
       "      <td>NaN</td>\n",
       "      <td>NaN</td>\n",
       "      <td>NaN</td>\n",
       "    </tr>\n",
       "    <tr>\n",
       "      <td>1fastz28</td>\n",
       "      <td>NaN</td>\n",
       "      <td>-0.315068</td>\n",
       "      <td>NaN</td>\n",
       "      <td>NaN</td>\n",
       "      <td>NaN</td>\n",
       "      <td>0.184932</td>\n",
       "      <td>NaN</td>\n",
       "      <td>NaN</td>\n",
       "      <td>NaN</td>\n",
       "      <td>NaN</td>\n",
       "      <td>...</td>\n",
       "      <td>NaN</td>\n",
       "      <td>NaN</td>\n",
       "      <td>NaN</td>\n",
       "      <td>NaN</td>\n",
       "      <td>NaN</td>\n",
       "      <td>NaN</td>\n",
       "      <td>NaN</td>\n",
       "      <td>NaN</td>\n",
       "      <td>NaN</td>\n",
       "      <td>NaN</td>\n",
       "    </tr>\n",
       "  </tbody>\n",
       "</table>\n",
       "<p>5 rows × 6538 columns</p>\n",
       "</div>"
      ],
      "text/plain": [
       "beerid              5         6      7      8      9         10     11     \\\n",
       "review_profilename                                                          \n",
       "0110x011              NaN       NaN    NaN    NaN    NaN       NaN    NaN   \n",
       "05Harley              NaN       NaN    NaN    NaN    NaN       NaN    NaN   \n",
       "100floods             NaN       NaN    NaN    NaN    NaN       NaN    NaN   \n",
       "1759Girl              NaN       NaN    NaN    NaN    NaN       NaN    NaN   \n",
       "1fastz28              NaN -0.315068    NaN    NaN    NaN  0.184932    NaN   \n",
       "\n",
       "beerid              12     13     14     ...  75013  75086  75160  75188  \\\n",
       "review_profilename                       ...                               \n",
       "0110x011              NaN    NaN    NaN  ...    NaN    NaN    NaN    NaN   \n",
       "05Harley              NaN    NaN    NaN  ...    NaN    NaN    NaN    NaN   \n",
       "100floods             NaN    NaN    NaN  ...    NaN    NaN    NaN    NaN   \n",
       "1759Girl              NaN    NaN    NaN  ...    NaN    NaN    NaN    NaN   \n",
       "1fastz28              NaN    NaN    NaN  ...    NaN    NaN    NaN    NaN   \n",
       "\n",
       "beerid              75230  75894  76144  76323  76525  76816  \n",
       "review_profilename                                            \n",
       "0110x011              NaN    NaN    NaN    NaN    NaN    NaN  \n",
       "05Harley              NaN    NaN    NaN    NaN    NaN    NaN  \n",
       "100floods             NaN    NaN    NaN    NaN    NaN    NaN  \n",
       "1759Girl              NaN    NaN    NaN    NaN    NaN    NaN  \n",
       "1fastz28              NaN    NaN    NaN    NaN    NaN    NaN  \n",
       "\n",
       "[5 rows x 6538 columns]"
      ]
     },
     "execution_count": 280,
     "metadata": {},
     "output_type": "execute_result"
    }
   ],
   "source": [
    "beer_data_diff.head()"
   ]
  },
  {
   "cell_type": "code",
   "execution_count": 281,
   "metadata": {
    "colab": {
     "base_uri": "https://localhost:8080/",
     "height": 238
    },
    "colab_type": "code",
    "id": "j1SDk2d2ldeT",
    "outputId": "ccaa496d-8ab4-4b8d-d586-71df3c7915c6"
   },
   "outputs": [
    {
     "data": {
      "text/plain": [
       "array([[ 1.00000000e+00,  0.00000000e+00, -1.80005128e-02, ...,\n",
       "        -8.35017178e-04,  0.00000000e+00,  0.00000000e+00],\n",
       "       [ 0.00000000e+00,  1.00000000e+00,  2.19303446e-03, ...,\n",
       "        -2.15288883e-02,  1.94621925e-02,  0.00000000e+00],\n",
       "       [-1.80005128e-02,  2.19303446e-03,  1.00000000e+00, ...,\n",
       "        -3.49624972e-02,  1.86584527e-03,  0.00000000e+00],\n",
       "       ...,\n",
       "       [-8.35017178e-04, -2.15288883e-02, -3.49624972e-02, ...,\n",
       "         1.00000000e+00,  0.00000000e+00,  0.00000000e+00],\n",
       "       [ 0.00000000e+00,  1.94621925e-02,  1.86584527e-03, ...,\n",
       "         0.00000000e+00,  1.00000000e+00,  0.00000000e+00],\n",
       "       [ 0.00000000e+00,  0.00000000e+00,  0.00000000e+00, ...,\n",
       "         0.00000000e+00,  0.00000000e+00,  1.00000000e+00]])"
      ]
     },
     "execution_count": 281,
     "metadata": {},
     "output_type": "execute_result"
    }
   ],
   "source": [
    "from sklearn.metrics.pairwise import pairwise_distances\n",
    "\n",
    "# cosine similarity -- User Similarity Matrix\n",
    "corr_users = 1 - pairwise_distances(beer_data_diff.fillna(0), metric='cosine')\n",
    "corr_users[np.isnan(corr_users)] = 0\n",
    "corr_users"
   ]
  },
  {
   "cell_type": "code",
   "execution_count": 282,
   "metadata": {
    "colab": {
     "base_uri": "https://localhost:8080/",
     "height": 238
    },
    "colab_type": "code",
    "id": "ow0o-4cXldeq",
    "outputId": "03915dcc-e5d3-49f5-e9b0-7e6138f81e66"
   },
   "outputs": [
    {
     "data": {
      "text/plain": [
       "array([[1.        , 0.        , 0.        , ..., 0.        , 0.        ,\n",
       "        0.        ],\n",
       "       [0.        , 1.        , 0.00219303, ..., 0.        , 0.01946219,\n",
       "        0.        ],\n",
       "       [0.        , 0.00219303, 1.        , ..., 0.        , 0.00186585,\n",
       "        0.        ],\n",
       "       ...,\n",
       "       [0.        , 0.        , 0.        , ..., 1.        , 0.        ,\n",
       "        0.        ],\n",
       "       [0.        , 0.01946219, 0.00186585, ..., 0.        , 1.        ,\n",
       "        0.        ],\n",
       "       [0.        , 0.        , 0.        , ..., 0.        , 0.        ,\n",
       "        1.        ]])"
      ]
     },
     "execution_count": 282,
     "metadata": {},
     "output_type": "execute_result"
    }
   ],
   "source": [
    "# Prediction making\n",
    "corr_users[corr_users < 0] = 0\n",
    "corr_users"
   ]
  },
  {
   "cell_type": "code",
   "execution_count": 283,
   "metadata": {
    "colab": {
     "base_uri": "https://localhost:8080/",
     "height": 238
    },
    "colab_type": "code",
    "id": "uQwUZQaBldfE",
    "outputId": "9a67699f-9472-4218-84e0-fc28fce68132"
   },
   "outputs": [
    {
     "data": {
      "text/plain": [
       "array([[0.91472702, 2.20340051, 1.44846041, ..., 0.1878928 , 0.09853094,\n",
       "        0.19318637],\n",
       "       [2.20286748, 3.80349403, 2.81903548, ..., 0.        , 0.64325843,\n",
       "        0.83678707],\n",
       "       [0.49841036, 1.29660167, 1.29692479, ..., 0.07772825, 0.23575679,\n",
       "        0.72626309],\n",
       "       ...,\n",
       "       [4.68232252, 6.30500922, 4.83218404, ..., 0.21528625, 0.31553096,\n",
       "        0.24530876],\n",
       "       [2.23745351, 6.32711393, 4.2748027 , ..., 0.28832797, 0.21728075,\n",
       "        0.59609857],\n",
       "       [2.34365101, 4.31355319, 3.1682316 , ..., 0.09255891, 0.15183891,\n",
       "        0.32806575]])"
      ]
     },
     "execution_count": 283,
     "metadata": {},
     "output_type": "execute_result"
    }
   ],
   "source": [
    "user_pred_rating = np.dot(corr_users, beer_features.fillna(0))\n",
    "user_pred_rating"
   ]
  },
  {
   "cell_type": "code",
   "execution_count": 284,
   "metadata": {
    "colab": {
     "base_uri": "https://localhost:8080/",
     "height": 34
    },
    "colab_type": "code",
    "id": "ugcvGS7xldfY",
    "outputId": "2e47facf-ba67-4de8-a762-d1b37cb780a9"
   },
   "outputs": [
    {
     "data": {
      "text/plain": [
       "(3176, 6538)"
      ]
     },
     "execution_count": 284,
     "metadata": {},
     "output_type": "execute_result"
    }
   ],
   "source": [
    "user_pred_rating.shape"
   ]
  },
  {
   "cell_type": "markdown",
   "metadata": {
    "colab_type": "text",
    "id": "PlGO1THZldfn"
   },
   "source": [
    "###### Ignoring the movies rated by the user by making it '0' as we are interested only in the movies not rated by the user."
   ]
  },
  {
   "cell_type": "code",
   "execution_count": 285,
   "metadata": {
    "colab": {
     "base_uri": "https://localhost:8080/",
     "height": 284
    },
    "colab_type": "code",
    "id": "aT3vX-fJldfr",
    "outputId": "44ab515a-4484-4680-b8f3-524f1f2b7804"
   },
   "outputs": [
    {
     "data": {
      "text/html": [
       "<div>\n",
       "<style scoped>\n",
       "    .dataframe tbody tr th:only-of-type {\n",
       "        vertical-align: middle;\n",
       "    }\n",
       "\n",
       "    .dataframe tbody tr th {\n",
       "        vertical-align: top;\n",
       "    }\n",
       "\n",
       "    .dataframe thead th {\n",
       "        text-align: right;\n",
       "    }\n",
       "</style>\n",
       "<table border=\"1\" class=\"dataframe\">\n",
       "  <thead>\n",
       "    <tr style=\"text-align: right;\">\n",
       "      <th>beerid</th>\n",
       "      <th>5</th>\n",
       "      <th>6</th>\n",
       "      <th>7</th>\n",
       "      <th>8</th>\n",
       "      <th>9</th>\n",
       "      <th>10</th>\n",
       "      <th>11</th>\n",
       "      <th>12</th>\n",
       "      <th>13</th>\n",
       "      <th>14</th>\n",
       "      <th>...</th>\n",
       "      <th>75013</th>\n",
       "      <th>75086</th>\n",
       "      <th>75160</th>\n",
       "      <th>75188</th>\n",
       "      <th>75230</th>\n",
       "      <th>75894</th>\n",
       "      <th>76144</th>\n",
       "      <th>76323</th>\n",
       "      <th>76525</th>\n",
       "      <th>76816</th>\n",
       "    </tr>\n",
       "    <tr>\n",
       "      <th>review_profilename</th>\n",
       "      <th></th>\n",
       "      <th></th>\n",
       "      <th></th>\n",
       "      <th></th>\n",
       "      <th></th>\n",
       "      <th></th>\n",
       "      <th></th>\n",
       "      <th></th>\n",
       "      <th></th>\n",
       "      <th></th>\n",
       "      <th></th>\n",
       "      <th></th>\n",
       "      <th></th>\n",
       "      <th></th>\n",
       "      <th></th>\n",
       "      <th></th>\n",
       "      <th></th>\n",
       "      <th></th>\n",
       "      <th></th>\n",
       "      <th></th>\n",
       "      <th></th>\n",
       "    </tr>\n",
       "  </thead>\n",
       "  <tbody>\n",
       "    <tr>\n",
       "      <td>0110x011</td>\n",
       "      <td>0.914727</td>\n",
       "      <td>2.203401</td>\n",
       "      <td>1.448460</td>\n",
       "      <td>0.101784</td>\n",
       "      <td>0.145051</td>\n",
       "      <td>2.501165</td>\n",
       "      <td>0.168012</td>\n",
       "      <td>0.220619</td>\n",
       "      <td>0.349741</td>\n",
       "      <td>0.580878</td>\n",
       "      <td>...</td>\n",
       "      <td>1.626775</td>\n",
       "      <td>0.809601</td>\n",
       "      <td>0.162419</td>\n",
       "      <td>1.243756</td>\n",
       "      <td>0.000000</td>\n",
       "      <td>0.130460</td>\n",
       "      <td>0.569207</td>\n",
       "      <td>0.187893</td>\n",
       "      <td>0.098531</td>\n",
       "      <td>0.193186</td>\n",
       "    </tr>\n",
       "    <tr>\n",
       "      <td>05Harley</td>\n",
       "      <td>2.202867</td>\n",
       "      <td>3.803494</td>\n",
       "      <td>2.819035</td>\n",
       "      <td>0.212641</td>\n",
       "      <td>0.107895</td>\n",
       "      <td>3.923978</td>\n",
       "      <td>0.142567</td>\n",
       "      <td>0.233205</td>\n",
       "      <td>0.243944</td>\n",
       "      <td>0.600434</td>\n",
       "      <td>...</td>\n",
       "      <td>2.077815</td>\n",
       "      <td>1.924728</td>\n",
       "      <td>0.116038</td>\n",
       "      <td>0.853802</td>\n",
       "      <td>0.150349</td>\n",
       "      <td>1.142366</td>\n",
       "      <td>0.570404</td>\n",
       "      <td>0.000000</td>\n",
       "      <td>0.643258</td>\n",
       "      <td>0.836787</td>\n",
       "    </tr>\n",
       "    <tr>\n",
       "      <td>100floods</td>\n",
       "      <td>0.498410</td>\n",
       "      <td>1.296602</td>\n",
       "      <td>1.296925</td>\n",
       "      <td>0.304242</td>\n",
       "      <td>0.116311</td>\n",
       "      <td>2.147266</td>\n",
       "      <td>0.143123</td>\n",
       "      <td>0.141533</td>\n",
       "      <td>0.209004</td>\n",
       "      <td>0.321436</td>\n",
       "      <td>...</td>\n",
       "      <td>1.624722</td>\n",
       "      <td>1.890634</td>\n",
       "      <td>0.577956</td>\n",
       "      <td>0.478906</td>\n",
       "      <td>0.363553</td>\n",
       "      <td>0.000000</td>\n",
       "      <td>0.268736</td>\n",
       "      <td>0.077728</td>\n",
       "      <td>0.235757</td>\n",
       "      <td>0.726263</td>\n",
       "    </tr>\n",
       "    <tr>\n",
       "      <td>1759Girl</td>\n",
       "      <td>3.784945</td>\n",
       "      <td>5.147066</td>\n",
       "      <td>5.353430</td>\n",
       "      <td>0.561075</td>\n",
       "      <td>0.635145</td>\n",
       "      <td>6.186279</td>\n",
       "      <td>0.780514</td>\n",
       "      <td>0.682583</td>\n",
       "      <td>0.834541</td>\n",
       "      <td>1.486244</td>\n",
       "      <td>...</td>\n",
       "      <td>1.283510</td>\n",
       "      <td>1.999576</td>\n",
       "      <td>1.022832</td>\n",
       "      <td>0.373214</td>\n",
       "      <td>0.616713</td>\n",
       "      <td>0.108301</td>\n",
       "      <td>0.328577</td>\n",
       "      <td>0.138116</td>\n",
       "      <td>0.461367</td>\n",
       "      <td>0.440469</td>\n",
       "    </tr>\n",
       "    <tr>\n",
       "      <td>1fastz28</td>\n",
       "      <td>2.380430</td>\n",
       "      <td>0.000000</td>\n",
       "      <td>3.326630</td>\n",
       "      <td>0.399406</td>\n",
       "      <td>0.887856</td>\n",
       "      <td>0.000000</td>\n",
       "      <td>0.530173</td>\n",
       "      <td>0.781597</td>\n",
       "      <td>0.844081</td>\n",
       "      <td>1.201189</td>\n",
       "      <td>...</td>\n",
       "      <td>1.251374</td>\n",
       "      <td>1.396213</td>\n",
       "      <td>0.773638</td>\n",
       "      <td>0.571277</td>\n",
       "      <td>0.117779</td>\n",
       "      <td>0.424170</td>\n",
       "      <td>0.379070</td>\n",
       "      <td>0.147920</td>\n",
       "      <td>0.539806</td>\n",
       "      <td>0.706968</td>\n",
       "    </tr>\n",
       "  </tbody>\n",
       "</table>\n",
       "<p>5 rows × 6538 columns</p>\n",
       "</div>"
      ],
      "text/plain": [
       "beerid                 5         6         7         8         9      \\\n",
       "review_profilename                                                     \n",
       "0110x011            0.914727  2.203401  1.448460  0.101784  0.145051   \n",
       "05Harley            2.202867  3.803494  2.819035  0.212641  0.107895   \n",
       "100floods           0.498410  1.296602  1.296925  0.304242  0.116311   \n",
       "1759Girl            3.784945  5.147066  5.353430  0.561075  0.635145   \n",
       "1fastz28            2.380430  0.000000  3.326630  0.399406  0.887856   \n",
       "\n",
       "beerid                 10        11        12        13        14     ...  \\\n",
       "review_profilename                                                    ...   \n",
       "0110x011            2.501165  0.168012  0.220619  0.349741  0.580878  ...   \n",
       "05Harley            3.923978  0.142567  0.233205  0.243944  0.600434  ...   \n",
       "100floods           2.147266  0.143123  0.141533  0.209004  0.321436  ...   \n",
       "1759Girl            6.186279  0.780514  0.682583  0.834541  1.486244  ...   \n",
       "1fastz28            0.000000  0.530173  0.781597  0.844081  1.201189  ...   \n",
       "\n",
       "beerid                 75013     75086     75160     75188     75230  \\\n",
       "review_profilename                                                     \n",
       "0110x011            1.626775  0.809601  0.162419  1.243756  0.000000   \n",
       "05Harley            2.077815  1.924728  0.116038  0.853802  0.150349   \n",
       "100floods           1.624722  1.890634  0.577956  0.478906  0.363553   \n",
       "1759Girl            1.283510  1.999576  1.022832  0.373214  0.616713   \n",
       "1fastz28            1.251374  1.396213  0.773638  0.571277  0.117779   \n",
       "\n",
       "beerid                 75894     76144     76323     76525     76816  \n",
       "review_profilename                                                    \n",
       "0110x011            0.130460  0.569207  0.187893  0.098531  0.193186  \n",
       "05Harley            1.142366  0.570404  0.000000  0.643258  0.836787  \n",
       "100floods           0.000000  0.268736  0.077728  0.235757  0.726263  \n",
       "1759Girl            0.108301  0.328577  0.138116  0.461367  0.440469  \n",
       "1fastz28            0.424170  0.379070  0.147920  0.539806  0.706968  \n",
       "\n",
       "[5 rows x 6538 columns]"
      ]
     },
     "execution_count": 285,
     "metadata": {},
     "output_type": "execute_result"
    }
   ],
   "source": [
    "user_rating_final = np.multiply(user_pred_rating,train_copy)\n",
    "user_rating_final.head()"
   ]
  },
  {
   "cell_type": "code",
   "execution_count": 286,
   "metadata": {
    "colab": {
     "base_uri": "https://localhost:8080/",
     "height": 136
    },
    "colab_type": "code",
    "id": "iE8F11TPldgL",
    "outputId": "bfa995f8-bafc-4293-f048-216734460f4d"
   },
   "outputs": [
    {
     "data": {
      "text/plain": [
       "beerid\n",
       "680      18.619958\n",
       "412      18.457968\n",
       "1093     17.713025\n",
       "17112    16.757170\n",
       "4083     16.732713\n",
       "Name: 05Harley, dtype: float64"
      ]
     },
     "execution_count": 286,
     "metadata": {},
     "output_type": "execute_result"
    }
   ],
   "source": [
    "# The top 5 recommendation for the user1 \n",
    "user_rating_final.iloc[1].sort_values(ascending=False).head(5)"
   ]
  },
  {
   "cell_type": "markdown",
   "metadata": {
    "colab_type": "text",
    "id": "pZFpgalfldgj"
   },
   "source": [
    "#### Item Based Similarity"
   ]
  },
  {
   "cell_type": "code",
   "execution_count": 287,
   "metadata": {
    "colab": {
     "base_uri": "https://localhost:8080/",
     "height": 284
    },
    "colab_type": "code",
    "id": "Hqo7tolmldgu",
    "outputId": "96717e38-3477-4980-e7bf-26e13e1c12b9"
   },
   "outputs": [
    {
     "data": {
      "text/plain": [
       "(3176, 6538)"
      ]
     },
     "execution_count": 287,
     "metadata": {},
     "output_type": "execute_result"
    }
   ],
   "source": [
    "# Using Correlation over hear to pivot\n",
    "beer_features = train.pivot(\n",
    "    index='review_profilename',\n",
    "    columns='beerid',\n",
    "    values='total_reviews'\n",
    ")\n",
    "\n",
    "beer_features.shape"
   ]
  },
  {
   "cell_type": "code",
   "execution_count": 288,
   "metadata": {
    "colab": {},
    "colab_type": "code",
    "id": "VA5dIO_3ldhM"
   },
   "outputs": [],
   "source": [
    "# Normalising the rating for each beer using followibng steps\n",
    "mean_nan = np.nanmean(beer_features, axis=1)\n",
    "beer_data_diff = (beer_features.T - mean_nan).T"
   ]
  },
  {
   "cell_type": "code",
   "execution_count": 289,
   "metadata": {
    "colab": {
     "base_uri": "https://localhost:8080/",
     "height": 284
    },
    "colab_type": "code",
    "id": "526f9-FrldhU",
    "outputId": "867a311c-0112-4490-ff03-c67910225a22"
   },
   "outputs": [
    {
     "data": {
      "text/html": [
       "<div>\n",
       "<style scoped>\n",
       "    .dataframe tbody tr th:only-of-type {\n",
       "        vertical-align: middle;\n",
       "    }\n",
       "\n",
       "    .dataframe tbody tr th {\n",
       "        vertical-align: top;\n",
       "    }\n",
       "\n",
       "    .dataframe thead th {\n",
       "        text-align: right;\n",
       "    }\n",
       "</style>\n",
       "<table border=\"1\" class=\"dataframe\">\n",
       "  <thead>\n",
       "    <tr style=\"text-align: right;\">\n",
       "      <th>beerid</th>\n",
       "      <th>5</th>\n",
       "      <th>6</th>\n",
       "      <th>7</th>\n",
       "      <th>8</th>\n",
       "      <th>9</th>\n",
       "      <th>10</th>\n",
       "      <th>11</th>\n",
       "      <th>12</th>\n",
       "      <th>13</th>\n",
       "      <th>14</th>\n",
       "      <th>...</th>\n",
       "      <th>75013</th>\n",
       "      <th>75086</th>\n",
       "      <th>75160</th>\n",
       "      <th>75188</th>\n",
       "      <th>75230</th>\n",
       "      <th>75894</th>\n",
       "      <th>76144</th>\n",
       "      <th>76323</th>\n",
       "      <th>76525</th>\n",
       "      <th>76816</th>\n",
       "    </tr>\n",
       "    <tr>\n",
       "      <th>review_profilename</th>\n",
       "      <th></th>\n",
       "      <th></th>\n",
       "      <th></th>\n",
       "      <th></th>\n",
       "      <th></th>\n",
       "      <th></th>\n",
       "      <th></th>\n",
       "      <th></th>\n",
       "      <th></th>\n",
       "      <th></th>\n",
       "      <th></th>\n",
       "      <th></th>\n",
       "      <th></th>\n",
       "      <th></th>\n",
       "      <th></th>\n",
       "      <th></th>\n",
       "      <th></th>\n",
       "      <th></th>\n",
       "      <th></th>\n",
       "      <th></th>\n",
       "      <th></th>\n",
       "    </tr>\n",
       "  </thead>\n",
       "  <tbody>\n",
       "    <tr>\n",
       "      <td>0110x011</td>\n",
       "      <td>NaN</td>\n",
       "      <td>NaN</td>\n",
       "      <td>NaN</td>\n",
       "      <td>NaN</td>\n",
       "      <td>NaN</td>\n",
       "      <td>NaN</td>\n",
       "      <td>NaN</td>\n",
       "      <td>NaN</td>\n",
       "      <td>NaN</td>\n",
       "      <td>NaN</td>\n",
       "      <td>...</td>\n",
       "      <td>NaN</td>\n",
       "      <td>NaN</td>\n",
       "      <td>NaN</td>\n",
       "      <td>NaN</td>\n",
       "      <td>NaN</td>\n",
       "      <td>NaN</td>\n",
       "      <td>NaN</td>\n",
       "      <td>NaN</td>\n",
       "      <td>NaN</td>\n",
       "      <td>NaN</td>\n",
       "    </tr>\n",
       "    <tr>\n",
       "      <td>05Harley</td>\n",
       "      <td>NaN</td>\n",
       "      <td>NaN</td>\n",
       "      <td>NaN</td>\n",
       "      <td>NaN</td>\n",
       "      <td>NaN</td>\n",
       "      <td>NaN</td>\n",
       "      <td>NaN</td>\n",
       "      <td>NaN</td>\n",
       "      <td>NaN</td>\n",
       "      <td>NaN</td>\n",
       "      <td>...</td>\n",
       "      <td>NaN</td>\n",
       "      <td>NaN</td>\n",
       "      <td>NaN</td>\n",
       "      <td>NaN</td>\n",
       "      <td>NaN</td>\n",
       "      <td>NaN</td>\n",
       "      <td>NaN</td>\n",
       "      <td>NaN</td>\n",
       "      <td>NaN</td>\n",
       "      <td>NaN</td>\n",
       "    </tr>\n",
       "    <tr>\n",
       "      <td>100floods</td>\n",
       "      <td>NaN</td>\n",
       "      <td>NaN</td>\n",
       "      <td>NaN</td>\n",
       "      <td>NaN</td>\n",
       "      <td>NaN</td>\n",
       "      <td>NaN</td>\n",
       "      <td>NaN</td>\n",
       "      <td>NaN</td>\n",
       "      <td>NaN</td>\n",
       "      <td>NaN</td>\n",
       "      <td>...</td>\n",
       "      <td>NaN</td>\n",
       "      <td>NaN</td>\n",
       "      <td>NaN</td>\n",
       "      <td>NaN</td>\n",
       "      <td>NaN</td>\n",
       "      <td>NaN</td>\n",
       "      <td>NaN</td>\n",
       "      <td>NaN</td>\n",
       "      <td>NaN</td>\n",
       "      <td>NaN</td>\n",
       "    </tr>\n",
       "    <tr>\n",
       "      <td>1759Girl</td>\n",
       "      <td>NaN</td>\n",
       "      <td>NaN</td>\n",
       "      <td>NaN</td>\n",
       "      <td>NaN</td>\n",
       "      <td>NaN</td>\n",
       "      <td>NaN</td>\n",
       "      <td>NaN</td>\n",
       "      <td>NaN</td>\n",
       "      <td>NaN</td>\n",
       "      <td>NaN</td>\n",
       "      <td>...</td>\n",
       "      <td>NaN</td>\n",
       "      <td>NaN</td>\n",
       "      <td>NaN</td>\n",
       "      <td>NaN</td>\n",
       "      <td>NaN</td>\n",
       "      <td>NaN</td>\n",
       "      <td>NaN</td>\n",
       "      <td>NaN</td>\n",
       "      <td>NaN</td>\n",
       "      <td>NaN</td>\n",
       "    </tr>\n",
       "    <tr>\n",
       "      <td>1fastz28</td>\n",
       "      <td>NaN</td>\n",
       "      <td>-0.315068</td>\n",
       "      <td>NaN</td>\n",
       "      <td>NaN</td>\n",
       "      <td>NaN</td>\n",
       "      <td>0.184932</td>\n",
       "      <td>NaN</td>\n",
       "      <td>NaN</td>\n",
       "      <td>NaN</td>\n",
       "      <td>NaN</td>\n",
       "      <td>...</td>\n",
       "      <td>NaN</td>\n",
       "      <td>NaN</td>\n",
       "      <td>NaN</td>\n",
       "      <td>NaN</td>\n",
       "      <td>NaN</td>\n",
       "      <td>NaN</td>\n",
       "      <td>NaN</td>\n",
       "      <td>NaN</td>\n",
       "      <td>NaN</td>\n",
       "      <td>NaN</td>\n",
       "    </tr>\n",
       "  </tbody>\n",
       "</table>\n",
       "<p>5 rows × 6538 columns</p>\n",
       "</div>"
      ],
      "text/plain": [
       "beerid              5         6      7      8      9         10     11     \\\n",
       "review_profilename                                                          \n",
       "0110x011              NaN       NaN    NaN    NaN    NaN       NaN    NaN   \n",
       "05Harley              NaN       NaN    NaN    NaN    NaN       NaN    NaN   \n",
       "100floods             NaN       NaN    NaN    NaN    NaN       NaN    NaN   \n",
       "1759Girl              NaN       NaN    NaN    NaN    NaN       NaN    NaN   \n",
       "1fastz28              NaN -0.315068    NaN    NaN    NaN  0.184932    NaN   \n",
       "\n",
       "beerid              12     13     14     ...  75013  75086  75160  75188  \\\n",
       "review_profilename                       ...                               \n",
       "0110x011              NaN    NaN    NaN  ...    NaN    NaN    NaN    NaN   \n",
       "05Harley              NaN    NaN    NaN  ...    NaN    NaN    NaN    NaN   \n",
       "100floods             NaN    NaN    NaN  ...    NaN    NaN    NaN    NaN   \n",
       "1759Girl              NaN    NaN    NaN  ...    NaN    NaN    NaN    NaN   \n",
       "1fastz28              NaN    NaN    NaN  ...    NaN    NaN    NaN    NaN   \n",
       "\n",
       "beerid              75230  75894  76144  76323  76525  76816  \n",
       "review_profilename                                            \n",
       "0110x011              NaN    NaN    NaN    NaN    NaN    NaN  \n",
       "05Harley              NaN    NaN    NaN    NaN    NaN    NaN  \n",
       "100floods             NaN    NaN    NaN    NaN    NaN    NaN  \n",
       "1759Girl              NaN    NaN    NaN    NaN    NaN    NaN  \n",
       "1fastz28              NaN    NaN    NaN    NaN    NaN    NaN  \n",
       "\n",
       "[5 rows x 6538 columns]"
      ]
     },
     "execution_count": 289,
     "metadata": {},
     "output_type": "execute_result"
    }
   ],
   "source": [
    "beer_data_diff.head()"
   ]
  },
  {
   "cell_type": "code",
   "execution_count": 290,
   "metadata": {
    "colab": {
     "base_uri": "https://localhost:8080/",
     "height": 238
    },
    "colab_type": "code",
    "id": "XpytKSHoldhm",
    "outputId": "28b1ef41-ad1e-4d71-cece-25da036292eb"
   },
   "outputs": [
    {
     "data": {
      "text/plain": [
       "array([[ 1.00000000e+00,  0.00000000e+00, -1.80005128e-02, ...,\n",
       "        -8.35017178e-04,  0.00000000e+00,  0.00000000e+00],\n",
       "       [ 0.00000000e+00,  1.00000000e+00,  2.19303446e-03, ...,\n",
       "        -2.15288883e-02,  1.94621925e-02,  0.00000000e+00],\n",
       "       [-1.80005128e-02,  2.19303446e-03,  1.00000000e+00, ...,\n",
       "        -3.49624972e-02,  1.86584527e-03,  0.00000000e+00],\n",
       "       ...,\n",
       "       [-8.35017178e-04, -2.15288883e-02, -3.49624972e-02, ...,\n",
       "         1.00000000e+00,  0.00000000e+00,  0.00000000e+00],\n",
       "       [ 0.00000000e+00,  1.94621925e-02,  1.86584527e-03, ...,\n",
       "         0.00000000e+00,  1.00000000e+00,  0.00000000e+00],\n",
       "       [ 0.00000000e+00,  0.00000000e+00,  0.00000000e+00, ...,\n",
       "         0.00000000e+00,  0.00000000e+00,  1.00000000e+00]])"
      ]
     },
     "execution_count": 290,
     "metadata": {},
     "output_type": "execute_result"
    }
   ],
   "source": [
    "# cosine similarity here\n",
    "from sklearn.metrics.pairwise import pairwise_distances\n",
    "\n",
    "# user similarity matrix\n",
    "item_corr = 1 - pairwise_distances(beer_data_diff.fillna(0), metric='cosine')\n",
    "item_corr[np.isnan(item_corr)] = 0\n",
    "item_corr"
   ]
  },
  {
   "cell_type": "markdown",
   "metadata": {},
   "source": [
    "#####  since the data was normalized, both the cosine metric and correlation metric gave the same values. "
   ]
  },
  {
   "cell_type": "code",
   "execution_count": 291,
   "metadata": {
    "colab": {
     "base_uri": "https://localhost:8080/",
     "height": 238
    },
    "colab_type": "code",
    "id": "lbKbNX1LldiJ",
    "outputId": "e925f671-a47c-44c7-8935-b0e6d641b322"
   },
   "outputs": [
    {
     "data": {
      "text/plain": [
       "array([[1.        , 0.        , 0.        , ..., 0.        , 0.        ,\n",
       "        0.        ],\n",
       "       [0.        , 1.        , 0.00219303, ..., 0.        , 0.01946219,\n",
       "        0.        ],\n",
       "       [0.        , 0.00219303, 1.        , ..., 0.        , 0.00186585,\n",
       "        0.        ],\n",
       "       ...,\n",
       "       [0.        , 0.        , 0.        , ..., 1.        , 0.        ,\n",
       "        0.        ],\n",
       "       [0.        , 0.01946219, 0.00186585, ..., 0.        , 1.        ,\n",
       "        0.        ],\n",
       "       [0.        , 0.        , 0.        , ..., 0.        , 0.        ,\n",
       "        1.        ]])"
      ]
     },
     "execution_count": 291,
     "metadata": {},
     "output_type": "execute_result"
    }
   ],
   "source": [
    "# filtering the corr only as per Positively correlated values\n",
    "item_corr[item_corr < 0] = 0\n",
    "item_corr"
   ]
  },
  {
   "cell_type": "code",
   "execution_count": 292,
   "metadata": {},
   "outputs": [
    {
     "data": {
      "text/plain": [
       "array([[0.91472702, 2.20340051, 1.44846041, ..., 0.1878928 , 0.09853094,\n",
       "        0.19318637],\n",
       "       [2.20286748, 3.80349403, 2.81903548, ..., 0.        , 0.64325843,\n",
       "        0.83678707],\n",
       "       [0.49841036, 1.29660167, 1.29692479, ..., 0.07772825, 0.23575679,\n",
       "        0.72626309],\n",
       "       ...,\n",
       "       [4.68232252, 6.30500922, 4.83218404, ..., 0.21528625, 0.31553096,\n",
       "        0.24530876],\n",
       "       [2.23745351, 6.32711393, 4.2748027 , ..., 0.28832797, 0.21728075,\n",
       "        0.59609857],\n",
       "       [2.34365101, 4.31355319, 3.1682316 , ..., 0.09255891, 0.15183891,\n",
       "        0.32806575]])"
      ]
     },
     "execution_count": 292,
     "metadata": {},
     "output_type": "execute_result"
    }
   ],
   "source": [
    "item_pred_rating = np.dot(item_corr, beer_features.fillna(0))\n",
    "item_pred_rating"
   ]
  },
  {
   "cell_type": "code",
   "execution_count": 293,
   "metadata": {
    "colab": {
     "base_uri": "https://localhost:8080/",
     "height": 284
    },
    "colab_type": "code",
    "id": "b_Y7dzyildjj",
    "outputId": "adc1676c-53b8-4ea3-9a63-e8cfd685ba36"
   },
   "outputs": [
    {
     "data": {
      "text/html": [
       "<div>\n",
       "<style scoped>\n",
       "    .dataframe tbody tr th:only-of-type {\n",
       "        vertical-align: middle;\n",
       "    }\n",
       "\n",
       "    .dataframe tbody tr th {\n",
       "        vertical-align: top;\n",
       "    }\n",
       "\n",
       "    .dataframe thead th {\n",
       "        text-align: right;\n",
       "    }\n",
       "</style>\n",
       "<table border=\"1\" class=\"dataframe\">\n",
       "  <thead>\n",
       "    <tr style=\"text-align: right;\">\n",
       "      <th>beerid</th>\n",
       "      <th>5</th>\n",
       "      <th>6</th>\n",
       "      <th>7</th>\n",
       "      <th>8</th>\n",
       "      <th>9</th>\n",
       "      <th>10</th>\n",
       "      <th>11</th>\n",
       "      <th>12</th>\n",
       "      <th>13</th>\n",
       "      <th>14</th>\n",
       "      <th>...</th>\n",
       "      <th>75013</th>\n",
       "      <th>75086</th>\n",
       "      <th>75160</th>\n",
       "      <th>75188</th>\n",
       "      <th>75230</th>\n",
       "      <th>75894</th>\n",
       "      <th>76144</th>\n",
       "      <th>76323</th>\n",
       "      <th>76525</th>\n",
       "      <th>76816</th>\n",
       "    </tr>\n",
       "    <tr>\n",
       "      <th>review_profilename</th>\n",
       "      <th></th>\n",
       "      <th></th>\n",
       "      <th></th>\n",
       "      <th></th>\n",
       "      <th></th>\n",
       "      <th></th>\n",
       "      <th></th>\n",
       "      <th></th>\n",
       "      <th></th>\n",
       "      <th></th>\n",
       "      <th></th>\n",
       "      <th></th>\n",
       "      <th></th>\n",
       "      <th></th>\n",
       "      <th></th>\n",
       "      <th></th>\n",
       "      <th></th>\n",
       "      <th></th>\n",
       "      <th></th>\n",
       "      <th></th>\n",
       "      <th></th>\n",
       "    </tr>\n",
       "  </thead>\n",
       "  <tbody>\n",
       "    <tr>\n",
       "      <td>0110x011</td>\n",
       "      <td>0.914727</td>\n",
       "      <td>2.203401</td>\n",
       "      <td>1.448460</td>\n",
       "      <td>0.101784</td>\n",
       "      <td>0.145051</td>\n",
       "      <td>2.501165</td>\n",
       "      <td>0.168012</td>\n",
       "      <td>0.220619</td>\n",
       "      <td>0.349741</td>\n",
       "      <td>0.580878</td>\n",
       "      <td>...</td>\n",
       "      <td>1.626775</td>\n",
       "      <td>0.809601</td>\n",
       "      <td>0.162419</td>\n",
       "      <td>1.243756</td>\n",
       "      <td>0.000000</td>\n",
       "      <td>0.130460</td>\n",
       "      <td>0.569207</td>\n",
       "      <td>0.187893</td>\n",
       "      <td>0.098531</td>\n",
       "      <td>0.193186</td>\n",
       "    </tr>\n",
       "    <tr>\n",
       "      <td>05Harley</td>\n",
       "      <td>2.202867</td>\n",
       "      <td>3.803494</td>\n",
       "      <td>2.819035</td>\n",
       "      <td>0.212641</td>\n",
       "      <td>0.107895</td>\n",
       "      <td>3.923978</td>\n",
       "      <td>0.142567</td>\n",
       "      <td>0.233205</td>\n",
       "      <td>0.243944</td>\n",
       "      <td>0.600434</td>\n",
       "      <td>...</td>\n",
       "      <td>2.077815</td>\n",
       "      <td>1.924728</td>\n",
       "      <td>0.116038</td>\n",
       "      <td>0.853802</td>\n",
       "      <td>0.150349</td>\n",
       "      <td>1.142366</td>\n",
       "      <td>0.570404</td>\n",
       "      <td>0.000000</td>\n",
       "      <td>0.643258</td>\n",
       "      <td>0.836787</td>\n",
       "    </tr>\n",
       "    <tr>\n",
       "      <td>100floods</td>\n",
       "      <td>0.498410</td>\n",
       "      <td>1.296602</td>\n",
       "      <td>1.296925</td>\n",
       "      <td>0.304242</td>\n",
       "      <td>0.116311</td>\n",
       "      <td>2.147266</td>\n",
       "      <td>0.143123</td>\n",
       "      <td>0.141533</td>\n",
       "      <td>0.209004</td>\n",
       "      <td>0.321436</td>\n",
       "      <td>...</td>\n",
       "      <td>1.624722</td>\n",
       "      <td>1.890634</td>\n",
       "      <td>0.577956</td>\n",
       "      <td>0.478906</td>\n",
       "      <td>0.363553</td>\n",
       "      <td>0.000000</td>\n",
       "      <td>0.268736</td>\n",
       "      <td>0.077728</td>\n",
       "      <td>0.235757</td>\n",
       "      <td>0.726263</td>\n",
       "    </tr>\n",
       "    <tr>\n",
       "      <td>1759Girl</td>\n",
       "      <td>3.784945</td>\n",
       "      <td>5.147066</td>\n",
       "      <td>5.353430</td>\n",
       "      <td>0.561075</td>\n",
       "      <td>0.635145</td>\n",
       "      <td>6.186279</td>\n",
       "      <td>0.780514</td>\n",
       "      <td>0.682583</td>\n",
       "      <td>0.834541</td>\n",
       "      <td>1.486244</td>\n",
       "      <td>...</td>\n",
       "      <td>1.283510</td>\n",
       "      <td>1.999576</td>\n",
       "      <td>1.022832</td>\n",
       "      <td>0.373214</td>\n",
       "      <td>0.616713</td>\n",
       "      <td>0.108301</td>\n",
       "      <td>0.328577</td>\n",
       "      <td>0.138116</td>\n",
       "      <td>0.461367</td>\n",
       "      <td>0.440469</td>\n",
       "    </tr>\n",
       "    <tr>\n",
       "      <td>1fastz28</td>\n",
       "      <td>2.380430</td>\n",
       "      <td>0.000000</td>\n",
       "      <td>3.326630</td>\n",
       "      <td>0.399406</td>\n",
       "      <td>0.887856</td>\n",
       "      <td>0.000000</td>\n",
       "      <td>0.530173</td>\n",
       "      <td>0.781597</td>\n",
       "      <td>0.844081</td>\n",
       "      <td>1.201189</td>\n",
       "      <td>...</td>\n",
       "      <td>1.251374</td>\n",
       "      <td>1.396213</td>\n",
       "      <td>0.773638</td>\n",
       "      <td>0.571277</td>\n",
       "      <td>0.117779</td>\n",
       "      <td>0.424170</td>\n",
       "      <td>0.379070</td>\n",
       "      <td>0.147920</td>\n",
       "      <td>0.539806</td>\n",
       "      <td>0.706968</td>\n",
       "    </tr>\n",
       "  </tbody>\n",
       "</table>\n",
       "<p>5 rows × 6538 columns</p>\n",
       "</div>"
      ],
      "text/plain": [
       "beerid                 5         6         7         8         9      \\\n",
       "review_profilename                                                     \n",
       "0110x011            0.914727  2.203401  1.448460  0.101784  0.145051   \n",
       "05Harley            2.202867  3.803494  2.819035  0.212641  0.107895   \n",
       "100floods           0.498410  1.296602  1.296925  0.304242  0.116311   \n",
       "1759Girl            3.784945  5.147066  5.353430  0.561075  0.635145   \n",
       "1fastz28            2.380430  0.000000  3.326630  0.399406  0.887856   \n",
       "\n",
       "beerid                 10        11        12        13        14     ...  \\\n",
       "review_profilename                                                    ...   \n",
       "0110x011            2.501165  0.168012  0.220619  0.349741  0.580878  ...   \n",
       "05Harley            3.923978  0.142567  0.233205  0.243944  0.600434  ...   \n",
       "100floods           2.147266  0.143123  0.141533  0.209004  0.321436  ...   \n",
       "1759Girl            6.186279  0.780514  0.682583  0.834541  1.486244  ...   \n",
       "1fastz28            0.000000  0.530173  0.781597  0.844081  1.201189  ...   \n",
       "\n",
       "beerid                 75013     75086     75160     75188     75230  \\\n",
       "review_profilename                                                     \n",
       "0110x011            1.626775  0.809601  0.162419  1.243756  0.000000   \n",
       "05Harley            2.077815  1.924728  0.116038  0.853802  0.150349   \n",
       "100floods           1.624722  1.890634  0.577956  0.478906  0.363553   \n",
       "1759Girl            1.283510  1.999576  1.022832  0.373214  0.616713   \n",
       "1fastz28            1.251374  1.396213  0.773638  0.571277  0.117779   \n",
       "\n",
       "beerid                 75894     76144     76323     76525     76816  \n",
       "review_profilename                                                    \n",
       "0110x011            0.130460  0.569207  0.187893  0.098531  0.193186  \n",
       "05Harley            1.142366  0.570404  0.000000  0.643258  0.836787  \n",
       "100floods           0.000000  0.268736  0.077728  0.235757  0.726263  \n",
       "1759Girl            0.108301  0.328577  0.138116  0.461367  0.440469  \n",
       "1fastz28            0.424170  0.379070  0.147920  0.539806  0.706968  \n",
       "\n",
       "[5 rows x 6538 columns]"
      ]
     },
     "execution_count": 293,
     "metadata": {},
     "output_type": "execute_result"
    }
   ],
   "source": [
    "# filtering all the ratings not rated by user\n",
    "item_rating_finale = np.multiply(item_pred_rating,train_copy)\n",
    "item_rating_finale.head()"
   ]
  },
  {
   "cell_type": "code",
   "execution_count": 294,
   "metadata": {
    "colab": {
     "base_uri": "https://localhost:8080/",
     "height": 136
    },
    "colab_type": "code",
    "id": "vdnHiPU5ldkC",
    "outputId": "27deafbe-809e-4df8-8248-86d4aede2113"
   },
   "outputs": [
    {
     "data": {
      "text/plain": [
       "beerid\n",
       "680      18.619958\n",
       "412      18.457968\n",
       "1093     17.713025\n",
       "17112    16.757170\n",
       "4083     16.732713\n",
       "Name: 05Harley, dtype: float64"
      ]
     },
     "execution_count": 294,
     "metadata": {},
     "output_type": "execute_result"
    }
   ],
   "source": [
    "# Top 5 prediction for the user1\n",
    "item_rating_finale.iloc[1].sort_values(ascending=False).head(5)"
   ]
  },
  {
   "cell_type": "markdown",
   "metadata": {
    "colab_type": "text",
    "id": "kwHwmasZldlA"
   },
   "source": [
    "##### Evaluation -- we evaluate for the beer already rated by the user insead of predicting it for the beer not rated by the user. "
   ]
  },
  {
   "cell_type": "code",
   "execution_count": 295,
   "metadata": {
    "colab": {
     "base_uri": "https://localhost:8080/",
     "height": 238
    },
    "colab_type": "code",
    "id": "Fnez2C-_ldlM",
    "outputId": "42a27c99-98c5-478b-af64-17ff2685742f"
   },
   "outputs": [
    {
     "data": {
      "text/plain": [
       "array([[ 1.       ,  0.       ,  0.       , ...,  0.       ,  0.       ,\n",
       "         0.       ],\n",
       "       [ 0.       ,  1.       ,  0.       , ...,  0.       ,  0.       ,\n",
       "         0.       ],\n",
       "       [ 0.       ,  0.       ,  1.       , ...,  0.       ,  0.       ,\n",
       "         0.       ],\n",
       "       ...,\n",
       "       [ 0.       ,  0.       ,  0.       , ...,  1.       , -0.0068008,\n",
       "         0.       ],\n",
       "       [ 0.       ,  0.       ,  0.       , ..., -0.0068008,  1.       ,\n",
       "         0.       ],\n",
       "       [ 0.       ,  0.       ,  0.       , ...,  0.       ,  0.       ,\n",
       "         1.       ]])"
      ]
     },
     "execution_count": 295,
     "metadata": {},
     "output_type": "execute_result"
    }
   ],
   "source": [
    "# user similarity measures\n",
    "beer_features_test = test.pivot(\n",
    "    index='review_profilename',\n",
    "    columns='beerid',\n",
    "    values='total_reviews'\n",
    ")\n",
    "mean_nan = np.nanmean(beer_features_test, axis=1)\n",
    "test_beer_data_diff = (beer_features_test.T - mean_nan).T\n",
    "\n",
    "# matrix\n",
    "test_users_correlation = 1 - pairwise_distances(test_beer_data_diff.fillna(0), metric='cosine')\n",
    "test_users_correlation[np.isnan(test_users_correlation)] = 0\n",
    "test_users_correlation"
   ]
  },
  {
   "cell_type": "code",
   "execution_count": 296,
   "metadata": {
    "colab": {
     "base_uri": "https://localhost:8080/",
     "height": 238
    },
    "colab_type": "code",
    "id": "vvaP7Jgpldl1",
    "outputId": "877adbb6-a3dc-49ac-8e8c-0e498ed52881"
   },
   "outputs": [
    {
     "data": {
      "text/plain": [
       "array([[0.30155024, 0.63033397, 0.        , ..., 0.        , 0.        ,\n",
       "        0.        ],\n",
       "       [0.05569761, 0.74033551, 0.21715736, ..., 0.        , 0.        ,\n",
       "        0.        ],\n",
       "       [0.26999002, 0.81230014, 0.2731088 , ..., 0.02335237, 0.06567615,\n",
       "        0.13411633],\n",
       "       ...,\n",
       "       [1.46975157, 2.14342665, 0.26510749, ..., 0.23872691, 0.        ,\n",
       "        0.05045642],\n",
       "       [0.38066024, 0.94608451, 1.12592468, ..., 0.01874741, 0.        ,\n",
       "        0.09128982],\n",
       "       [0.69265429, 0.75070125, 1.45207881, ..., 0.11453704, 0.        ,\n",
       "        0.37952911]])"
      ]
     },
     "execution_count": 296,
     "metadata": {},
     "output_type": "execute_result"
    }
   ],
   "source": [
    "test_users_correlation[test_users_correlation < 0]=0\n",
    "test_user_rating_predicted = np.dot(test_users_correlation, beer_features_test.fillna(0))\n",
    "test_user_rating_predicted"
   ]
  },
  {
   "cell_type": "code",
   "execution_count": 297,
   "metadata": {
    "colab": {},
    "colab_type": "code",
    "id": "KaHc1m7xldmY"
   },
   "outputs": [],
   "source": [
    "# predictions for the beer rated by the user\n",
    "test_user_rating_final = np.multiply(test_user_rating_predicted,test_copy)"
   ]
  },
  {
   "cell_type": "code",
   "execution_count": 298,
   "metadata": {
    "colab": {
     "base_uri": "https://localhost:8080/",
     "height": 284
    },
    "colab_type": "code",
    "id": "ynPxGuR3ldmt",
    "outputId": "b39c7198-530e-4d13-9af2-9526441ca5c5"
   },
   "outputs": [
    {
     "data": {
      "text/html": [
       "<div>\n",
       "<style scoped>\n",
       "    .dataframe tbody tr th:only-of-type {\n",
       "        vertical-align: middle;\n",
       "    }\n",
       "\n",
       "    .dataframe tbody tr th {\n",
       "        vertical-align: top;\n",
       "    }\n",
       "\n",
       "    .dataframe thead th {\n",
       "        text-align: right;\n",
       "    }\n",
       "</style>\n",
       "<table border=\"1\" class=\"dataframe\">\n",
       "  <thead>\n",
       "    <tr style=\"text-align: right;\">\n",
       "      <th>beerid</th>\n",
       "      <th>5</th>\n",
       "      <th>6</th>\n",
       "      <th>7</th>\n",
       "      <th>8</th>\n",
       "      <th>9</th>\n",
       "      <th>10</th>\n",
       "      <th>11</th>\n",
       "      <th>12</th>\n",
       "      <th>13</th>\n",
       "      <th>14</th>\n",
       "      <th>...</th>\n",
       "      <th>75013</th>\n",
       "      <th>75086</th>\n",
       "      <th>75160</th>\n",
       "      <th>75188</th>\n",
       "      <th>75230</th>\n",
       "      <th>75894</th>\n",
       "      <th>76144</th>\n",
       "      <th>76323</th>\n",
       "      <th>76525</th>\n",
       "      <th>76816</th>\n",
       "    </tr>\n",
       "    <tr>\n",
       "      <th>review_profilename</th>\n",
       "      <th></th>\n",
       "      <th></th>\n",
       "      <th></th>\n",
       "      <th></th>\n",
       "      <th></th>\n",
       "      <th></th>\n",
       "      <th></th>\n",
       "      <th></th>\n",
       "      <th></th>\n",
       "      <th></th>\n",
       "      <th></th>\n",
       "      <th></th>\n",
       "      <th></th>\n",
       "      <th></th>\n",
       "      <th></th>\n",
       "      <th></th>\n",
       "      <th></th>\n",
       "      <th></th>\n",
       "      <th></th>\n",
       "      <th></th>\n",
       "      <th></th>\n",
       "    </tr>\n",
       "  </thead>\n",
       "  <tbody>\n",
       "    <tr>\n",
       "      <td>0110x011</td>\n",
       "      <td>0.0</td>\n",
       "      <td>0.0</td>\n",
       "      <td>0.0</td>\n",
       "      <td>0.0</td>\n",
       "      <td>0.000000</td>\n",
       "      <td>0.0</td>\n",
       "      <td>0.0</td>\n",
       "      <td>0.0</td>\n",
       "      <td>0.0</td>\n",
       "      <td>0.0</td>\n",
       "      <td>...</td>\n",
       "      <td>0.0</td>\n",
       "      <td>0.0</td>\n",
       "      <td>0.0</td>\n",
       "      <td>0.0</td>\n",
       "      <td>0.0</td>\n",
       "      <td>0.0</td>\n",
       "      <td>0.0</td>\n",
       "      <td>0.0</td>\n",
       "      <td>0.0</td>\n",
       "      <td>0.0</td>\n",
       "    </tr>\n",
       "    <tr>\n",
       "      <td>05Harley</td>\n",
       "      <td>0.0</td>\n",
       "      <td>0.0</td>\n",
       "      <td>0.0</td>\n",
       "      <td>0.0</td>\n",
       "      <td>0.000000</td>\n",
       "      <td>0.0</td>\n",
       "      <td>0.0</td>\n",
       "      <td>0.0</td>\n",
       "      <td>0.0</td>\n",
       "      <td>0.0</td>\n",
       "      <td>...</td>\n",
       "      <td>0.0</td>\n",
       "      <td>0.0</td>\n",
       "      <td>0.0</td>\n",
       "      <td>0.0</td>\n",
       "      <td>0.0</td>\n",
       "      <td>0.0</td>\n",
       "      <td>0.0</td>\n",
       "      <td>0.0</td>\n",
       "      <td>0.0</td>\n",
       "      <td>0.0</td>\n",
       "    </tr>\n",
       "    <tr>\n",
       "      <td>100floods</td>\n",
       "      <td>0.0</td>\n",
       "      <td>0.0</td>\n",
       "      <td>0.0</td>\n",
       "      <td>0.0</td>\n",
       "      <td>0.000000</td>\n",
       "      <td>0.0</td>\n",
       "      <td>0.0</td>\n",
       "      <td>0.0</td>\n",
       "      <td>0.0</td>\n",
       "      <td>0.0</td>\n",
       "      <td>...</td>\n",
       "      <td>0.0</td>\n",
       "      <td>0.0</td>\n",
       "      <td>0.0</td>\n",
       "      <td>0.0</td>\n",
       "      <td>0.0</td>\n",
       "      <td>0.0</td>\n",
       "      <td>0.0</td>\n",
       "      <td>0.0</td>\n",
       "      <td>0.0</td>\n",
       "      <td>0.0</td>\n",
       "    </tr>\n",
       "    <tr>\n",
       "      <td>1759Girl</td>\n",
       "      <td>0.0</td>\n",
       "      <td>0.0</td>\n",
       "      <td>0.0</td>\n",
       "      <td>0.0</td>\n",
       "      <td>0.000000</td>\n",
       "      <td>0.0</td>\n",
       "      <td>0.0</td>\n",
       "      <td>0.0</td>\n",
       "      <td>0.0</td>\n",
       "      <td>0.0</td>\n",
       "      <td>...</td>\n",
       "      <td>0.0</td>\n",
       "      <td>0.0</td>\n",
       "      <td>0.0</td>\n",
       "      <td>0.0</td>\n",
       "      <td>0.0</td>\n",
       "      <td>0.0</td>\n",
       "      <td>0.0</td>\n",
       "      <td>0.0</td>\n",
       "      <td>0.0</td>\n",
       "      <td>0.0</td>\n",
       "    </tr>\n",
       "    <tr>\n",
       "      <td>1fastz28</td>\n",
       "      <td>0.0</td>\n",
       "      <td>0.0</td>\n",
       "      <td>0.0</td>\n",
       "      <td>0.0</td>\n",
       "      <td>3.665787</td>\n",
       "      <td>0.0</td>\n",
       "      <td>0.0</td>\n",
       "      <td>0.0</td>\n",
       "      <td>0.0</td>\n",
       "      <td>0.0</td>\n",
       "      <td>...</td>\n",
       "      <td>0.0</td>\n",
       "      <td>0.0</td>\n",
       "      <td>0.0</td>\n",
       "      <td>0.0</td>\n",
       "      <td>0.0</td>\n",
       "      <td>0.0</td>\n",
       "      <td>0.0</td>\n",
       "      <td>0.0</td>\n",
       "      <td>0.0</td>\n",
       "      <td>0.0</td>\n",
       "    </tr>\n",
       "  </tbody>\n",
       "</table>\n",
       "<p>5 rows × 6502 columns</p>\n",
       "</div>"
      ],
      "text/plain": [
       "beerid              5      6      7      8         9      10     11     12     \\\n",
       "review_profilename                                                              \n",
       "0110x011              0.0    0.0    0.0    0.0  0.000000    0.0    0.0    0.0   \n",
       "05Harley              0.0    0.0    0.0    0.0  0.000000    0.0    0.0    0.0   \n",
       "100floods             0.0    0.0    0.0    0.0  0.000000    0.0    0.0    0.0   \n",
       "1759Girl              0.0    0.0    0.0    0.0  0.000000    0.0    0.0    0.0   \n",
       "1fastz28              0.0    0.0    0.0    0.0  3.665787    0.0    0.0    0.0   \n",
       "\n",
       "beerid              13     14     ...  75013  75086  75160  75188  75230  \\\n",
       "review_profilename                ...                                      \n",
       "0110x011              0.0    0.0  ...    0.0    0.0    0.0    0.0    0.0   \n",
       "05Harley              0.0    0.0  ...    0.0    0.0    0.0    0.0    0.0   \n",
       "100floods             0.0    0.0  ...    0.0    0.0    0.0    0.0    0.0   \n",
       "1759Girl              0.0    0.0  ...    0.0    0.0    0.0    0.0    0.0   \n",
       "1fastz28              0.0    0.0  ...    0.0    0.0    0.0    0.0    0.0   \n",
       "\n",
       "beerid              75894  76144  76323  76525  76816  \n",
       "review_profilename                                     \n",
       "0110x011              0.0    0.0    0.0    0.0    0.0  \n",
       "05Harley              0.0    0.0    0.0    0.0    0.0  \n",
       "100floods             0.0    0.0    0.0    0.0    0.0  \n",
       "1759Girl              0.0    0.0    0.0    0.0    0.0  \n",
       "1fastz28              0.0    0.0    0.0    0.0    0.0  \n",
       "\n",
       "[5 rows x 6502 columns]"
      ]
     },
     "execution_count": 298,
     "metadata": {},
     "output_type": "execute_result"
    }
   ],
   "source": [
    "test_user_rating_final.head()"
   ]
  },
  {
   "cell_type": "code",
   "execution_count": 299,
   "metadata": {
    "colab": {
     "base_uri": "https://localhost:8080/",
     "height": 153
    },
    "colab_type": "code",
    "id": "V4h-POJYldm-",
    "outputId": "0022d6d4-cc40-4ff9-d92b-664c8b970f94"
   },
   "outputs": [
    {
     "name": "stdout",
     "output_type": "stream",
     "text": [
      "MinMaxScaler(copy=True, feature_range=(1, 5))\n"
     ]
    },
    {
     "data": {
      "text/plain": [
       "array([[nan, nan, nan, ..., nan, nan, nan],\n",
       "       [nan, nan, nan, ..., nan, nan, nan],\n",
       "       [nan, nan, nan, ..., nan, nan, nan],\n",
       "       ...,\n",
       "       [nan, nan, nan, ..., nan, nan, nan],\n",
       "       [nan, nan, nan, ..., nan, nan, nan],\n",
       "       [nan, nan, nan, ..., nan, nan, nan]])"
      ]
     },
     "execution_count": 299,
     "metadata": {},
     "output_type": "execute_result"
    }
   ],
   "source": [
    "\n",
    "# The RMSE for the beer rated by user. \n",
    "from sklearn.preprocessing import MinMaxScaler\n",
    "from numpy import *\n",
    "\n",
    "X  = test_user_rating_final.copy() \n",
    "X = X[X>0]\n",
    "\n",
    "scaler = MinMaxScaler(feature_range=(1, 5))\n",
    "print(scaler.fit(X))\n",
    "y = (scaler.transform(X))\n",
    "\n",
    "y"
   ]
  },
  {
   "cell_type": "code",
   "execution_count": 300,
   "metadata": {
    "colab": {},
    "colab_type": "code",
    "id": "qmTfxLz4ldnb"
   },
   "outputs": [],
   "source": [
    "test_ = test.pivot(\n",
    "    index='review_profilename',\n",
    "    columns='beerid',\n",
    "    values='total_reviews'\n",
    ")"
   ]
  },
  {
   "cell_type": "code",
   "execution_count": 301,
   "metadata": {
    "colab": {},
    "colab_type": "code",
    "id": "q4g46_qvldn4"
   },
   "outputs": [],
   "source": [
    "# Finding the total number of non-NaN values\n",
    "count_non_NaN = np.count_nonzero(~np.isnan(y))"
   ]
  },
  {
   "cell_type": "code",
   "execution_count": 302,
   "metadata": {
    "colab": {
     "base_uri": "https://localhost:8080/",
     "height": 34
    },
    "colab_type": "code",
    "id": "yO-bOHB5ldoC",
    "outputId": "65e9b30e-8149-4da4-ee14-712911de81a5"
   },
   "outputs": [
    {
     "data": {
      "text/plain": [
       "1.636854788281375"
      ]
     },
     "execution_count": 302,
     "metadata": {},
     "output_type": "execute_result"
    }
   ],
   "source": [
    "rmse = (sum(sum((test_ - y )**2))/count_non_NaN)**0.5\n",
    "rmse"
   ]
  },
  {
   "cell_type": "markdown",
   "metadata": {
    "colab_type": "text",
    "id": "jaFL44_oldoV"
   },
   "source": []
  },
  {
   "cell_type": "code",
   "execution_count": 303,
   "metadata": {
    "colab": {},
    "colab_type": "code",
    "id": "1U3uO2ZTldoa"
   },
   "outputs": [],
   "source": [
    "# Using the Item similarity measure\n",
    "beer_features_test = test.pivot(\n",
    "    index='review_profilename',\n",
    "    columns='beerid',\n",
    "    values='total_reviews'\n",
    ").T\n",
    "\n",
    "mean_nana = np.nanmean(beer_features_test, axis=1)\n",
    "test_beer_data_diff = (beer_features_test.T-mean_nana).T"
   ]
  },
  {
   "cell_type": "code",
   "execution_count": 304,
   "metadata": {},
   "outputs": [],
   "source": [
    "test_item_corr = 1 - pairwise_distances(test_beer_data_diff.fillna(0), metric='cosine')\n",
    "test_item_corr[np.isnan(test_item_corr)] = 0\n",
    "test_item_corr[test_item_corr < 0]=0"
   ]
  },
  {
   "cell_type": "code",
   "execution_count": 305,
   "metadata": {
    "colab": {
     "base_uri": "https://localhost:8080/",
     "height": 34
    },
    "colab_type": "code",
    "id": "sQzu114Kldoo",
    "outputId": "69a856e3-36dd-44cd-c0b3-c9fae9c19717"
   },
   "outputs": [
    {
     "data": {
      "text/plain": [
       "(6502, 6502)"
      ]
     },
     "execution_count": 305,
     "metadata": {},
     "output_type": "execute_result"
    }
   ],
   "source": [
    "test_item_corr.shape"
   ]
  },
  {
   "cell_type": "code",
   "execution_count": 306,
   "metadata": {
    "colab": {
     "base_uri": "https://localhost:8080/",
     "height": 34
    },
    "colab_type": "code",
    "id": "echlrwgyldo8",
    "outputId": "437ad8f9-7021-4813-c3b0-3beef903722e"
   },
   "outputs": [
    {
     "data": {
      "text/plain": [
       "(6502, 3176)"
      ]
     },
     "execution_count": 306,
     "metadata": {},
     "output_type": "execute_result"
    }
   ],
   "source": [
    "beer_features_test.shape"
   ]
  },
  {
   "cell_type": "code",
   "execution_count": 307,
   "metadata": {
    "colab": {
     "base_uri": "https://localhost:8080/",
     "height": 284
    },
    "colab_type": "code",
    "id": "ATuUSH4GldpN",
    "outputId": "0454bee1-3166-4abb-def4-b4d143a901ee"
   },
   "outputs": [
    {
     "data": {
      "text/html": [
       "<div>\n",
       "<style scoped>\n",
       "    .dataframe tbody tr th:only-of-type {\n",
       "        vertical-align: middle;\n",
       "    }\n",
       "\n",
       "    .dataframe tbody tr th {\n",
       "        vertical-align: top;\n",
       "    }\n",
       "\n",
       "    .dataframe thead th {\n",
       "        text-align: right;\n",
       "    }\n",
       "</style>\n",
       "<table border=\"1\" class=\"dataframe\">\n",
       "  <thead>\n",
       "    <tr style=\"text-align: right;\">\n",
       "      <th>beerid</th>\n",
       "      <th>5</th>\n",
       "      <th>6</th>\n",
       "      <th>7</th>\n",
       "      <th>8</th>\n",
       "      <th>9</th>\n",
       "      <th>10</th>\n",
       "      <th>11</th>\n",
       "      <th>12</th>\n",
       "      <th>13</th>\n",
       "      <th>14</th>\n",
       "      <th>...</th>\n",
       "      <th>75013</th>\n",
       "      <th>75086</th>\n",
       "      <th>75160</th>\n",
       "      <th>75188</th>\n",
       "      <th>75230</th>\n",
       "      <th>75894</th>\n",
       "      <th>76144</th>\n",
       "      <th>76323</th>\n",
       "      <th>76525</th>\n",
       "      <th>76816</th>\n",
       "    </tr>\n",
       "    <tr>\n",
       "      <th>review_profilename</th>\n",
       "      <th></th>\n",
       "      <th></th>\n",
       "      <th></th>\n",
       "      <th></th>\n",
       "      <th></th>\n",
       "      <th></th>\n",
       "      <th></th>\n",
       "      <th></th>\n",
       "      <th></th>\n",
       "      <th></th>\n",
       "      <th></th>\n",
       "      <th></th>\n",
       "      <th></th>\n",
       "      <th></th>\n",
       "      <th></th>\n",
       "      <th></th>\n",
       "      <th></th>\n",
       "      <th></th>\n",
       "      <th></th>\n",
       "      <th></th>\n",
       "      <th></th>\n",
       "    </tr>\n",
       "  </thead>\n",
       "  <tbody>\n",
       "    <tr>\n",
       "      <td>0110x011</td>\n",
       "      <td>0.0</td>\n",
       "      <td>0.0</td>\n",
       "      <td>0.0</td>\n",
       "      <td>0.0</td>\n",
       "      <td>0.000000</td>\n",
       "      <td>0.0</td>\n",
       "      <td>0.0</td>\n",
       "      <td>0.0</td>\n",
       "      <td>0.0</td>\n",
       "      <td>0.0</td>\n",
       "      <td>...</td>\n",
       "      <td>0.0</td>\n",
       "      <td>0.0</td>\n",
       "      <td>0.0</td>\n",
       "      <td>0.0</td>\n",
       "      <td>0.0</td>\n",
       "      <td>0.0</td>\n",
       "      <td>0.0</td>\n",
       "      <td>0.0</td>\n",
       "      <td>0.0</td>\n",
       "      <td>0.0</td>\n",
       "    </tr>\n",
       "    <tr>\n",
       "      <td>05Harley</td>\n",
       "      <td>0.0</td>\n",
       "      <td>0.0</td>\n",
       "      <td>0.0</td>\n",
       "      <td>0.0</td>\n",
       "      <td>0.000000</td>\n",
       "      <td>0.0</td>\n",
       "      <td>0.0</td>\n",
       "      <td>0.0</td>\n",
       "      <td>0.0</td>\n",
       "      <td>0.0</td>\n",
       "      <td>...</td>\n",
       "      <td>0.0</td>\n",
       "      <td>0.0</td>\n",
       "      <td>0.0</td>\n",
       "      <td>0.0</td>\n",
       "      <td>0.0</td>\n",
       "      <td>0.0</td>\n",
       "      <td>0.0</td>\n",
       "      <td>0.0</td>\n",
       "      <td>0.0</td>\n",
       "      <td>0.0</td>\n",
       "    </tr>\n",
       "    <tr>\n",
       "      <td>100floods</td>\n",
       "      <td>0.0</td>\n",
       "      <td>0.0</td>\n",
       "      <td>0.0</td>\n",
       "      <td>0.0</td>\n",
       "      <td>0.000000</td>\n",
       "      <td>0.0</td>\n",
       "      <td>0.0</td>\n",
       "      <td>0.0</td>\n",
       "      <td>0.0</td>\n",
       "      <td>0.0</td>\n",
       "      <td>...</td>\n",
       "      <td>0.0</td>\n",
       "      <td>0.0</td>\n",
       "      <td>0.0</td>\n",
       "      <td>0.0</td>\n",
       "      <td>0.0</td>\n",
       "      <td>0.0</td>\n",
       "      <td>0.0</td>\n",
       "      <td>0.0</td>\n",
       "      <td>0.0</td>\n",
       "      <td>0.0</td>\n",
       "    </tr>\n",
       "    <tr>\n",
       "      <td>1759Girl</td>\n",
       "      <td>0.0</td>\n",
       "      <td>0.0</td>\n",
       "      <td>0.0</td>\n",
       "      <td>0.0</td>\n",
       "      <td>0.000000</td>\n",
       "      <td>0.0</td>\n",
       "      <td>0.0</td>\n",
       "      <td>0.0</td>\n",
       "      <td>0.0</td>\n",
       "      <td>0.0</td>\n",
       "      <td>...</td>\n",
       "      <td>0.0</td>\n",
       "      <td>0.0</td>\n",
       "      <td>0.0</td>\n",
       "      <td>0.0</td>\n",
       "      <td>0.0</td>\n",
       "      <td>0.0</td>\n",
       "      <td>0.0</td>\n",
       "      <td>0.0</td>\n",
       "      <td>0.0</td>\n",
       "      <td>0.0</td>\n",
       "    </tr>\n",
       "    <tr>\n",
       "      <td>1fastz28</td>\n",
       "      <td>0.0</td>\n",
       "      <td>0.0</td>\n",
       "      <td>0.0</td>\n",
       "      <td>0.0</td>\n",
       "      <td>7.268675</td>\n",
       "      <td>0.0</td>\n",
       "      <td>0.0</td>\n",
       "      <td>0.0</td>\n",
       "      <td>0.0</td>\n",
       "      <td>0.0</td>\n",
       "      <td>...</td>\n",
       "      <td>0.0</td>\n",
       "      <td>0.0</td>\n",
       "      <td>0.0</td>\n",
       "      <td>0.0</td>\n",
       "      <td>0.0</td>\n",
       "      <td>0.0</td>\n",
       "      <td>0.0</td>\n",
       "      <td>0.0</td>\n",
       "      <td>0.0</td>\n",
       "      <td>0.0</td>\n",
       "    </tr>\n",
       "  </tbody>\n",
       "</table>\n",
       "<p>5 rows × 6502 columns</p>\n",
       "</div>"
      ],
      "text/plain": [
       "beerid              5      6      7      8         9      10     11     12     \\\n",
       "review_profilename                                                              \n",
       "0110x011              0.0    0.0    0.0    0.0  0.000000    0.0    0.0    0.0   \n",
       "05Harley              0.0    0.0    0.0    0.0  0.000000    0.0    0.0    0.0   \n",
       "100floods             0.0    0.0    0.0    0.0  0.000000    0.0    0.0    0.0   \n",
       "1759Girl              0.0    0.0    0.0    0.0  0.000000    0.0    0.0    0.0   \n",
       "1fastz28              0.0    0.0    0.0    0.0  7.268675    0.0    0.0    0.0   \n",
       "\n",
       "beerid              13     14     ...  75013  75086  75160  75188  75230  \\\n",
       "review_profilename                ...                                      \n",
       "0110x011              0.0    0.0  ...    0.0    0.0    0.0    0.0    0.0   \n",
       "05Harley              0.0    0.0  ...    0.0    0.0    0.0    0.0    0.0   \n",
       "100floods             0.0    0.0  ...    0.0    0.0    0.0    0.0    0.0   \n",
       "1759Girl              0.0    0.0  ...    0.0    0.0    0.0    0.0    0.0   \n",
       "1fastz28              0.0    0.0  ...    0.0    0.0    0.0    0.0    0.0   \n",
       "\n",
       "beerid              75894  76144  76323  76525  76816  \n",
       "review_profilename                                     \n",
       "0110x011              0.0    0.0    0.0    0.0    0.0  \n",
       "05Harley              0.0    0.0    0.0    0.0    0.0  \n",
       "100floods             0.0    0.0    0.0    0.0    0.0  \n",
       "1759Girl              0.0    0.0    0.0    0.0    0.0  \n",
       "1fastz28              0.0    0.0    0.0    0.0    0.0  \n",
       "\n",
       "[5 rows x 6502 columns]"
      ]
     },
     "execution_count": 307,
     "metadata": {},
     "output_type": "execute_result"
    }
   ],
   "source": [
    "test_item_predicted_ratings = (np.dot(test_item_corr, beer_features_test.fillna(0))).T\n",
    "test_item_rating_finale = np.multiply(test_item_predicted_ratings,test_copy)\n",
    "test_item_rating_finale.head()"
   ]
  },
  {
   "cell_type": "code",
   "execution_count": 308,
   "metadata": {
    "colab": {},
    "colab_type": "code",
    "id": "DHAhr4TZldph"
   },
   "outputs": [],
   "source": [
    "test_ = test.pivot(index='review_profilename', columns='beerid', values='total_reviews')"
   ]
  },
  {
   "cell_type": "code",
   "execution_count": 309,
   "metadata": {
    "colab": {
     "base_uri": "https://localhost:8080/",
     "height": 102
    },
    "colab_type": "code",
    "id": "z1AddWAZldpq",
    "outputId": "88f91999-ded1-4987-eb8e-da2c0bacd399"
   },
   "outputs": [
    {
     "name": "stderr",
     "output_type": "stream",
     "text": [
      "C:\\Users\\Builder\\Anaconda3\\lib\\site-packages\\sklearn\\preprocessing\\data.py:355: RuntimeWarning: All-NaN slice encountered\n",
      "  data_min = np.nanmin(X, axis=0)\n",
      "C:\\Users\\Builder\\Anaconda3\\lib\\site-packages\\sklearn\\preprocessing\\data.py:356: RuntimeWarning: All-NaN slice encountered\n",
      "  data_max = np.nanmax(X, axis=0)\n"
     ]
    },
    {
     "name": "stdout",
     "output_type": "stream",
     "text": [
      "MinMaxScaler(copy=True, feature_range=(1, 5))\n"
     ]
    }
   ],
   "source": [
    "from sklearn.preprocessing import MinMaxScaler\n",
    "from numpy import *\n",
    "\n",
    "X  = test_item_rating_finale.copy() \n",
    "X = X[X > 0]\n",
    "\n",
    "scaler = MinMaxScaler(feature_range=(1, 5))\n",
    "print(scaler.fit(X))\n",
    "y = (scaler.transform(X))\n",
    "\n",
    "\n",
    "test_ = test.pivot(\n",
    "    index='review_profilename',\n",
    "    columns='beerid',\n",
    "    values='total_reviews'\n",
    ")\n",
    "\n",
    "# Finding total non-NaN value\n",
    "count_non_NaN = np.count_nonzero(~np.isnan(y))"
   ]
  },
  {
   "cell_type": "code",
   "execution_count": 310,
   "metadata": {
    "colab": {
     "base_uri": "https://localhost:8080/",
     "height": 34
    },
    "colab_type": "code",
    "id": "CCEr91Swldp2",
    "outputId": "edd21341-6514-41b3-9b1c-dd10f5e35ba2"
   },
   "outputs": [
    {
     "data": {
      "text/plain": [
       "2.265616680152485"
      ]
     },
     "execution_count": 310,
     "metadata": {},
     "output_type": "execute_result"
    }
   ],
   "source": [
    "rmse = (sum(sum((test_ - y )**2))/count_non_NaN)**0.5\n",
    "rmse"
   ]
  },
  {
   "cell_type": "markdown",
   "metadata": {
    "colab_type": "text",
    "id": "GXudVonWldqD"
   },
   "source": [
    "Done."
   ]
  },
  {
   "cell_type": "code",
   "execution_count": 311,
   "metadata": {
    "colab": {
     "base_uri": "https://localhost:8080/",
     "height": 136
    },
    "colab_type": "code",
    "id": "n6YB6Rg0oKQi",
    "outputId": "19b1bad4-732b-4584-892c-420cbf7b6678"
   },
   "outputs": [
    {
     "data": {
      "text/plain": [
       "beerid\n",
       "412     23.305077\n",
       "34      22.166173\n",
       "4083    22.126656\n",
       "1708    21.975367\n",
       "88      20.722039\n",
       "Name: cokes, dtype: float64"
      ]
     },
     "execution_count": 311,
     "metadata": {},
     "output_type": "execute_result"
    }
   ],
   "source": [
    "#more questions.....\n",
    "user_rating_final.loc['cokes'].sort_values(ascending=False).head(5)"
   ]
  },
  {
   "cell_type": "code",
   "execution_count": 312,
   "metadata": {
    "colab": {
     "base_uri": "https://localhost:8080/",
     "height": 136
    },
    "colab_type": "code",
    "id": "eG0BNhTpoKL9",
    "outputId": "05b4b73b-7f25-4492-a2b8-73e0c1cb9cb1"
   },
   "outputs": [
    {
     "data": {
      "text/plain": [
       "beerid\n",
       "2093    24.508917\n",
       "1093    23.627696\n",
       "412     22.455310\n",
       "3158    21.214847\n",
       "88      20.454742\n",
       "Name: genog, dtype: float64"
      ]
     },
     "execution_count": 312,
     "metadata": {},
     "output_type": "execute_result"
    }
   ],
   "source": [
    "user_rating_final.loc['genog'].sort_values(ascending=False).head(5)"
   ]
  },
  {
   "cell_type": "code",
   "execution_count": 313,
   "metadata": {
    "colab": {
     "base_uri": "https://localhost:8080/",
     "height": 136
    },
    "colab_type": "code",
    "id": "ZIdJ98JwoKHV",
    "outputId": "bc197d8b-b936-433c-ce1a-0b42415eaba7"
   },
   "outputs": [
    {
     "data": {
      "text/plain": [
       "beerid\n",
       "412     39.598289\n",
       "4083    36.590898\n",
       "1904    34.473749\n",
       "92      33.520642\n",
       "1708    32.877349\n",
       "Name: giblet, dtype: float64"
      ]
     },
     "execution_count": 313,
     "metadata": {},
     "output_type": "execute_result"
    }
   ],
   "source": [
    "user_rating_final.loc['giblet'].sort_values(ascending=False).head(5)\n"
   ]
  },
  {
   "cell_type": "code",
   "execution_count": 314,
   "metadata": {
    "colab": {
     "base_uri": "https://localhost:8080/",
     "height": 136
    },
    "colab_type": "code",
    "id": "DRUNtsw7oJ74",
    "outputId": "d80d8a63-3211-4a8a-a5ad-54e463604b51"
   },
   "outputs": [
    {
     "data": {
      "text/plain": [
       "beerid\n",
       "412     23.305077\n",
       "34      22.166173\n",
       "4083    22.126656\n",
       "1708    21.975367\n",
       "88      20.722039\n",
       "Name: cokes, dtype: float64"
      ]
     },
     "execution_count": 314,
     "metadata": {},
     "output_type": "execute_result"
    }
   ],
   "source": [
    "item_rating_finale.loc['cokes'].sort_values(ascending=False).head(5)"
   ]
  },
  {
   "cell_type": "code",
   "execution_count": 315,
   "metadata": {
    "colab": {
     "base_uri": "https://localhost:8080/",
     "height": 136
    },
    "colab_type": "code",
    "id": "faU2IszJ09ZT",
    "outputId": "061a132d-6141-4b3d-c30d-7621a2918dd1"
   },
   "outputs": [
    {
     "data": {
      "text/plain": [
       "beerid\n",
       "2093    24.508917\n",
       "1093    23.627696\n",
       "412     22.455310\n",
       "3158    21.214847\n",
       "88      20.454742\n",
       "Name: genog, dtype: float64"
      ]
     },
     "execution_count": 315,
     "metadata": {},
     "output_type": "execute_result"
    }
   ],
   "source": [
    "item_rating_finale.loc['genog'].sort_values(ascending=False).head(5)"
   ]
  },
  {
   "cell_type": "code",
   "execution_count": 316,
   "metadata": {
    "colab": {
     "base_uri": "https://localhost:8080/",
     "height": 136
    },
    "colab_type": "code",
    "id": "3qA78TXX1B3L",
    "outputId": "aba1c0a4-f16b-468d-8d5f-4b34c75c4811"
   },
   "outputs": [
    {
     "data": {
      "text/plain": [
       "beerid\n",
       "412     39.598289\n",
       "4083    36.590898\n",
       "1904    34.473749\n",
       "92      33.520642\n",
       "1708    32.877349\n",
       "Name: giblet, dtype: float64"
      ]
     },
     "execution_count": 316,
     "metadata": {},
     "output_type": "execute_result"
    }
   ],
   "source": [
    "item_rating_finale.loc['giblet'].sort_values(ascending=False).head(5)"
   ]
  },
  {
   "cell_type": "markdown",
   "metadata": {},
   "source": [
    "Thats all.................."
   ]
  },
  {
   "cell_type": "markdown",
   "metadata": {},
   "source": []
  },
  {
   "cell_type": "code",
   "execution_count": null,
   "metadata": {},
   "outputs": [],
   "source": []
  }
 ],
 "metadata": {
  "colab": {
   "collapsed_sections": [
    "HEQioR_IVng5",
    "y8KcREuWVnhR"
   ],
   "machine_shape": "hm",
   "name": "Beer Recommend System v2.1 Non_User_Assignment.ipynb",
   "provenance": [],
   "version": "0.3.2"
  },
  "kernelspec": {
   "display_name": "Python 3",
   "language": "python",
   "name": "python3"
  },
  "language_info": {
   "codemirror_mode": {
    "name": "ipython",
    "version": 3
   },
   "file_extension": ".py",
   "mimetype": "text/x-python",
   "name": "python",
   "nbconvert_exporter": "python",
   "pygments_lexer": "ipython3",
   "version": "3.7.4"
  }
 },
 "nbformat": 4,
 "nbformat_minor": 1
}
